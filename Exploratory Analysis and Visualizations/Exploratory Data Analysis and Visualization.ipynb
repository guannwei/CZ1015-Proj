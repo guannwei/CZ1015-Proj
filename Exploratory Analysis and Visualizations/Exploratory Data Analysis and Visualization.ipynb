{
 "cells": [
  {
   "cell_type": "markdown",
   "metadata": {},
   "source": [
    "## Exploratory Data Analysis and Visualization"
   ]
  },
  {
   "cell_type": "code",
   "execution_count": 3,
   "metadata": {},
   "outputs": [
    {
     "ename": "ModuleNotFoundError",
     "evalue": "No module named 'plotly'",
     "output_type": "error",
     "traceback": [
      "\u001b[1;31m---------------------------------------------------------------------------\u001b[0m",
      "\u001b[1;31mModuleNotFoundError\u001b[0m                       Traceback (most recent call last)",
      "\u001b[1;32m<ipython-input-3-caa287823db7>\u001b[0m in \u001b[0;36m<module>\u001b[1;34m\u001b[0m\n\u001b[0;32m      6\u001b[0m \u001b[0msb\u001b[0m\u001b[1;33m.\u001b[0m\u001b[0mset\u001b[0m\u001b[1;33m(\u001b[0m\u001b[1;33m)\u001b[0m \u001b[1;31m# set the default Seaborn style for graphics\u001b[0m\u001b[1;33m\u001b[0m\u001b[1;33m\u001b[0m\u001b[0m\n\u001b[0;32m      7\u001b[0m \u001b[1;33m\u001b[0m\u001b[0m\n\u001b[1;32m----> 8\u001b[1;33m \u001b[1;32mimport\u001b[0m \u001b[0mplotly\u001b[0m \u001b[1;32mas\u001b[0m \u001b[0mpy\u001b[0m\u001b[1;33m\u001b[0m\u001b[1;33m\u001b[0m\u001b[0m\n\u001b[0m",
      "\u001b[1;31mModuleNotFoundError\u001b[0m: No module named 'plotly'"
     ]
    }
   ],
   "source": [
    "# Basic Libraries\n",
    "import numpy as np\n",
    "import pandas as pd\n",
    "import seaborn as sb\n",
    "import matplotlib.pyplot as plt # we only need pyplot\n",
    "sb.set() # set the default Seaborn style for graphics\n",
    "\n",
    "import plotly as py"
   ]
  },
  {
   "cell_type": "code",
   "execution_count": null,
   "metadata": {},
   "outputs": [],
   "source": [
    "aviation = pd.read_csv('../Data/AviationFinal.csv')\n",
    "aviation.head()"
   ]
  },
  {
   "cell_type": "code",
   "execution_count": null,
   "metadata": {},
   "outputs": [],
   "source": [
    "aviation.info()"
   ]
  },
  {
   "cell_type": "markdown",
   "metadata": {},
   "source": [
    "### Count plots for categorical data"
   ]
  },
  {
   "cell_type": "code",
   "execution_count": null,
   "metadata": {},
   "outputs": [],
   "source": [
    "f, axes = plt.subplots(3, 2, figsize=(20,20))\n",
    "\n",
    "sb.countplot(x='InvestigationType',data=aviation, ax=axes[0,0])\n",
    "sb.countplot(x='WeatherCondition',data=aviation, ax=axes[0,1])\n",
    "engine = sb.countplot(x='EngineType',data=aviation, ax=axes[2,0])\n",
    "engine.set_xticklabels(engine.get_xticklabels(),rotation=90)\n",
    "phase = sb.countplot(x='BroadPhaseOfFlight',data=aviation, ax=axes[2,1])\n",
    "phase.set_xticklabels(phase.get_xticklabels(),rotation=90)\n",
    "sb.countplot(x='AircraftDamage',data=aviation, ax=axes[1,0])\n",
    "sb.countplot(x='Month',data=aviation, ax=axes[1,1])"
   ]
  },
  {
   "cell_type": "markdown",
   "metadata": {},
   "source": [
    "### Strip plots showing Total Injuries by categorical values"
   ]
  },
  {
   "cell_type": "code",
   "execution_count": null,
   "metadata": {},
   "outputs": [],
   "source": [
    "f, axes = plt.subplots(2, 2, figsize=(20,20))\n",
    "engine = sb.stripplot(x=\"EngineType\",y=\"TotalInjuries\", data=aviation, palette=\"coolwarm\",ax=axes[1,0])\n",
    "engine.set_xticklabels(engine.get_xticklabels(),rotation=90)\n",
    "phase = sb.stripplot(x=\"BroadPhaseOfFlight\",y=\"TotalInjuries\", data=aviation, palette=\"coolwarm\",ax=axes[1,1])\n",
    "phase.set_xticklabels(phase.get_xticklabels(),rotation=90)\n",
    "sb.stripplot(x=\"Month\",y=\"TotalInjuries\", data=aviation, palette=\"coolwarm\",ax=axes[0,0])\n",
    "sb.stripplot(x=\"WeatherCondition\",y=\"TotalInjuries\", data=aviation, palette=\"coolwarm\",ax=axes[0,1])"
   ]
  },
  {
   "cell_type": "code",
   "execution_count": null,
   "metadata": {},
   "outputs": [],
   "source": [
    "f, axes = plt.subplots(3, 2, figsize=(20,20))\n",
    "\n",
    "sb.stripplot(x=\"AircraftDamage\",y=\"TotalInjuries\", data=aviation, palette=\"coolwarm\", ax=axes[0,0])\n",
    "sb.stripplot(x=\"AircraftDamage\",y=\"TotalFatalInjuries\", data=aviation, palette=\"coolwarm\", ax=axes[0,1])\n",
    "sb.stripplot(x=\"AircraftDamage\",y=\"TotalSeriousInjuries\", data=aviation, palette=\"coolwarm\", ax=axes[1,0])\n",
    "sb.stripplot(x=\"AircraftDamage\",y=\"TotalMinorInjuries\", data=aviation, palette=\"coolwarm\", ax=axes[1,1])\n",
    "sb.stripplot(x=\"AircraftDamage\",y=\"TotalUninjured\", data=aviation, palette=\"coolwarm\", ax=axes[2,0])"
   ]
  },
  {
   "cell_type": "markdown",
   "metadata": {},
   "source": [
    "### Strip plots showing total injuries based on time and aircraft damage"
   ]
  },
  {
   "cell_type": "code",
   "execution_count": null,
   "metadata": {},
   "outputs": [],
   "source": [
    "f, axes = plt.subplots(1, 2, figsize=(20,10))\n",
    "\n",
    "year = sb.stripplot(x=\"Year\",y=\"TotalInjuries\",data=aviation,hue='AircraftDamage',palette='Set1', ax=axes[0])\n",
    "year.set_xticklabels(year.get_xticklabels(),rotation=90)\n",
    "sb.stripplot(x=\"Month\",y=\"TotalInjuries\",data=aviation,hue='AircraftDamage',palette='Set1', ax=axes[1])"
   ]
  },
  {
   "cell_type": "markdown",
   "metadata": {},
   "source": [
    "### Line plots showing total injuries over time"
   ]
  },
  {
   "cell_type": "code",
   "execution_count": null,
   "metadata": {},
   "outputs": [],
   "source": [
    "f, axes = plt.subplots(1, 2, figsize=(20,10))\n",
    "year = sb.lineplot(x=\"Year\", y=\"TotalInjuries\",hue=\"AircraftDamage\", data=aviation, ax=axes[0])\n",
    "year.set_xticklabels(year.get_xticklabels(),rotation=90)\n",
    "sb.lineplot(x=\"Month\", y=\"TotalInjuries\",hue=\"AircraftDamage\", data=aviation, ax=axes[1])"
   ]
  },
  {
   "cell_type": "markdown",
   "metadata": {},
   "source": [
    "### Grouping investigation types with weather conditions"
   ]
  },
  {
   "cell_type": "code",
   "execution_count": null,
   "metadata": {},
   "outputs": [],
   "source": [
    "pd.DataFrame(aviation.groupby(['WeatherCondition', 'InvestigationType']).size())"
   ]
  },
  {
   "cell_type": "markdown",
   "metadata": {},
   "source": [
    "### Grouping investigation types with engine types"
   ]
  },
  {
   "cell_type": "code",
   "execution_count": null,
   "metadata": {},
   "outputs": [],
   "source": [
    "pd.DataFrame(aviation.groupby(['EngineType', 'InvestigationType']).size())"
   ]
  },
  {
   "cell_type": "markdown",
   "metadata": {},
   "source": [
    "### Grouping investigation type, weather condition by engine type"
   ]
  },
  {
   "cell_type": "code",
   "execution_count": null,
   "metadata": {},
   "outputs": [],
   "source": [
    "pd.DataFrame(aviation.groupby(['EngineType', 'WeatherCondition', 'InvestigationType']).size())"
   ]
  },
  {
   "cell_type": "code",
   "execution_count": null,
   "metadata": {},
   "outputs": [],
   "source": []
  }
 ],
 "metadata": {
  "kernelspec": {
   "display_name": "Python 3",
   "language": "python",
   "name": "python3"
  },
  "language_info": {
   "codemirror_mode": {
    "name": "ipython",
    "version": 3
   },
   "file_extension": ".py",
   "mimetype": "text/x-python",
   "name": "python",
   "nbconvert_exporter": "python",
   "pygments_lexer": "ipython3",
   "version": "3.7.4"
  }
 },
 "nbformat": 4,
 "nbformat_minor": 2
}

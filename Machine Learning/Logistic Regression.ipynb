{
 "cells": [
  {
   "cell_type": "markdown",
   "metadata": {},
   "source": [
    "# Logistic Regression\n",
    "> Predict aircraft damage based on columns and see which columns affect it more"
   ]
  },
  {
   "cell_type": "markdown",
   "metadata": {},
   "source": [
    "### Import libraries"
   ]
  },
  {
   "cell_type": "code",
   "execution_count": 14,
   "metadata": {},
   "outputs": [],
   "source": [
    "import numpy as np\n",
    "import pandas as pd\n",
    "import seaborn as sb\n",
    "import matplotlib.pyplot as plt\n",
    "sb.set() \n",
    "import warnings\n",
    "warnings.filterwarnings('ignore')\n",
    "\n",
    "from sklearn.metrics import accuracy_score\n",
    "from sklearn.metrics import classification_report\n",
    "\n",
    "from sklearn.model_selection import train_test_split\n",
    "from sklearn.model_selection import StratifiedKFold\n",
    "from sklearn.linear_model import LogisticRegression\n",
    "from sklearn.feature_selection import RFECV"
   ]
  },
  {
   "cell_type": "code",
   "execution_count": 15,
   "metadata": {},
   "outputs": [],
   "source": [
    "aviation = pd.read_csv('../Data/AviationFinal.csv')"
   ]
  },
  {
   "cell_type": "markdown",
   "metadata": {},
   "source": [
    "### Encode categorical values "
   ]
  },
  {
   "cell_type": "code",
   "execution_count": 16,
   "metadata": {},
   "outputs": [],
   "source": [
    "# Use get dummies to encode categorical values \n",
    "weatherCondition = pd.get_dummies(aviation[\"WeatherCondition\"], prefix_sep='_', drop_first=True)\n",
    "phase = pd.get_dummies(aviation[\"BroadPhaseOfFlight\"], prefix_sep='_', drop_first=True)\n",
    "purposeOfFlight = pd.get_dummies(aviation[\"PurposeOfFlight\"], prefix_sep='_', drop_first=True)\n",
    "engineType = pd.get_dummies(aviation[\"EngineType\"], prefix_sep='_', drop_first=True)\n",
    "month = aviation[\"Month\"]\n",
    "aircraftDamage = pd.get_dummies(aviation[\"AircraftDamage\"], prefix_sep='_', drop_first=True)"
   ]
  },
  {
   "cell_type": "markdown",
   "metadata": {},
   "source": [
    "### Combine all columns to predict aircraft damage and split into test and train"
   ]
  },
  {
   "cell_type": "code",
   "execution_count": 17,
   "metadata": {},
   "outputs": [
    {
     "data": {
      "text/html": [
       "<div>\n",
       "<style scoped>\n",
       "    .dataframe tbody tr th:only-of-type {\n",
       "        vertical-align: middle;\n",
       "    }\n",
       "\n",
       "    .dataframe tbody tr th {\n",
       "        vertical-align: top;\n",
       "    }\n",
       "\n",
       "    .dataframe thead th {\n",
       "        text-align: right;\n",
       "    }\n",
       "</style>\n",
       "<table border=\"1\" class=\"dataframe\">\n",
       "  <thead>\n",
       "    <tr style=\"text-align: right;\">\n",
       "      <th></th>\n",
       "      <th>UNK</th>\n",
       "      <th>VMC</th>\n",
       "      <th>CLIMB</th>\n",
       "      <th>CRUISE</th>\n",
       "      <th>DESCENT</th>\n",
       "      <th>GO-AROUND</th>\n",
       "      <th>LANDING</th>\n",
       "      <th>MANEUVERING</th>\n",
       "      <th>OTHER</th>\n",
       "      <th>STANDING</th>\n",
       "      <th>...</th>\n",
       "      <th>REC, TJ, TJ</th>\n",
       "      <th>Reciprocating</th>\n",
       "      <th>TF, TJ</th>\n",
       "      <th>TJ, REC, REC, TJ</th>\n",
       "      <th>Turbo Fan</th>\n",
       "      <th>Turbo Jet</th>\n",
       "      <th>Turbo Prop</th>\n",
       "      <th>Turbo Shaft</th>\n",
       "      <th>Unknown</th>\n",
       "      <th>Month</th>\n",
       "    </tr>\n",
       "  </thead>\n",
       "  <tbody>\n",
       "    <tr>\n",
       "      <td>0</td>\n",
       "      <td>1</td>\n",
       "      <td>0</td>\n",
       "      <td>0</td>\n",
       "      <td>0</td>\n",
       "      <td>0</td>\n",
       "      <td>0</td>\n",
       "      <td>0</td>\n",
       "      <td>1</td>\n",
       "      <td>0</td>\n",
       "      <td>0</td>\n",
       "      <td>...</td>\n",
       "      <td>0</td>\n",
       "      <td>0</td>\n",
       "      <td>0</td>\n",
       "      <td>0</td>\n",
       "      <td>0</td>\n",
       "      <td>0</td>\n",
       "      <td>0</td>\n",
       "      <td>1</td>\n",
       "      <td>0</td>\n",
       "      <td>11</td>\n",
       "    </tr>\n",
       "    <tr>\n",
       "      <td>1</td>\n",
       "      <td>0</td>\n",
       "      <td>1</td>\n",
       "      <td>0</td>\n",
       "      <td>0</td>\n",
       "      <td>0</td>\n",
       "      <td>0</td>\n",
       "      <td>1</td>\n",
       "      <td>0</td>\n",
       "      <td>0</td>\n",
       "      <td>0</td>\n",
       "      <td>...</td>\n",
       "      <td>0</td>\n",
       "      <td>0</td>\n",
       "      <td>0</td>\n",
       "      <td>0</td>\n",
       "      <td>0</td>\n",
       "      <td>0</td>\n",
       "      <td>0</td>\n",
       "      <td>0</td>\n",
       "      <td>1</td>\n",
       "      <td>11</td>\n",
       "    </tr>\n",
       "    <tr>\n",
       "      <td>2</td>\n",
       "      <td>0</td>\n",
       "      <td>1</td>\n",
       "      <td>0</td>\n",
       "      <td>0</td>\n",
       "      <td>0</td>\n",
       "      <td>0</td>\n",
       "      <td>0</td>\n",
       "      <td>0</td>\n",
       "      <td>0</td>\n",
       "      <td>0</td>\n",
       "      <td>...</td>\n",
       "      <td>0</td>\n",
       "      <td>1</td>\n",
       "      <td>0</td>\n",
       "      <td>0</td>\n",
       "      <td>0</td>\n",
       "      <td>0</td>\n",
       "      <td>0</td>\n",
       "      <td>0</td>\n",
       "      <td>0</td>\n",
       "      <td>11</td>\n",
       "    </tr>\n",
       "    <tr>\n",
       "      <td>3</td>\n",
       "      <td>0</td>\n",
       "      <td>1</td>\n",
       "      <td>0</td>\n",
       "      <td>0</td>\n",
       "      <td>0</td>\n",
       "      <td>0</td>\n",
       "      <td>0</td>\n",
       "      <td>1</td>\n",
       "      <td>0</td>\n",
       "      <td>0</td>\n",
       "      <td>...</td>\n",
       "      <td>0</td>\n",
       "      <td>1</td>\n",
       "      <td>0</td>\n",
       "      <td>0</td>\n",
       "      <td>0</td>\n",
       "      <td>0</td>\n",
       "      <td>0</td>\n",
       "      <td>0</td>\n",
       "      <td>0</td>\n",
       "      <td>12</td>\n",
       "    </tr>\n",
       "    <tr>\n",
       "      <td>4</td>\n",
       "      <td>0</td>\n",
       "      <td>1</td>\n",
       "      <td>0</td>\n",
       "      <td>0</td>\n",
       "      <td>0</td>\n",
       "      <td>0</td>\n",
       "      <td>0</td>\n",
       "      <td>0</td>\n",
       "      <td>0</td>\n",
       "      <td>0</td>\n",
       "      <td>...</td>\n",
       "      <td>0</td>\n",
       "      <td>1</td>\n",
       "      <td>0</td>\n",
       "      <td>0</td>\n",
       "      <td>0</td>\n",
       "      <td>0</td>\n",
       "      <td>0</td>\n",
       "      <td>0</td>\n",
       "      <td>0</td>\n",
       "      <td>12</td>\n",
       "    </tr>\n",
       "    <tr>\n",
       "      <td>...</td>\n",
       "      <td>...</td>\n",
       "      <td>...</td>\n",
       "      <td>...</td>\n",
       "      <td>...</td>\n",
       "      <td>...</td>\n",
       "      <td>...</td>\n",
       "      <td>...</td>\n",
       "      <td>...</td>\n",
       "      <td>...</td>\n",
       "      <td>...</td>\n",
       "      <td>...</td>\n",
       "      <td>...</td>\n",
       "      <td>...</td>\n",
       "      <td>...</td>\n",
       "      <td>...</td>\n",
       "      <td>...</td>\n",
       "      <td>...</td>\n",
       "      <td>...</td>\n",
       "      <td>...</td>\n",
       "      <td>...</td>\n",
       "      <td>...</td>\n",
       "    </tr>\n",
       "    <tr>\n",
       "      <td>79136</td>\n",
       "      <td>0</td>\n",
       "      <td>1</td>\n",
       "      <td>0</td>\n",
       "      <td>0</td>\n",
       "      <td>0</td>\n",
       "      <td>0</td>\n",
       "      <td>0</td>\n",
       "      <td>0</td>\n",
       "      <td>0</td>\n",
       "      <td>0</td>\n",
       "      <td>...</td>\n",
       "      <td>0</td>\n",
       "      <td>0</td>\n",
       "      <td>0</td>\n",
       "      <td>0</td>\n",
       "      <td>0</td>\n",
       "      <td>0</td>\n",
       "      <td>0</td>\n",
       "      <td>0</td>\n",
       "      <td>1</td>\n",
       "      <td>2</td>\n",
       "    </tr>\n",
       "    <tr>\n",
       "      <td>79137</td>\n",
       "      <td>0</td>\n",
       "      <td>0</td>\n",
       "      <td>0</td>\n",
       "      <td>1</td>\n",
       "      <td>0</td>\n",
       "      <td>0</td>\n",
       "      <td>0</td>\n",
       "      <td>0</td>\n",
       "      <td>0</td>\n",
       "      <td>0</td>\n",
       "      <td>...</td>\n",
       "      <td>0</td>\n",
       "      <td>1</td>\n",
       "      <td>0</td>\n",
       "      <td>0</td>\n",
       "      <td>0</td>\n",
       "      <td>0</td>\n",
       "      <td>0</td>\n",
       "      <td>0</td>\n",
       "      <td>0</td>\n",
       "      <td>6</td>\n",
       "    </tr>\n",
       "    <tr>\n",
       "      <td>79138</td>\n",
       "      <td>0</td>\n",
       "      <td>0</td>\n",
       "      <td>0</td>\n",
       "      <td>1</td>\n",
       "      <td>0</td>\n",
       "      <td>0</td>\n",
       "      <td>0</td>\n",
       "      <td>0</td>\n",
       "      <td>0</td>\n",
       "      <td>0</td>\n",
       "      <td>...</td>\n",
       "      <td>0</td>\n",
       "      <td>1</td>\n",
       "      <td>0</td>\n",
       "      <td>0</td>\n",
       "      <td>0</td>\n",
       "      <td>0</td>\n",
       "      <td>0</td>\n",
       "      <td>0</td>\n",
       "      <td>0</td>\n",
       "      <td>8</td>\n",
       "    </tr>\n",
       "    <tr>\n",
       "      <td>79139</td>\n",
       "      <td>1</td>\n",
       "      <td>0</td>\n",
       "      <td>0</td>\n",
       "      <td>0</td>\n",
       "      <td>0</td>\n",
       "      <td>0</td>\n",
       "      <td>0</td>\n",
       "      <td>0</td>\n",
       "      <td>0</td>\n",
       "      <td>0</td>\n",
       "      <td>...</td>\n",
       "      <td>0</td>\n",
       "      <td>1</td>\n",
       "      <td>0</td>\n",
       "      <td>0</td>\n",
       "      <td>0</td>\n",
       "      <td>0</td>\n",
       "      <td>0</td>\n",
       "      <td>0</td>\n",
       "      <td>0</td>\n",
       "      <td>7</td>\n",
       "    </tr>\n",
       "    <tr>\n",
       "      <td>79140</td>\n",
       "      <td>1</td>\n",
       "      <td>0</td>\n",
       "      <td>0</td>\n",
       "      <td>1</td>\n",
       "      <td>0</td>\n",
       "      <td>0</td>\n",
       "      <td>0</td>\n",
       "      <td>0</td>\n",
       "      <td>0</td>\n",
       "      <td>0</td>\n",
       "      <td>...</td>\n",
       "      <td>0</td>\n",
       "      <td>1</td>\n",
       "      <td>0</td>\n",
       "      <td>0</td>\n",
       "      <td>0</td>\n",
       "      <td>0</td>\n",
       "      <td>0</td>\n",
       "      <td>0</td>\n",
       "      <td>0</td>\n",
       "      <td>10</td>\n",
       "    </tr>\n",
       "  </tbody>\n",
       "</table>\n",
       "<p>79141 rows × 48 columns</p>\n",
       "</div>"
      ],
      "text/plain": [
       "       UNK  VMC  CLIMB  CRUISE  DESCENT  GO-AROUND  LANDING  MANEUVERING  \\\n",
       "0        1    0      0       0        0          0        0            1   \n",
       "1        0    1      0       0        0          0        1            0   \n",
       "2        0    1      0       0        0          0        0            0   \n",
       "3        0    1      0       0        0          0        0            1   \n",
       "4        0    1      0       0        0          0        0            0   \n",
       "...    ...  ...    ...     ...      ...        ...      ...          ...   \n",
       "79136    0    1      0       0        0          0        0            0   \n",
       "79137    0    0      0       1        0          0        0            0   \n",
       "79138    0    0      0       1        0          0        0            0   \n",
       "79139    1    0      0       0        0          0        0            0   \n",
       "79140    1    0      0       1        0          0        0            0   \n",
       "\n",
       "       OTHER  STANDING  ...  REC, TJ, TJ  Reciprocating  TF, TJ  \\\n",
       "0          0         0  ...            0              0       0   \n",
       "1          0         0  ...            0              0       0   \n",
       "2          0         0  ...            0              1       0   \n",
       "3          0         0  ...            0              1       0   \n",
       "4          0         0  ...            0              1       0   \n",
       "...      ...       ...  ...          ...            ...     ...   \n",
       "79136      0         0  ...            0              0       0   \n",
       "79137      0         0  ...            0              1       0   \n",
       "79138      0         0  ...            0              1       0   \n",
       "79139      0         0  ...            0              1       0   \n",
       "79140      0         0  ...            0              1       0   \n",
       "\n",
       "       TJ, REC, REC, TJ  Turbo Fan  Turbo Jet  Turbo Prop  Turbo Shaft  \\\n",
       "0                     0          0          0           0            1   \n",
       "1                     0          0          0           0            0   \n",
       "2                     0          0          0           0            0   \n",
       "3                     0          0          0           0            0   \n",
       "4                     0          0          0           0            0   \n",
       "...                 ...        ...        ...         ...          ...   \n",
       "79136                 0          0          0           0            0   \n",
       "79137                 0          0          0           0            0   \n",
       "79138                 0          0          0           0            0   \n",
       "79139                 0          0          0           0            0   \n",
       "79140                 0          0          0           0            0   \n",
       "\n",
       "       Unknown  Month  \n",
       "0            0     11  \n",
       "1            1     11  \n",
       "2            0     11  \n",
       "3            0     12  \n",
       "4            0     12  \n",
       "...        ...    ...  \n",
       "79136        1      2  \n",
       "79137        0      6  \n",
       "79138        0      8  \n",
       "79139        0      7  \n",
       "79140        0     10  \n",
       "\n",
       "[79141 rows x 48 columns]"
      ]
     },
     "execution_count": 17,
     "metadata": {},
     "output_type": "execute_result"
    }
   ],
   "source": [
    "weatherCondition.reset_index(drop=True, inplace=True)\n",
    "phase.reset_index(drop=True, inplace=True)\n",
    "purposeOfFlight.reset_index(drop=True, inplace=True)\n",
    "engineType.reset_index(drop=True, inplace=True)\n",
    "month.reset_index(drop=True, inplace=True)\n",
    "\n",
    "train = pd.concat([weatherCondition, phase, purposeOfFlight, engineType, month],axis=1)\n",
    "train_y = aviation[\"AircraftDamage\"]\n",
    "train"
   ]
  },
  {
   "cell_type": "code",
   "execution_count": 18,
   "metadata": {},
   "outputs": [],
   "source": [
    "X_train, X_test, y_train, y_test = train_test_split(train, train_y, test_size=0.30)"
   ]
  },
  {
   "cell_type": "markdown",
   "metadata": {},
   "source": [
    "### Fit into logistic regression model"
   ]
  },
  {
   "cell_type": "code",
   "execution_count": 19,
   "metadata": {},
   "outputs": [
    {
     "data": {
      "text/plain": [
       "LogisticRegression(C=1.0, class_weight=None, dual=False, fit_intercept=True,\n",
       "                   intercept_scaling=1, l1_ratio=None, max_iter=2828,\n",
       "                   multi_class='multinomial', n_jobs=None, penalty='l2',\n",
       "                   random_state=None, solver='lbfgs', tol=0.0001, verbose=0,\n",
       "                   warm_start=False)"
      ]
     },
     "execution_count": 19,
     "metadata": {},
     "output_type": "execute_result"
    }
   ],
   "source": [
    "logreg = LogisticRegression(solver='lbfgs', max_iter = 2828, multi_class=\"multinomial\")\n",
    "logreg.fit(X_train,y_train)"
   ]
  },
  {
   "cell_type": "markdown",
   "metadata": {},
   "source": [
    "### Print accuracy scores"
   ]
  },
  {
   "cell_type": "code",
   "execution_count": 20,
   "metadata": {},
   "outputs": [
    {
     "name": "stdout",
     "output_type": "stream",
     "text": [
      "              precision    recall  f1-score   support\n",
      "\n",
      "   Destroyed       0.56      0.21      0.31      5226\n",
      "       Minor       0.34      0.07      0.12       720\n",
      " Substantial       0.77      0.95      0.85     17096\n",
      "     Unknown       0.43      0.29      0.34       701\n",
      "\n",
      "    accuracy                           0.74     23743\n",
      "   macro avg       0.53      0.38      0.41     23743\n",
      "weighted avg       0.70      0.74      0.70     23743\n",
      "\n",
      "Mean Accuracy:  0.7444299372446616\n"
     ]
    }
   ],
   "source": [
    "predictions = logreg.predict(X_test)\n",
    "print(classification_report(y_test,predictions))\n",
    "score = logreg.score(X_test, y_test)\n",
    "print(\"Mean Accuracy: \", score)"
   ]
  },
  {
   "cell_type": "markdown",
   "metadata": {},
   "source": [
    "## Recursive Feature Elimination with Cross-validation\n",
    "> To find out the rankings of columns and optimal number of columns. "
   ]
  },
  {
   "cell_type": "code",
   "execution_count": 21,
   "metadata": {},
   "outputs": [
    {
     "name": "stdout",
     "output_type": "stream",
     "text": [
      "Optimal number of features : 28\n"
     ]
    },
    {
     "data": {
      "image/png": "[encoded data removed]",
      "text/plain": [
       "<Figure size 432x288 with 1 Axes>"
      ]
     },
     "metadata": {},
     "output_type": "display_data"
    }
   ],
   "source": [
    "rfecv = RFECV(estimator=logreg, step=1, scoring='f1_weighted', cv = StratifiedKFold(10))\n",
    "rfecv.fit(train, train_y)\n",
    "print(\"Optimal number of features : %d\" % rfecv.n_features_)\n",
    "\n",
    "# Plot number of features VS. cross-validation scores\n",
    "plt.figure()\n",
    "plt.xlabel(\"Number of features selected\")\n",
    "plt.ylabel(\"Cross validation score (nb of correct classifications)\")\n",
    "plt.plot(range(1, len(rfecv.grid_scores_) + 1), rfecv.grid_scores_)\n",
    "plt.show()"
   ]
  },
  {
   "cell_type": "markdown",
   "metadata": {},
   "source": [
    "### Drop non-important features"
   ]
  },
  {
   "cell_type": "code",
   "execution_count": 22,
   "metadata": {},
   "outputs": [],
   "source": [
    "X_train.drop(X_train.columns[np.where(rfecv.support_ == False)[0]], axis=1, inplace = True)\n",
    "X_test.drop(X_test.columns[np.where(rfecv.support_ == False)[0]], axis=1, inplace = True)"
   ]
  },
  {
   "cell_type": "code",
   "execution_count": 23,
   "metadata": {},
   "outputs": [
    {
     "name": "stdout",
     "output_type": "stream",
     "text": [
      "Index(['UNK', 'VMC', 'CLIMB', 'CRUISE', 'DESCENT', 'LANDING', 'MANEUVERING',\n",
      "       'OTHER', 'STANDING', 'TAXI', 'Air Race/Show', 'Banner Tow',\n",
      "       'External Load', 'Ferry', 'Glider Tow', 'Other Work Use',\n",
      "       'Public Aircraft - Federal', 'Public Aircraft - Local',\n",
      "       'Public Aircraft - State', 'Unknown', 'None', 'Reciprocating', 'TF, TJ',\n",
      "       'TJ, REC, REC, TJ', 'Turbo Fan', 'Turbo Jet', 'Turbo Shaft', 'Unknown'],\n",
      "      dtype='object')\n",
      "Index(['UNK', 'VMC', 'CLIMB', 'CRUISE', 'DESCENT', 'LANDING', 'MANEUVERING',\n",
      "       'OTHER', 'STANDING', 'TAXI', 'Air Race/Show', 'Banner Tow',\n",
      "       'External Load', 'Ferry', 'Glider Tow', 'Other Work Use',\n",
      "       'Public Aircraft - Federal', 'Public Aircraft - Local',\n",
      "       'Public Aircraft - State', 'Unknown', 'None', 'Reciprocating', 'TF, TJ',\n",
      "       'TJ, REC, REC, TJ', 'Turbo Fan', 'Turbo Jet', 'Turbo Shaft', 'Unknown'],\n",
      "      dtype='object')\n"
     ]
    }
   ],
   "source": [
    "print(X_train.columns)\n",
    "print(X_test.columns)"
   ]
  },
  {
   "cell_type": "markdown",
   "metadata": {},
   "source": [
    "### Fit into logistic regression again with important features"
   ]
  },
  {
   "cell_type": "code",
   "execution_count": 24,
   "metadata": {},
   "outputs": [
    {
     "data": {
      "text/plain": [
       "LogisticRegression(C=1.0, class_weight=None, dual=False, fit_intercept=True,\n",
       "                   intercept_scaling=1, l1_ratio=None, max_iter=2828,\n",
       "                   multi_class='multinomial', n_jobs=None, penalty='l2',\n",
       "                   random_state=None, solver='lbfgs', tol=0.0001, verbose=0,\n",
       "                   warm_start=False)"
      ]
     },
     "execution_count": 24,
     "metadata": {},
     "output_type": "execute_result"
    }
   ],
   "source": [
    "logRegv2 = LogisticRegression(solver='lbfgs', max_iter = 2828, multi_class=\"multinomial\")\n",
    "logRegv2.fit(X_train, y_train)"
   ]
  },
  {
   "cell_type": "markdown",
   "metadata": {},
   "source": [
    "### Print accuracy scores "
   ]
  },
  {
   "cell_type": "code",
   "execution_count": 25,
   "metadata": {},
   "outputs": [
    {
     "name": "stdout",
     "output_type": "stream",
     "text": [
      "              precision    recall  f1-score   support\n",
      "\n",
      "   Destroyed       0.56      0.22      0.32      5226\n",
      "       Minor       0.36      0.08      0.13       720\n",
      " Substantial       0.77      0.95      0.85     17096\n",
      "     Unknown       0.49      0.23      0.32       701\n",
      "\n",
      "    accuracy                           0.74     23743\n",
      "   macro avg       0.54      0.37      0.40     23743\n",
      "weighted avg       0.70      0.74      0.70     23743\n",
      "\n",
      "Mean Accuracy:  0.7447668786589732\n"
     ]
    }
   ],
   "source": [
    "prediction = logRegv2.predict(X_test)\n",
    "print(classification_report(y_test,prediction))\n",
    "\n",
    "score = logRegv2.score(X_test, y_test)\n",
    "print(\"Mean Accuracy: \", score)"
   ]
  },
  {
   "cell_type": "code",
   "execution_count": null,
   "metadata": {},
   "outputs": [],
   "source": []
  }
 ],
 "metadata": {
  "kernelspec": {
   "display_name": "Python 3",
   "language": "python",
   "name": "python3"
  },
  "language_info": {
   "codemirror_mode": {
    "name": "ipython",
    "version": 3
   },
   "file_extension": ".py",
   "mimetype": "text/x-python",
   "name": "python",
   "nbconvert_exporter": "python",
   "pygments_lexer": "ipython3",
   "version": "3.7.4"
  }
 },
 "nbformat": 4,
 "nbformat_minor": 2
}

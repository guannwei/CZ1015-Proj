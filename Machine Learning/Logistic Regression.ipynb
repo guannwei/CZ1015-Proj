{
 "cells": [
  {
   "cell_type": "markdown",
   "metadata": {},
   "source": [
    "# Logistic Regression\n",
    "> Predict aircraft damage based on columns and see which columns affect it more"
   ]
  },
  {
   "cell_type": "markdown",
   "metadata": {},
   "source": [
    "### Import libraries"
   ]
  },
  {
   "cell_type": "code",
   "execution_count": 17,
   "metadata": {},
   "outputs": [],
   "source": [
    "import numpy as np\n",
    "import pandas as pd\n",
    "import seaborn as sb\n",
    "import matplotlib.pyplot as plt\n",
    "sb.set() \n",
    "import warnings\n",
    "warnings.filterwarnings('ignore')\n",
    "\n",
    "from sklearn.metrics import accuracy_score\n",
    "from sklearn.metrics import classification_report\n",
    "\n",
    "from sklearn.model_selection import train_test_split\n",
    "from sklearn.model_selection import StratifiedKFold\n",
    "from sklearn.linear_model import LogisticRegression\n",
    "from sklearn.feature_selection import RFECV"
   ]
  },
  {
   "cell_type": "code",
   "execution_count": 18,
   "metadata": {},
   "outputs": [],
   "source": [
    "aviation = pd.read_csv('../Data/AviationFinal.csv')"
   ]
  },
  {
   "cell_type": "markdown",
   "metadata": {},
   "source": [
    "#### Encode categorical values "
   ]
  },
  {
   "cell_type": "code",
   "execution_count": 19,
   "metadata": {},
   "outputs": [],
   "source": [
    "# Use Get dummies to encode categorical values \n",
    "weatherCondition = pd.get_dummies(aviation[\"WeatherCondition\"], prefix_sep='_', drop_first=True)\n",
    "phase = pd.get_dummies(aviation[\"BroadPhaseOfFlight\"], prefix_sep='_', drop_first=True)\n",
    "aircraftDamage = pd.get_dummies(aviation[\"AircraftDamage\"], prefix_sep='_', drop_first=True)\n",
    "investigationType = pd.get_dummies(aviation[\"InvestigationType\"], prefix_sep='_', drop_first=True)\n",
    "purposeOfFlight = pd.get_dummies(aviation[\"PurposeOfFlight\"], prefix_sep='_', drop_first=True)\n",
    "engineType = pd.get_dummies(aviation[\"EngineType\"], prefix_sep='_', drop_first=True)"
   ]
  },
  {
   "cell_type": "markdown",
   "metadata": {},
   "source": [
    "#### Combine all columns to predict aircraft damage and split into test and train"
   ]
  },
  {
   "cell_type": "code",
   "execution_count": 20,
   "metadata": {},
   "outputs": [],
   "source": [
    "weatherCondition.reset_index(drop=True, inplace=True)\n",
    "phase.reset_index(drop=True, inplace=True)\n",
    "investigationType.reset_index(drop=True, inplace=True)\n",
    "purposeOfFlight.reset_index(drop=True, inplace=True)\n",
    "engineType.reset_index(drop=True, inplace=True)\n",
    "\n",
    "train = pd.concat([weatherCondition,phase,investigationType,purposeOfFlight, engineType],axis=1)\n",
    "train_y = aviation[\"AircraftDamage\"]\n",
    "X_train, X_test, y_train, y_test = train_test_split(train, train_y, test_size=0.30)"
   ]
  },
  {
   "cell_type": "markdown",
   "metadata": {},
   "source": [
    "#### Fit into logistic regression model"
   ]
  },
  {
   "cell_type": "code",
   "execution_count": 21,
   "metadata": {},
   "outputs": [
    {
     "data": {
      "text/plain": [
       "LogisticRegression(C=1.0, class_weight=None, dual=False, fit_intercept=True,\n",
       "                   intercept_scaling=1, l1_ratio=None, max_iter=2828,\n",
       "                   multi_class='multinomial', n_jobs=None, penalty='l2',\n",
       "                   random_state=None, solver='lbfgs', tol=0.0001, verbose=0,\n",
       "                   warm_start=False)"
      ]
     },
     "execution_count": 21,
     "metadata": {},
     "output_type": "execute_result"
    }
   ],
   "source": [
    "logreg = LogisticRegression(solver='lbfgs', max_iter = 2828, multi_class=\"multinomial\")\n",
    "logreg.fit(X_train,y_train)"
   ]
  },
  {
   "cell_type": "markdown",
   "metadata": {},
   "source": [
    "#### Print accuracy scores"
   ]
  },
  {
   "cell_type": "code",
   "execution_count": 22,
   "metadata": {},
   "outputs": [
    {
     "name": "stdout",
     "output_type": "stream",
     "text": [
      "              precision    recall  f1-score   support\n",
      "\n",
      "   Destroyed       0.62      0.22      0.32      5192\n",
      "       Minor       0.64      0.56      0.60       743\n",
      " Substantial       0.79      0.96      0.86     17092\n",
      "     Unknown       0.53      0.31      0.39       716\n",
      "\n",
      "    accuracy                           0.77     23743\n",
      "   macro avg       0.64      0.51      0.54     23743\n",
      "weighted avg       0.74      0.77      0.72     23743\n",
      "\n",
      "0.7651939519016131\n"
     ]
    }
   ],
   "source": [
    "predictions = logreg.predict(X_test)\n",
    "print(classification_report(y_test,predictions))\n",
    "score = logreg.score(X_test, y_test)\n",
    "print(score)"
   ]
  },
  {
   "cell_type": "markdown",
   "metadata": {},
   "source": [
    "### Recursive Feature Elimination with Cross-validation\n",
    "> To find out the rankings of columns and optimal number of columns. "
   ]
  },
  {
   "cell_type": "code",
   "execution_count": 23,
   "metadata": {},
   "outputs": [
    {
     "name": "stdout",
     "output_type": "stream",
     "text": [
      "Optimal number of features : 21\n"
     ]
    },
    {
     "data": {
      "image/png": "[encoded data removed]",
      "text/plain": [
       "<Figure size 432x288 with 1 Axes>"
      ]
     },
     "metadata": {},
     "output_type": "display_data"
    }
   ],
   "source": [
    "rfecv = RFECV(estimator=logreg, step=1, scoring='f1_weighted', cv = StratifiedKFold(10))\n",
    "rfecv.fit(train, train_y)\n",
    "print(\"Optimal number of features : %d\" % rfecv.n_features_)\n",
    "\n",
    "# Plot number of features VS. cross-validation scores\n",
    "plt.figure()\n",
    "plt.xlabel(\"Number of features selected\")\n",
    "plt.ylabel(\"Cross validation score (nb of correct classifications)\")\n",
    "plt.plot(range(1, len(rfecv.grid_scores_) + 1), rfecv.grid_scores_)\n",
    "plt.show()"
   ]
  },
  {
   "cell_type": "markdown",
   "metadata": {},
   "source": [
    "#### Drop non-important columns"
   ]
  },
  {
   "cell_type": "code",
   "execution_count": 24,
   "metadata": {},
   "outputs": [
    {
     "name": "stdout",
     "output_type": "stream",
     "text": [
      "[ 0  2  3  5  7 10 12 14 15 17 18 19 21 22 23 25 27 28 29 35 37 38 39 40\n",
      " 42 45 46]\n"
     ]
    }
   ],
   "source": [
    "print(np.where(rfecv.support_ == False)[0])\n",
    "# train.drop(train.columns[np.where(rfecv.support_ == False)[0]], axis=1, inplace = True)\n",
    "X_train.drop(X_train.columns[np.where(rfecv.support_ == False)[0]], axis=1, inplace = True)\n",
    "X_test.drop(X_test.columns[np.where(rfecv.support_ == False)[0]], axis=1, inplace = True)"
   ]
  },
  {
   "cell_type": "code",
   "execution_count": 25,
   "metadata": {},
   "outputs": [
    {
     "name": "stdout",
     "output_type": "stream",
     "text": [
      "Index(['VMC', 'DESCENT', 'LANDING', 'OTHER', 'STANDING', 'TAXI', 'Incident',\n",
      "       'Air Race/Show', 'External Load', 'Glider Tow', 'Other Work Use',\n",
      "       'Public Aircraft - Federal', 'Public Aircraft - Local',\n",
      "       'Public Aircraft - State', 'Skydiving', 'Unknown', 'None', 'TF, TJ',\n",
      "       'Turbo Fan', 'Turbo Jet', 'Unknown'],\n",
      "      dtype='object')\n",
      "Index(['VMC', 'DESCENT', 'LANDING', 'OTHER', 'STANDING', 'TAXI', 'Incident',\n",
      "       'Air Race/Show', 'External Load', 'Glider Tow', 'Other Work Use',\n",
      "       'Public Aircraft - Federal', 'Public Aircraft - Local',\n",
      "       'Public Aircraft - State', 'Skydiving', 'Unknown', 'None', 'TF, TJ',\n",
      "       'Turbo Fan', 'Turbo Jet', 'Unknown'],\n",
      "      dtype='object')\n"
     ]
    }
   ],
   "source": [
    "print(X_train.columns)\n",
    "print(X_test.columns)"
   ]
  },
  {
   "cell_type": "code",
   "execution_count": null,
   "metadata": {},
   "outputs": [],
   "source": []
  },
  {
   "cell_type": "markdown",
   "metadata": {},
   "source": [
    "#### Fit into logistic regression again with important columns"
   ]
  },
  {
   "cell_type": "code",
   "execution_count": 26,
   "metadata": {},
   "outputs": [
    {
     "data": {
      "text/plain": [
       "LogisticRegression(C=1.0, class_weight=None, dual=False, fit_intercept=True,\n",
       "                   intercept_scaling=1, l1_ratio=None, max_iter=2828,\n",
       "                   multi_class='multinomial', n_jobs=None, penalty='l2',\n",
       "                   random_state=None, solver='lbfgs', tol=0.0001, verbose=0,\n",
       "                   warm_start=False)"
      ]
     },
     "execution_count": 26,
     "metadata": {},
     "output_type": "execute_result"
    }
   ],
   "source": [
    "logRegv2 = LogisticRegression(solver='lbfgs', max_iter = 2828, multi_class=\"multinomial\")\n",
    "logRegv2.fit(X_train, y_train)"
   ]
  },
  {
   "cell_type": "markdown",
   "metadata": {},
   "source": [
    "#### Print prediction scores "
   ]
  },
  {
   "cell_type": "code",
   "execution_count": 27,
   "metadata": {},
   "outputs": [
    {
     "name": "stdout",
     "output_type": "stream",
     "text": [
      "              precision    recall  f1-score   support\n",
      "\n",
      "   Destroyed       0.60      0.24      0.34      5192\n",
      "       Minor       0.65      0.49      0.56       743\n",
      " Substantial       0.79      0.95      0.86     17092\n",
      "     Unknown       0.52      0.36      0.42       716\n",
      "\n",
      "    accuracy                           0.77     23743\n",
      "   macro avg       0.64      0.51      0.55     23743\n",
      "weighted avg       0.74      0.77      0.73     23743\n",
      "\n",
      "0.7655308933159247\n"
     ]
    }
   ],
   "source": [
    "prediction = logRegv2.predict(X_test)\n",
    "print(classification_report(y_test,prediction))\n",
    "\n",
    "score = logRegv2.score(X_test, y_test)\n",
    "print(score)"
   ]
  },
  {
   "cell_type": "code",
   "execution_count": null,
   "metadata": {},
   "outputs": [],
   "source": []
  }
 ],
 "metadata": {
  "kernelspec": {
   "display_name": "Python 3",
   "language": "python",
   "name": "python3"
  },
  "language_info": {
   "codemirror_mode": {
    "name": "ipython",
    "version": 3
   },
   "file_extension": ".py",
   "mimetype": "text/x-python",
   "name": "python",
   "nbconvert_exporter": "python",
   "pygments_lexer": "ipython3",
   "version": "3.7.4"
  }
 },
 "nbformat": 4,
 "nbformat_minor": 2
}

{
 "cells": [
  {
   "cell_type": "markdown",
   "metadata": {},
   "source": [
    "# Logistic Regression\n",
    "> Predict aircraft damage based on columns and see which columns affect it more"
   ]
  },
  {
   "cell_type": "markdown",
   "metadata": {},
   "source": [
    "### Import libraries"
   ]
  },
  {
   "cell_type": "code",
   "execution_count": 57,
   "metadata": {},
   "outputs": [],
   "source": [
    "import numpy as np\n",
    "import pandas as pd\n",
    "import seaborn as sb\n",
    "import matplotlib.pyplot as plt\n",
    "sb.set() \n",
    "import warnings\n",
    "warnings.filterwarnings('ignore')\n",
    "\n",
    "from sklearn.metrics import accuracy_score\n",
    "from sklearn.metrics import classification_report\n",
    "\n",
    "from sklearn.model_selection import train_test_split\n",
    "from sklearn.model_selection import StratifiedKFold\n",
    "from sklearn.linear_model import LogisticRegression\n",
    "from sklearn.feature_selection import RFECV\n",
    "\n",
    "from sklearn.preprocessing import LabelEncoder"
   ]
  },
  {
   "cell_type": "code",
   "execution_count": 58,
   "metadata": {},
   "outputs": [],
   "source": [
    "X_train=pd.read_csv('../Data/x_train.csv')\n",
    "X_test=pd.read_csv('../Data/x_test.csv')\n",
    "y_train=pd.read_csv('../Data/y_train.csv')\n",
    "y_test=pd.read_csv('../Data/y_test.csv')"
   ]
  },
  {
   "cell_type": "markdown",
   "metadata": {},
   "source": [
    "### Encode categorical values "
   ]
  },
  {
   "cell_type": "code",
   "execution_count": 59,
   "metadata": {},
   "outputs": [],
   "source": [
    "X_train = X_train.drop(['EventID', 'Latitude', 'Longitude', 'TotalFatalInjuries',\n",
    "         'TotalSeriousInjuries', 'TotalMinorInjuries', 'TotalUninjured', 'TotalInjuries',\n",
    "         'EventDate', 'Year', 'Country', 'InjurySeverity', 'InvestigationType', 'ReportStatus'],axis=1)\n",
    "X_test = X_test.drop(['EventID', 'Latitude', 'Longitude', 'TotalFatalInjuries',\n",
    "         'TotalSeriousInjuries', 'TotalMinorInjuries', 'TotalUninjured', 'TotalInjuries',\n",
    "         'EventDate', 'Year', 'Country', 'InjurySeverity', 'InvestigationType', 'ReportStatus'],axis=1)\n",
    "\n",
    "# creating instance of labelencoder\n",
    "labelencoder = LabelEncoder()\n",
    "\n",
    "# Converting categorical values to numerical\n",
    "X_train['WeatherCondition'] = labelencoder.fit_transform(X_train['WeatherCondition'])\n",
    "X_train['BroadPhaseOfFlight'] = labelencoder.fit_transform(X_train['BroadPhaseOfFlight'])\n",
    "X_train['PurposeOfFlight'] = labelencoder.fit_transform(X_train['PurposeOfFlight'])\n",
    "X_train['EngineType'] = labelencoder.fit_transform(X_train['EngineType'])\n",
    "y_train = labelencoder.fit_transform(y_train)\n",
    "\n",
    "X_test['WeatherCondition'] = labelencoder.fit_transform(X_test['WeatherCondition'])\n",
    "X_test['BroadPhaseOfFlight'] = labelencoder.fit_transform(X_test['BroadPhaseOfFlight'])\n",
    "X_test['PurposeOfFlight'] = labelencoder.fit_transform(X_test['PurposeOfFlight'])\n",
    "X_test['EngineType'] = labelencoder.fit_transform(X_test['EngineType'])\n",
    "y_test = labelencoder.fit_transform(y_test)"
   ]
  },
  {
   "cell_type": "markdown",
   "metadata": {},
   "source": [
    "### Fit into logistic regression model"
   ]
  },
  {
   "cell_type": "code",
   "execution_count": 60,
   "metadata": {},
   "outputs": [
    {
     "data": {
      "text/plain": [
       "LogisticRegression(C=1.0, class_weight=None, dual=False, fit_intercept=True,\n",
       "                   intercept_scaling=1, l1_ratio=None, max_iter=2828,\n",
       "                   multi_class='multinomial', n_jobs=None, penalty='l2',\n",
       "                   random_state=None, solver='lbfgs', tol=0.0001, verbose=0,\n",
       "                   warm_start=False)"
      ]
     },
     "execution_count": 60,
     "metadata": {},
     "output_type": "execute_result"
    }
   ],
   "source": [
    "logreg = LogisticRegression(solver='lbfgs', max_iter = 2828, multi_class=\"multinomial\")\n",
    "logreg.fit(X_train,y_train)"
   ]
  },
  {
   "cell_type": "markdown",
   "metadata": {},
   "source": [
    "### Print accuracy scores"
   ]
  },
  {
   "cell_type": "code",
   "execution_count": 61,
   "metadata": {},
   "outputs": [
    {
     "name": "stdout",
     "output_type": "stream",
     "text": [
      "              precision    recall  f1-score   support\n",
      "\n",
      "           0       0.56      0.18      0.28      5200\n",
      "           1       0.00      0.00      0.00       772\n",
      "           2       0.74      0.96      0.84     17053\n",
      "           3       0.00      0.00      0.00       718\n",
      "\n",
      "    accuracy                           0.73     23743\n",
      "   macro avg       0.33      0.29      0.28     23743\n",
      "weighted avg       0.66      0.73      0.66     23743\n",
      "\n",
      "Mean Accuracy:  73.14998104704544\n"
     ]
    }
   ],
   "source": [
    "predictions = logreg.predict(X_test)\n",
    "print(classification_report(y_test,predictions))\n",
    "score = logreg.score(X_test, y_test)\n",
    "print(\"Mean Accuracy: \", score*100)"
   ]
  },
  {
   "cell_type": "markdown",
   "metadata": {},
   "source": [
    "## Recursive Feature Elimination with Cross-validation\n",
    "> To find out the rankings of columns and optimal number of columns. "
   ]
  },
  {
   "cell_type": "code",
   "execution_count": 62,
   "metadata": {},
   "outputs": [
    {
     "name": "stdout",
     "output_type": "stream",
     "text": [
      "Optimal number of features : 3\n"
     ]
    },
    {
     "data": {
      "image/png": "[encoded data removed]",
      "text/plain": [
       "<Figure size 432x288 with 1 Axes>"
      ]
     },
     "metadata": {},
     "output_type": "display_data"
    }
   ],
   "source": [
    "rfecv = RFECV(estimator=logreg, step=1, scoring='f1_weighted', cv = StratifiedKFold(10))\n",
    "rfecv.fit(X_train, y_train)\n",
    "print(\"Optimal number of features : %d\" % rfecv.n_features_)\n",
    "\n",
    "# Plot number of features VS. cross-validation scores\n",
    "plt.figure()\n",
    "plt.xlabel(\"Number of features selected\")\n",
    "plt.ylabel(\"Cross validation score (nb of correct classifications)\")\n",
    "plt.plot(range(1, len(rfecv.grid_scores_) + 1), rfecv.grid_scores_)\n",
    "plt.show()"
   ]
  },
  {
   "cell_type": "markdown",
   "metadata": {},
   "source": [
    "### Drop non-important features"
   ]
  },
  {
   "cell_type": "code",
   "execution_count": 63,
   "metadata": {},
   "outputs": [],
   "source": [
    "X_train.drop(X_train.columns[np.where(rfecv.support_ == False)[0]], axis=1, inplace = True)\n",
    "X_test.drop(X_test.columns[np.where(rfecv.support_ == False)[0]], axis=1, inplace = True)"
   ]
  },
  {
   "cell_type": "code",
   "execution_count": 64,
   "metadata": {},
   "outputs": [
    {
     "name": "stdout",
     "output_type": "stream",
     "text": [
      "Index(['WeatherCondition', 'PurposeOfFlight', 'EngineType'], dtype='object')\n",
      "Index(['WeatherCondition', 'PurposeOfFlight', 'EngineType'], dtype='object')\n"
     ]
    }
   ],
   "source": [
    "print(X_train.columns)\n",
    "print(X_test.columns)"
   ]
  },
  {
   "cell_type": "markdown",
   "metadata": {},
   "source": [
    "### Fit into logistic regression again with important features"
   ]
  },
  {
   "cell_type": "code",
   "execution_count": 65,
   "metadata": {},
   "outputs": [
    {
     "data": {
      "text/plain": [
       "LogisticRegression(C=1.0, class_weight=None, dual=False, fit_intercept=True,\n",
       "                   intercept_scaling=1, l1_ratio=None, max_iter=2828,\n",
       "                   multi_class='multinomial', n_jobs=None, penalty='l2',\n",
       "                   random_state=None, solver='lbfgs', tol=0.0001, verbose=0,\n",
       "                   warm_start=False)"
      ]
     },
     "execution_count": 65,
     "metadata": {},
     "output_type": "execute_result"
    }
   ],
   "source": [
    "logRegv2 = LogisticRegression(solver='lbfgs', max_iter = 2828, multi_class=\"multinomial\")\n",
    "logRegv2.fit(X_train, y_train)"
   ]
  },
  {
   "cell_type": "markdown",
   "metadata": {},
   "source": [
    "### Print accuracy scores "
   ]
  },
  {
   "cell_type": "code",
   "execution_count": 66,
   "metadata": {},
   "outputs": [
    {
     "name": "stdout",
     "output_type": "stream",
     "text": [
      "              precision    recall  f1-score   support\n",
      "\n",
      "           0       0.56      0.19      0.28      5200\n",
      "           1       0.00      0.00      0.00       772\n",
      "           2       0.74      0.96      0.84     17053\n",
      "           3       0.00      0.00      0.00       718\n",
      "\n",
      "    accuracy                           0.73     23743\n",
      "   macro avg       0.33      0.29      0.28     23743\n",
      "weighted avg       0.66      0.73      0.66     23743\n",
      "\n",
      "Mean Accuracy:  73.14576927936655\n"
     ]
    }
   ],
   "source": [
    "prediction = logRegv2.predict(X_test)\n",
    "print(classification_report(y_test,prediction))\n",
    "\n",
    "score = logRegv2.score(X_test, y_test)\n",
    "print(\"Mean Accuracy: \", score*100)"
   ]
  },
  {
   "cell_type": "code",
   "execution_count": null,
   "metadata": {},
   "outputs": [],
   "source": []
  }
 ],
 "metadata": {
  "kernelspec": {
   "display_name": "Python 3",
   "language": "python",
   "name": "python3"
  },
  "language_info": {
   "codemirror_mode": {
    "name": "ipython",
    "version": 3
   },
   "file_extension": ".py",
   "mimetype": "text/x-python",
   "name": "python",
   "nbconvert_exporter": "python",
   "pygments_lexer": "ipython3",
   "version": "3.7.4"
  }
 },
 "nbformat": 4,
 "nbformat_minor": 2
}

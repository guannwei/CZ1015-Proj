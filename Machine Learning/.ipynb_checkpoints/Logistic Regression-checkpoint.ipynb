{
 "cells": [
  {
   "cell_type": "code",
   "execution_count": 1,
   "metadata": {},
   "outputs": [],
   "source": [
    "# Basic Libraries\n",
    "import numpy as np\n",
    "import pandas as pd\n",
    "import seaborn as sb\n",
    "import matplotlib.pyplot as plt # we only need pyplot\n",
    "sb.set() # set the default Seaborn style for graphics\n",
    "\n",
    "from sklearn.metrics import accuracy_score\n",
    "from sklearn.model_selection import train_test_split\n",
    "from sklearn.model_selection import cross_val_score, GridSearchCV\n",
    "from sklearn.linear_model import LogisticRegression\n",
    "from sklearn.tree import DecisionTreeClassifier\n",
    "from sklearn.ensemble import RandomForestClassifier\n",
    "\n",
    "from sklearn.preprocessing import MinMaxScaler"
   ]
  },
  {
   "cell_type": "code",
   "execution_count": 2,
   "metadata": {},
   "outputs": [],
   "source": [
    "aviation = pd.read_csv('../Data/AviationFinal.csv')"
   ]
  },
  {
   "cell_type": "code",
   "execution_count": 3,
   "metadata": {},
   "outputs": [],
   "source": [
    "# Use Get dummies to encode categorical values \n",
    "weatherCondition = pd.get_dummies(aviation[\"WeatherCondition\"], prefix_sep='_', drop_first=True)\n",
    "phase = pd.get_dummies(aviation[\"BroadPhaseOfFlight\"], prefix_sep='_', drop_first=True)\n",
    "aircraftDamage = pd.get_dummies(aviation[\"AircraftDamage\"], prefix_sep='_', drop_first=True)\n",
    "investigationType = pd.get_dummies(aviation[\"InvestigationType\"], prefix_sep='_', drop_first=True)\n",
    "purposeOfFlight = pd.get_dummies(aviation[\"PurposeOfFlight\"], prefix_sep='_', drop_first=True)\n",
    "engineType = pd.get_dummies(aviation[\"EngineType\"], prefix_sep='_', drop_first=True)"
   ]
  },
  {
   "cell_type": "code",
   "execution_count": 4,
   "metadata": {},
   "outputs": [],
   "source": [
    "weatherCondition.reset_index(drop=True, inplace=True)\n",
    "phase.reset_index(drop=True, inplace=True)\n",
    "investigationType.reset_index(drop=True, inplace=True)\n",
    "purposeOfFlight.reset_index(drop=True, inplace=True)\n",
    "engineType.reset_index(drop=True, inplace=True)\n",
    "\n",
    "train = pd.concat([weatherCondition,phase,investigationType,purposeOfFlight, engineType],axis=1)\n",
    "train_y = aviation[\"AircraftDamage\"]\n",
    "X_train, X_test, y_train, y_test = train_test_split(train, train_y, test_size=0.30)"
   ]
  },
  {
   "cell_type": "code",
   "execution_count": 5,
   "metadata": {},
   "outputs": [],
   "source": [
    "from sklearn.linear_model import LogisticRegression\n",
    "logreg = LogisticRegression(solver='lbfgs', max_iter = 2828, multi_class=\"multinomial\")\n",
    "logreg.fit(X_train,y_train)\n",
    "predictions = logreg.predict(X_test)"
   ]
  },
  {
   "cell_type": "code",
   "execution_count": 7,
   "metadata": {},
   "outputs": [
    {
     "name": "stdout",
     "output_type": "stream",
     "text": [
      "              precision    recall  f1-score   support\n",
      "\n",
      "   Destroyed       0.62      0.23      0.34      5142\n",
      "       Minor       0.68      0.50      0.58       792\n",
      " Substantial       0.79      0.96      0.87     17112\n",
      "     Unknown       0.50      0.32      0.39       697\n",
      "\n",
      "    accuracy                           0.77     23743\n",
      "   macro avg       0.65      0.50      0.54     23743\n",
      "weighted avg       0.74      0.77      0.73     23743\n",
      "\n"
     ]
    }
   ],
   "source": [
    "from sklearn.metrics import classification_report\n",
    "print(classification_report(y_test,predictions))"
   ]
  },
  {
   "cell_type": "markdown",
   "metadata": {},
   "source": [
    "### Recursive Feature Elimination"
   ]
  },
  {
   "cell_type": "code",
   "execution_count": 8,
   "metadata": {
    "scrolled": true
   },
   "outputs": [
    {
     "name": "stdout",
     "output_type": "stream",
     "text": [
      "[18  1  4  3  1 19  1 16  1  1 21  1 20  1  9 24  1  5 22 12  1 10 11  8\n",
      "  1 29  1 26 25 23  1  1  2  1  1 14  1 27 17 28  6  1 15  1  1 13  7  1]\n"
     ]
    }
   ],
   "source": [
    "from sklearn.feature_selection import RFE\n",
    "\n",
    "logreg = LogisticRegression(solver='lbfgs', max_iter = 2828, multi_class=\"multinomial\")\n",
    "rfe = RFE(logreg, 20)\n",
    "rfe = rfe.fit(train, train_y.values.ravel())\n",
    "print(rfe.ranking_)"
   ]
  },
  {
   "cell_type": "code",
   "execution_count": 13,
   "metadata": {
    "scrolled": true
   },
   "outputs": [
    {
     "name": "stdout",
     "output_type": "stream",
     "text": [
      "Index(['UNK', 'VMC', 'CLIMB', 'CRUISE', 'DESCENT', 'GO-AROUND', 'LANDING',\n",
      "       'MANEUVERING', 'OTHER', 'STANDING', 'TAKEOFF', 'TAXI', 'UNKNOWN',\n",
      "       'Incident', 'Aerial Observation', 'Air Drop', 'Air Race/Show',\n",
      "       'Banner Tow', 'Business', 'Executive/Corporate', 'External Load',\n",
      "       'Ferry', 'Firefighting', 'Flight Test', 'Glider Tow', 'Instructional',\n",
      "       'Other Work Use', 'Personal', 'Positioning', 'Public Aircraft',\n",
      "       'Public Aircraft - Federal', 'Public Aircraft - Local',\n",
      "       'Public Aircraft - State', 'Skydiving', 'Unknown', 'Hybrid Rocket',\n",
      "       'None', 'REC, ELEC', 'REC, TJ, REC, TJ', 'REC, TJ, TJ', 'Reciprocating',\n",
      "       'TF, TJ', 'TJ, REC, REC, TJ', 'Turbo Fan', 'Turbo Jet', 'Turbo Prop',\n",
      "       'Turbo Shaft', 'Unknown'],\n",
      "      dtype='object')\n",
      "Columns that are kept:  [ 1  4  6  8  9 11 13 16 20 24 26 30 31 33 34 36 41 43 44 47]\n"
     ]
    }
   ],
   "source": [
    "cols = train.columns\n",
    "print(cols)\n",
    "print(\"Columns that are kept: \",np.where(rfe.support_ == True)[0])\n",
    "\n",
    "# ranks = {}\n",
    "\n",
    "# def ranking(ranks, names, order=1):\n",
    "#     minmax = MinMaxScaler()\n",
    "#     ranks = minmax.fit_transform(order*np.array([ranks]).T).T[0]\n",
    "#     ranks = map(lambda x: round(x,2), ranks)\n",
    "#     return dict(zip(names, ranks))\n",
    "\n",
    "# colnames = train.columns\n",
    "# ranks[\"RFE\"] = ranking(list(map(float, rfe.ranking_)), colnames, order=-1)\n",
    "\n",
    "\n",
    "\n",
    "# train_cleaned = np.delete(train, np.where(rfe.support_ == False)[0], axis=1)"
   ]
  },
  {
   "cell_type": "markdown",
   "metadata": {},
   "source": [
    "> Important features: VMC, DESCENT, "
   ]
  },
  {
   "cell_type": "code",
   "execution_count": null,
   "metadata": {},
   "outputs": [],
   "source": [
    "print(train_cleaned.columns.values)"
   ]
  },
  {
   "cell_type": "code",
   "execution_count": null,
   "metadata": {},
   "outputs": [],
   "source": [
    "X_train, X_test, y_train, y_test = train_test_split(train_cleaned, train_y, test_size=0.30)\n",
    "\n",
    "logRegv2 = LogisticRegression(solver='lbfgs', max_iter = 2828, multi_class=\"multinomial\")\n",
    "logRegv2.fit(X_train, y_train)"
   ]
  },
  {
   "cell_type": "code",
   "execution_count": null,
   "metadata": {},
   "outputs": [],
   "source": [
    "prediction = logRegv2.predict(X_test)\n",
    "score = logRegv2.score(X_test, y_test)\n",
    "print(score)"
   ]
  },
  {
   "cell_type": "code",
   "execution_count": null,
   "metadata": {},
   "outputs": [],
   "source": []
  }
 ],
 "metadata": {
  "kernelspec": {
   "display_name": "Python 3",
   "language": "python",
   "name": "python3"
  },
  "language_info": {
   "codemirror_mode": {
    "name": "ipython",
    "version": 3
   },
   "file_extension": ".py",
   "mimetype": "text/x-python",
   "name": "python",
   "nbconvert_exporter": "python",
   "pygments_lexer": "ipython3",
   "version": "3.7.4"
  }
 },
 "nbformat": 4,
 "nbformat_minor": 2
}

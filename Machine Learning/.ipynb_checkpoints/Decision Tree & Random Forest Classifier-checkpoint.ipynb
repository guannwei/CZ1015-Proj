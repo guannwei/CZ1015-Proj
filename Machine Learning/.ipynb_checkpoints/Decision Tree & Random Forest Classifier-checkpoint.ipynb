{
 "cells": [
  {
   "cell_type": "markdown",
   "metadata": {},
   "source": [
    "## Using categorical values to predict Aircraft Damage"
   ]
  },
  {
   "cell_type": "code",
   "execution_count": 1,
   "metadata": {},
   "outputs": [],
   "source": [
    "# Basic Libraries\n",
    "import numpy as np\n",
    "import pandas as pd\n",
    "import seaborn as sb\n",
    "import matplotlib.pyplot as plt # we only need pyplot\n",
    "sb.set() # set the default Seaborn style for graphics\n",
    "\n",
    "from sklearn.metrics import accuracy_score\n",
    "from sklearn.model_selection import train_test_split\n",
    "from sklearn.model_selection import cross_val_score, GridSearchCV\n",
    "from sklearn.linear_model import LogisticRegression\n",
    "from sklearn.tree import DecisionTreeClassifier\n",
    "from sklearn.ensemble import RandomForestClassifier"
   ]
  },
  {
   "cell_type": "code",
   "execution_count": 2,
   "metadata": {},
   "outputs": [
    {
     "data": {
      "text/html": [
       "<div>\n",
       "<style scoped>\n",
       "    .dataframe tbody tr th:only-of-type {\n",
       "        vertical-align: middle;\n",
       "    }\n",
       "\n",
       "    .dataframe tbody tr th {\n",
       "        vertical-align: top;\n",
       "    }\n",
       "\n",
       "    .dataframe thead th {\n",
       "        text-align: right;\n",
       "    }\n",
       "</style>\n",
       "<table border=\"1\" class=\"dataframe\">\n",
       "  <thead>\n",
       "    <tr style=\"text-align: right;\">\n",
       "      <th></th>\n",
       "      <th>EventID</th>\n",
       "      <th>WeatherCondition</th>\n",
       "      <th>BroadPhaseOfFlight</th>\n",
       "      <th>AircraftDamage</th>\n",
       "      <th>InvestigationType</th>\n",
       "      <th>PurposeOfFlight</th>\n",
       "      <th>EngineType</th>\n",
       "      <th>TotalFatalInjuries</th>\n",
       "      <th>TotalSeriousInjuries</th>\n",
       "      <th>TotalMinorInjuries</th>\n",
       "      <th>TotalUninjured</th>\n",
       "      <th>TotalInjuries</th>\n",
       "      <th>EventDate</th>\n",
       "      <th>Month</th>\n",
       "      <th>Year</th>\n",
       "    </tr>\n",
       "  </thead>\n",
       "  <tbody>\n",
       "    <tr>\n",
       "      <td>0</td>\n",
       "      <td>20161117X64217</td>\n",
       "      <td>UNK</td>\n",
       "      <td>MANEUVERING</td>\n",
       "      <td>Substantial</td>\n",
       "      <td>Accident</td>\n",
       "      <td>Unknown</td>\n",
       "      <td>Turbo Shaft</td>\n",
       "      <td>0.0</td>\n",
       "      <td>0.0</td>\n",
       "      <td>0.0</td>\n",
       "      <td>1.0</td>\n",
       "      <td>0.0</td>\n",
       "      <td>2016-11-14</td>\n",
       "      <td>11</td>\n",
       "      <td>2016</td>\n",
       "    </tr>\n",
       "    <tr>\n",
       "      <td>1</td>\n",
       "      <td>20161116X13203</td>\n",
       "      <td>VMC</td>\n",
       "      <td>LANDING</td>\n",
       "      <td>Substantial</td>\n",
       "      <td>Accident</td>\n",
       "      <td>Unknown</td>\n",
       "      <td>Unknown</td>\n",
       "      <td>0.0</td>\n",
       "      <td>0.0</td>\n",
       "      <td>0.0</td>\n",
       "      <td>2.0</td>\n",
       "      <td>0.0</td>\n",
       "      <td>2016-11-14</td>\n",
       "      <td>11</td>\n",
       "      <td>2016</td>\n",
       "    </tr>\n",
       "    <tr>\n",
       "      <td>2</td>\n",
       "      <td>20161116X62135</td>\n",
       "      <td>VMC</td>\n",
       "      <td>TAKEOFF</td>\n",
       "      <td>Substantial</td>\n",
       "      <td>Accident</td>\n",
       "      <td>Personal</td>\n",
       "      <td>Reciprocating</td>\n",
       "      <td>0.0</td>\n",
       "      <td>0.0</td>\n",
       "      <td>0.0</td>\n",
       "      <td>1.0</td>\n",
       "      <td>0.0</td>\n",
       "      <td>2016-11-13</td>\n",
       "      <td>11</td>\n",
       "      <td>2016</td>\n",
       "    </tr>\n",
       "    <tr>\n",
       "      <td>3</td>\n",
       "      <td>20161114X41943</td>\n",
       "      <td>VMC</td>\n",
       "      <td>MANEUVERING</td>\n",
       "      <td>Substantial</td>\n",
       "      <td>Accident</td>\n",
       "      <td>Instructional</td>\n",
       "      <td>Reciprocating</td>\n",
       "      <td>0.0</td>\n",
       "      <td>0.0</td>\n",
       "      <td>0.0</td>\n",
       "      <td>2.0</td>\n",
       "      <td>0.0</td>\n",
       "      <td>2016-12-11</td>\n",
       "      <td>12</td>\n",
       "      <td>2016</td>\n",
       "    </tr>\n",
       "    <tr>\n",
       "      <td>4</td>\n",
       "      <td>20161116X04207</td>\n",
       "      <td>VMC</td>\n",
       "      <td>UNKNOWN</td>\n",
       "      <td>Substantial</td>\n",
       "      <td>Accident</td>\n",
       "      <td>Personal</td>\n",
       "      <td>Reciprocating</td>\n",
       "      <td>0.0</td>\n",
       "      <td>1.0</td>\n",
       "      <td>0.0</td>\n",
       "      <td>1.0</td>\n",
       "      <td>1.0</td>\n",
       "      <td>2016-12-11</td>\n",
       "      <td>12</td>\n",
       "      <td>2016</td>\n",
       "    </tr>\n",
       "    <tr>\n",
       "      <td>...</td>\n",
       "      <td>...</td>\n",
       "      <td>...</td>\n",
       "      <td>...</td>\n",
       "      <td>...</td>\n",
       "      <td>...</td>\n",
       "      <td>...</td>\n",
       "      <td>...</td>\n",
       "      <td>...</td>\n",
       "      <td>...</td>\n",
       "      <td>...</td>\n",
       "      <td>...</td>\n",
       "      <td>...</td>\n",
       "      <td>...</td>\n",
       "      <td>...</td>\n",
       "      <td>...</td>\n",
       "    </tr>\n",
       "    <tr>\n",
       "      <td>79136</td>\n",
       "      <td>20041105X01764</td>\n",
       "      <td>VMC</td>\n",
       "      <td>APPROACH</td>\n",
       "      <td>Destroyed</td>\n",
       "      <td>Accident</td>\n",
       "      <td>Personal</td>\n",
       "      <td>Unknown</td>\n",
       "      <td>1.0</td>\n",
       "      <td>2.0</td>\n",
       "      <td>0.0</td>\n",
       "      <td>0.0</td>\n",
       "      <td>3.0</td>\n",
       "      <td>1979-02-08</td>\n",
       "      <td>2</td>\n",
       "      <td>1979</td>\n",
       "    </tr>\n",
       "    <tr>\n",
       "      <td>79137</td>\n",
       "      <td>20001218X45448</td>\n",
       "      <td>IMC</td>\n",
       "      <td>CRUISE</td>\n",
       "      <td>Destroyed</td>\n",
       "      <td>Accident</td>\n",
       "      <td>Personal</td>\n",
       "      <td>Reciprocating</td>\n",
       "      <td>2.0</td>\n",
       "      <td>0.0</td>\n",
       "      <td>0.0</td>\n",
       "      <td>0.0</td>\n",
       "      <td>2.0</td>\n",
       "      <td>1977-06-19</td>\n",
       "      <td>6</td>\n",
       "      <td>1977</td>\n",
       "    </tr>\n",
       "    <tr>\n",
       "      <td>79138</td>\n",
       "      <td>20061025X01555</td>\n",
       "      <td>IMC</td>\n",
       "      <td>CRUISE</td>\n",
       "      <td>Destroyed</td>\n",
       "      <td>Accident</td>\n",
       "      <td>Personal</td>\n",
       "      <td>Reciprocating</td>\n",
       "      <td>3.0</td>\n",
       "      <td>0.0</td>\n",
       "      <td>0.0</td>\n",
       "      <td>0.0</td>\n",
       "      <td>3.0</td>\n",
       "      <td>1974-08-30</td>\n",
       "      <td>8</td>\n",
       "      <td>1974</td>\n",
       "    </tr>\n",
       "    <tr>\n",
       "      <td>79139</td>\n",
       "      <td>20001218X45447</td>\n",
       "      <td>UNK</td>\n",
       "      <td>UNKNOWN</td>\n",
       "      <td>Destroyed</td>\n",
       "      <td>Accident</td>\n",
       "      <td>Personal</td>\n",
       "      <td>Reciprocating</td>\n",
       "      <td>4.0</td>\n",
       "      <td>0.0</td>\n",
       "      <td>0.0</td>\n",
       "      <td>0.0</td>\n",
       "      <td>4.0</td>\n",
       "      <td>1962-07-19</td>\n",
       "      <td>7</td>\n",
       "      <td>1962</td>\n",
       "    </tr>\n",
       "    <tr>\n",
       "      <td>79140</td>\n",
       "      <td>20001218X45444</td>\n",
       "      <td>UNK</td>\n",
       "      <td>CRUISE</td>\n",
       "      <td>Destroyed</td>\n",
       "      <td>Accident</td>\n",
       "      <td>Personal</td>\n",
       "      <td>Reciprocating</td>\n",
       "      <td>2.0</td>\n",
       "      <td>0.0</td>\n",
       "      <td>0.0</td>\n",
       "      <td>0.0</td>\n",
       "      <td>2.0</td>\n",
       "      <td>1948-10-24</td>\n",
       "      <td>10</td>\n",
       "      <td>1948</td>\n",
       "    </tr>\n",
       "  </tbody>\n",
       "</table>\n",
       "<p>79141 rows × 15 columns</p>\n",
       "</div>"
      ],
      "text/plain": [
       "              EventID WeatherCondition BroadPhaseOfFlight AircraftDamage  \\\n",
       "0      20161117X64217              UNK        MANEUVERING    Substantial   \n",
       "1      20161116X13203              VMC            LANDING    Substantial   \n",
       "2      20161116X62135              VMC            TAKEOFF    Substantial   \n",
       "3      20161114X41943              VMC        MANEUVERING    Substantial   \n",
       "4      20161116X04207              VMC            UNKNOWN    Substantial   \n",
       "...               ...              ...                ...            ...   \n",
       "79136  20041105X01764              VMC           APPROACH      Destroyed   \n",
       "79137  20001218X45448              IMC             CRUISE      Destroyed   \n",
       "79138  20061025X01555              IMC             CRUISE      Destroyed   \n",
       "79139  20001218X45447              UNK            UNKNOWN      Destroyed   \n",
       "79140  20001218X45444              UNK             CRUISE      Destroyed   \n",
       "\n",
       "      InvestigationType PurposeOfFlight     EngineType  TotalFatalInjuries  \\\n",
       "0              Accident         Unknown    Turbo Shaft                 0.0   \n",
       "1              Accident         Unknown        Unknown                 0.0   \n",
       "2              Accident        Personal  Reciprocating                 0.0   \n",
       "3              Accident   Instructional  Reciprocating                 0.0   \n",
       "4              Accident        Personal  Reciprocating                 0.0   \n",
       "...                 ...             ...            ...                 ...   \n",
       "79136          Accident        Personal        Unknown                 1.0   \n",
       "79137          Accident        Personal  Reciprocating                 2.0   \n",
       "79138          Accident        Personal  Reciprocating                 3.0   \n",
       "79139          Accident        Personal  Reciprocating                 4.0   \n",
       "79140          Accident        Personal  Reciprocating                 2.0   \n",
       "\n",
       "       TotalSeriousInjuries  TotalMinorInjuries  TotalUninjured  \\\n",
       "0                       0.0                 0.0             1.0   \n",
       "1                       0.0                 0.0             2.0   \n",
       "2                       0.0                 0.0             1.0   \n",
       "3                       0.0                 0.0             2.0   \n",
       "4                       1.0                 0.0             1.0   \n",
       "...                     ...                 ...             ...   \n",
       "79136                   2.0                 0.0             0.0   \n",
       "79137                   0.0                 0.0             0.0   \n",
       "79138                   0.0                 0.0             0.0   \n",
       "79139                   0.0                 0.0             0.0   \n",
       "79140                   0.0                 0.0             0.0   \n",
       "\n",
       "       TotalInjuries   EventDate  Month  Year  \n",
       "0                0.0  2016-11-14     11  2016  \n",
       "1                0.0  2016-11-14     11  2016  \n",
       "2                0.0  2016-11-13     11  2016  \n",
       "3                0.0  2016-12-11     12  2016  \n",
       "4                1.0  2016-12-11     12  2016  \n",
       "...              ...         ...    ...   ...  \n",
       "79136            3.0  1979-02-08      2  1979  \n",
       "79137            2.0  1977-06-19      6  1977  \n",
       "79138            3.0  1974-08-30      8  1974  \n",
       "79139            4.0  1962-07-19      7  1962  \n",
       "79140            2.0  1948-10-24     10  1948  \n",
       "\n",
       "[79141 rows x 15 columns]"
      ]
     },
     "execution_count": 2,
     "metadata": {},
     "output_type": "execute_result"
    }
   ],
   "source": [
    "aviation = pd.read_csv('../Data/AviationFinal.csv')\n",
    "aviation"
   ]
  },
  {
   "cell_type": "markdown",
   "metadata": {},
   "source": [
    "### Splitting data"
   ]
  },
  {
   "cell_type": "code",
   "execution_count": 3,
   "metadata": {},
   "outputs": [
    {
     "data": {
      "text/html": [
       "<div>\n",
       "<style scoped>\n",
       "    .dataframe tbody tr th:only-of-type {\n",
       "        vertical-align: middle;\n",
       "    }\n",
       "\n",
       "    .dataframe tbody tr th {\n",
       "        vertical-align: top;\n",
       "    }\n",
       "\n",
       "    .dataframe thead th {\n",
       "        text-align: right;\n",
       "    }\n",
       "</style>\n",
       "<table border=\"1\" class=\"dataframe\">\n",
       "  <thead>\n",
       "    <tr style=\"text-align: right;\">\n",
       "      <th></th>\n",
       "      <th>AircraftDamage</th>\n",
       "    </tr>\n",
       "  </thead>\n",
       "  <tbody>\n",
       "    <tr>\n",
       "      <td>25651</td>\n",
       "      <td>Substantial</td>\n",
       "    </tr>\n",
       "    <tr>\n",
       "      <td>33597</td>\n",
       "      <td>Substantial</td>\n",
       "    </tr>\n",
       "    <tr>\n",
       "      <td>14919</td>\n",
       "      <td>Substantial</td>\n",
       "    </tr>\n",
       "    <tr>\n",
       "      <td>28349</td>\n",
       "      <td>Substantial</td>\n",
       "    </tr>\n",
       "    <tr>\n",
       "      <td>5794</td>\n",
       "      <td>Substantial</td>\n",
       "    </tr>\n",
       "  </tbody>\n",
       "</table>\n",
       "</div>"
      ],
      "text/plain": [
       "      AircraftDamage\n",
       "25651    Substantial\n",
       "33597    Substantial\n",
       "14919    Substantial\n",
       "28349    Substantial\n",
       "5794     Substantial"
      ]
     },
     "execution_count": 3,
     "metadata": {},
     "output_type": "execute_result"
    }
   ],
   "source": [
    "pd.set_option('display.max_columns', None)  # Unlimited columns.\n",
    "pd.options.mode.use_inf_as_na = True  \n",
    "\n",
    "aircraftDamage = pd.DataFrame(aviation['AircraftDamage'])\n",
    "aviationcategorical = pd.DataFrame(aviation[['Month', 'EngineType', 'WeatherCondition', \"BroadPhaseOfFlight\", \"PurposeOfFlight\"]])\n",
    "\n",
    "\n",
    "X_train_original, X_test_original, y_train_original, y_test_original = train_test_split(aviationcategorical, aircraftDamage, test_size = 0.2)\n",
    "y_train_original.head()"
   ]
  },
  {
   "cell_type": "markdown",
   "metadata": {},
   "source": [
    "### See how many categories AircraftDamage has\n",
    "> More than half is just one category - Substantial"
   ]
  },
  {
   "cell_type": "code",
   "execution_count": 4,
   "metadata": {},
   "outputs": [
    {
     "data": {
      "text/plain": [
       "Substantial    0.719548\n",
       "Destroyed      0.218300\n",
       "Minor          0.031590\n",
       "Unknown        0.030563\n",
       "Name: AircraftDamage, dtype: float64"
      ]
     },
     "execution_count": 4,
     "metadata": {},
     "output_type": "execute_result"
    }
   ],
   "source": [
    "pd.value_counts(y_train_original['AircraftDamage'], normalize = True)"
   ]
  },
  {
   "cell_type": "markdown",
   "metadata": {},
   "source": [
    "### Majority class prediction\n",
    ">It is to gauge how good our future prediction scores should be. Gives baseline\n",
    "that we want to cross with our next model"
   ]
  },
  {
   "cell_type": "code",
   "execution_count": 5,
   "metadata": {},
   "outputs": [
    {
     "data": {
      "text/html": [
       "<div>\n",
       "<style scoped>\n",
       "    .dataframe tbody tr th:only-of-type {\n",
       "        vertical-align: middle;\n",
       "    }\n",
       "\n",
       "    .dataframe tbody tr th {\n",
       "        vertical-align: top;\n",
       "    }\n",
       "\n",
       "    .dataframe thead th {\n",
       "        text-align: right;\n",
       "    }\n",
       "</style>\n",
       "<table border=\"1\" class=\"dataframe\">\n",
       "  <thead>\n",
       "    <tr style=\"text-align: right;\">\n",
       "      <th></th>\n",
       "      <th>AircraftDamage</th>\n",
       "    </tr>\n",
       "  </thead>\n",
       "  <tbody>\n",
       "    <tr>\n",
       "      <td>3561</td>\n",
       "      <td>functional</td>\n",
       "    </tr>\n",
       "    <tr>\n",
       "      <td>27193</td>\n",
       "      <td>functional</td>\n",
       "    </tr>\n",
       "    <tr>\n",
       "      <td>56613</td>\n",
       "      <td>functional</td>\n",
       "    </tr>\n",
       "    <tr>\n",
       "      <td>21574</td>\n",
       "      <td>functional</td>\n",
       "    </tr>\n",
       "    <tr>\n",
       "      <td>51906</td>\n",
       "      <td>functional</td>\n",
       "    </tr>\n",
       "  </tbody>\n",
       "</table>\n",
       "</div>"
      ],
      "text/plain": [
       "      AircraftDamage\n",
       "3561      functional\n",
       "27193     functional\n",
       "56613     functional\n",
       "21574     functional\n",
       "51906     functional"
      ]
     },
     "execution_count": 5,
     "metadata": {},
     "output_type": "execute_result"
    }
   ],
   "source": [
    "y_pred = ['functional'] * len(X_test_original)\n",
    "y_pred = pd.DataFrame(data = y_pred,\n",
    "                      index = X_test_original.index.values,\n",
    "                      columns = ['AircraftDamage'])\n",
    "y_pred.head()"
   ]
  },
  {
   "cell_type": "markdown",
   "metadata": {},
   "source": [
    "### Predict with just the numerical features"
   ]
  },
  {
   "cell_type": "code",
   "execution_count": 6,
   "metadata": {},
   "outputs": [
    {
     "data": {
      "text/html": [
       "<div>\n",
       "<style scoped>\n",
       "    .dataframe tbody tr th:only-of-type {\n",
       "        vertical-align: middle;\n",
       "    }\n",
       "\n",
       "    .dataframe tbody tr th {\n",
       "        vertical-align: top;\n",
       "    }\n",
       "\n",
       "    .dataframe thead th {\n",
       "        text-align: right;\n",
       "    }\n",
       "</style>\n",
       "<table border=\"1\" class=\"dataframe\">\n",
       "  <thead>\n",
       "    <tr style=\"text-align: right;\">\n",
       "      <th></th>\n",
       "      <th>Month</th>\n",
       "    </tr>\n",
       "  </thead>\n",
       "  <tbody>\n",
       "    <tr>\n",
       "      <td>25651</td>\n",
       "      <td>9</td>\n",
       "    </tr>\n",
       "    <tr>\n",
       "      <td>33597</td>\n",
       "      <td>1</td>\n",
       "    </tr>\n",
       "    <tr>\n",
       "      <td>14919</td>\n",
       "      <td>3</td>\n",
       "    </tr>\n",
       "    <tr>\n",
       "      <td>28349</td>\n",
       "      <td>6</td>\n",
       "    </tr>\n",
       "    <tr>\n",
       "      <td>5794</td>\n",
       "      <td>2</td>\n",
       "    </tr>\n",
       "  </tbody>\n",
       "</table>\n",
       "</div>"
      ],
      "text/plain": [
       "       Month\n",
       "25651      9\n",
       "33597      1\n",
       "14919      3\n",
       "28349      6\n",
       "5794       2"
      ]
     },
     "execution_count": 6,
     "metadata": {},
     "output_type": "execute_result"
    }
   ],
   "source": [
    "X_train_numerical = X_train_original.select_dtypes(\n",
    "                         include = np.number).copy()\n",
    "\n",
    "X_train_numerical.head()"
   ]
  },
  {
   "cell_type": "code",
   "execution_count": 7,
   "metadata": {},
   "outputs": [],
   "source": [
    "X_train_numerical_indices = X_train_numerical.index.values\n",
    "y_train_numerical = y_train_original[y_train_original.index.isin(X_train_numerical_indices)]"
   ]
  },
  {
   "cell_type": "markdown",
   "metadata": {},
   "source": [
    "### Logistic Regression"
   ]
  },
  {
   "cell_type": "code",
   "execution_count": 8,
   "metadata": {},
   "outputs": [
    {
     "name": "stderr",
     "output_type": "stream",
     "text": [
      "[Parallel(n_jobs=-1)]: Using backend LokyBackend with 8 concurrent workers.\n",
      "[Parallel(n_jobs=-1)]: Done   3 out of   3 | elapsed:    4.5s finished\n"
     ]
    },
    {
     "data": {
      "text/plain": [
       "array([0.71954513, 0.71953184, 0.71956594])"
      ]
     },
     "execution_count": 8,
     "metadata": {},
     "output_type": "execute_result"
    }
   ],
   "source": [
    "cv_score = cross_val_score(LogisticRegression(), \n",
    "                            X_train_numerical, y_train_numerical,\n",
    "                            scoring = 'accuracy',\n",
    "                            cv = 3,\n",
    "                            n_jobs = -1,\n",
    "                            verbose = 1)\n",
    "cv_score"
   ]
  },
  {
   "cell_type": "markdown",
   "metadata": {},
   "source": [
    "### Decision Tree"
   ]
  },
  {
   "cell_type": "code",
   "execution_count": 9,
   "metadata": {},
   "outputs": [
    {
     "name": "stderr",
     "output_type": "stream",
     "text": [
      "[Parallel(n_jobs=-1)]: Using backend LokyBackend with 8 concurrent workers.\n",
      "[Parallel(n_jobs=-1)]: Done   3 out of   3 | elapsed:    3.0s finished\n"
     ]
    },
    {
     "data": {
      "text/plain": [
       "array([0.71954513, 0.71953184, 0.71956594])"
      ]
     },
     "execution_count": 9,
     "metadata": {},
     "output_type": "execute_result"
    }
   ],
   "source": [
    "clf = DecisionTreeClassifier()\n",
    "cv_score = cross_val_score(clf, \n",
    "                            X_train_numerical, y_train_numerical,\n",
    "                            scoring = 'accuracy',\n",
    "                            cv = 3,\n",
    "                            n_jobs = -1,\n",
    "                            verbose = 1)\n",
    "cv_score"
   ]
  },
  {
   "cell_type": "markdown",
   "metadata": {},
   "source": [
    "### Decision Tree Classifier"
   ]
  },
  {
   "cell_type": "code",
   "execution_count": 10,
   "metadata": {},
   "outputs": [
    {
     "name": "stderr",
     "output_type": "stream",
     "text": [
      "[Parallel(n_jobs=-1)]: Using backend LokyBackend with 8 concurrent workers.\n",
      "[Parallel(n_jobs=-1)]: Done   3 out of   3 | elapsed:    2.6s finished\n"
     ]
    },
    {
     "data": {
      "text/plain": [
       "array([0.73669747, 0.74128127, 0.73913662])"
      ]
     },
     "execution_count": 10,
     "metadata": {},
     "output_type": "execute_result"
    }
   ],
   "source": [
    "X_train_original.isnull().sum()\n",
    "X_non_nulls = X_train_original.dropna(axis = 1)\n",
    "X_non_nulls.nunique().sort_values(ascending = True)\n",
    "\n",
    "X_selected = X_non_nulls.loc[:, X_non_nulls.nunique().sort_values()< 50]\n",
    "cat_cols = list(X_selected.select_dtypes(['object']).columns.values)\n",
    "X_categorical = X_selected[cat_cols].apply(lambda x: x.astype('category').cat.codes)\n",
    "X_train_selected = X_train_numerical.join(X_categorical)\n",
    "clf = DecisionTreeClassifier()\n",
    "cv_score = cross_val_score(clf, \n",
    "                            X_train_selected, y_train_original,\n",
    "                            scoring = 'accuracy',\n",
    "                            cv = 3,\n",
    "                            n_jobs = -1,\n",
    "                            verbose = 1)\n",
    "cv_score"
   ]
  },
  {
   "cell_type": "markdown",
   "metadata": {},
   "source": [
    "### Random Forest Classifier"
   ]
  },
  {
   "cell_type": "code",
   "execution_count": 17,
   "metadata": {},
   "outputs": [
    {
     "name": "stderr",
     "output_type": "stream",
     "text": [
      "C:\\ProgramData\\Anaconda3\\lib\\site-packages\\sklearn\\ensemble\\forest.py:245: FutureWarning: The default value of n_estimators will change from 10 in version 0.20 to 100 in 0.22.\n",
      "  \"10 in version 0.20 to 100 in 0.22.\", FutureWarning)\n",
      "C:\\ProgramData\\Anaconda3\\lib\\site-packages\\ipykernel_launcher.py:5: DataConversionWarning: A column-vector y was passed when a 1d array was expected. Please change the shape of y to (n_samples,), for example using ravel().\n",
      "  \"\"\"\n"
     ]
    },
    {
     "data": {
      "text/plain": [
       "array([0.16221942, 0.22061433, 0.24641926, 0.37074699])"
      ]
     },
     "execution_count": 17,
     "metadata": {},
     "output_type": "execute_result"
    }
   ],
   "source": [
    "X_train, X_test, y_train, y_test = train_test_split(\n",
    "    X_train_selected, y_train_original, test_size=0.2)\n",
    "\n",
    "clf = RandomForestClassifier()\n",
    "clf.fit(X_train, y_train)\n",
    "clf.score(X_test, y_test)"
   ]
  },
  {
   "cell_type": "markdown",
   "metadata": {},
   "source": [
    "#### Search for the best Random Forest Classifier using a grid search"
   ]
  },
  {
   "cell_type": "code",
   "execution_count": 12,
   "metadata": {},
   "outputs": [
    {
     "name": "stdout",
     "output_type": "stream",
     "text": [
      "Fitting 3 folds for each of 12 candidates, totalling 36 fits\n",
      "[CV] max_depth=6, n_estimators=10 ....................................\n"
     ]
    },
    {
     "name": "stderr",
     "output_type": "stream",
     "text": [
      "[Parallel(n_jobs=1)]: Using backend SequentialBackend with 1 concurrent workers.\n",
      "C:\\ProgramData\\Anaconda3\\lib\\site-packages\\sklearn\\model_selection\\_validation.py:516: DataConversionWarning: A column-vector y was passed when a 1d array was expected. Please change the shape of y to (n_samples,), for example using ravel().\n",
      "  estimator.fit(X_train, y_train, **fit_params)\n"
     ]
    },
    {
     "name": "stdout",
     "output_type": "stream",
     "text": [
      "[CV]  max_depth=6, n_estimators=10, score=(train=0.747, test=0.746), total=   0.4s\n",
      "[CV] max_depth=6, n_estimators=10 ....................................\n"
     ]
    },
    {
     "name": "stderr",
     "output_type": "stream",
     "text": [
      "[Parallel(n_jobs=1)]: Done   1 out of   1 | elapsed:    0.5s remaining:    0.0s\n",
      "C:\\ProgramData\\Anaconda3\\lib\\site-packages\\sklearn\\model_selection\\_validation.py:516: DataConversionWarning: A column-vector y was passed when a 1d array was expected. Please change the shape of y to (n_samples,), for example using ravel().\n",
      "  estimator.fit(X_train, y_train, **fit_params)\n"
     ]
    },
    {
     "name": "stdout",
     "output_type": "stream",
     "text": [
      "[CV]  max_depth=6, n_estimators=10, score=(train=0.749, test=0.744), total=   0.3s\n",
      "[CV] max_depth=6, n_estimators=10 ....................................\n"
     ]
    },
    {
     "name": "stderr",
     "output_type": "stream",
     "text": [
      "[Parallel(n_jobs=1)]: Done   2 out of   2 | elapsed:    0.9s remaining:    0.0s\n",
      "C:\\ProgramData\\Anaconda3\\lib\\site-packages\\sklearn\\model_selection\\_validation.py:516: DataConversionWarning: A column-vector y was passed when a 1d array was expected. Please change the shape of y to (n_samples,), for example using ravel().\n",
      "  estimator.fit(X_train, y_train, **fit_params)\n"
     ]
    },
    {
     "name": "stdout",
     "output_type": "stream",
     "text": [
      "[CV]  max_depth=6, n_estimators=10, score=(train=0.747, test=0.746), total=   0.3s\n",
      "[CV] max_depth=6, n_estimators=20 ....................................\n"
     ]
    },
    {
     "name": "stderr",
     "output_type": "stream",
     "text": [
      "[Parallel(n_jobs=1)]: Done   3 out of   3 | elapsed:    1.3s remaining:    0.0s\n",
      "C:\\ProgramData\\Anaconda3\\lib\\site-packages\\sklearn\\model_selection\\_validation.py:516: DataConversionWarning: A column-vector y was passed when a 1d array was expected. Please change the shape of y to (n_samples,), for example using ravel().\n",
      "  estimator.fit(X_train, y_train, **fit_params)\n"
     ]
    },
    {
     "name": "stdout",
     "output_type": "stream",
     "text": [
      "[CV]  max_depth=6, n_estimators=20, score=(train=0.748, test=0.746), total=   0.3s\n",
      "[CV] max_depth=6, n_estimators=20 ....................................\n"
     ]
    },
    {
     "name": "stderr",
     "output_type": "stream",
     "text": [
      "[Parallel(n_jobs=1)]: Done   4 out of   4 | elapsed:    1.8s remaining:    0.0s\n",
      "C:\\ProgramData\\Anaconda3\\lib\\site-packages\\sklearn\\model_selection\\_validation.py:516: DataConversionWarning: A column-vector y was passed when a 1d array was expected. Please change the shape of y to (n_samples,), for example using ravel().\n",
      "  estimator.fit(X_train, y_train, **fit_params)\n"
     ]
    },
    {
     "name": "stdout",
     "output_type": "stream",
     "text": [
      "[CV]  max_depth=6, n_estimators=20, score=(train=0.748, test=0.744), total=   0.4s\n",
      "[CV] max_depth=6, n_estimators=20 ....................................\n"
     ]
    },
    {
     "name": "stderr",
     "output_type": "stream",
     "text": [
      "[Parallel(n_jobs=1)]: Done   5 out of   5 | elapsed:    2.3s remaining:    0.0s\n",
      "C:\\ProgramData\\Anaconda3\\lib\\site-packages\\sklearn\\model_selection\\_validation.py:516: DataConversionWarning: A column-vector y was passed when a 1d array was expected. Please change the shape of y to (n_samples,), for example using ravel().\n",
      "  estimator.fit(X_train, y_train, **fit_params)\n"
     ]
    },
    {
     "name": "stdout",
     "output_type": "stream",
     "text": [
      "[CV]  max_depth=6, n_estimators=20, score=(train=0.747, test=0.746), total=   0.4s\n",
      "[CV] max_depth=6, n_estimators=30 ....................................\n"
     ]
    },
    {
     "name": "stderr",
     "output_type": "stream",
     "text": [
      "[Parallel(n_jobs=1)]: Done   6 out of   6 | elapsed:    2.8s remaining:    0.0s\n",
      "C:\\ProgramData\\Anaconda3\\lib\\site-packages\\sklearn\\model_selection\\_validation.py:516: DataConversionWarning: A column-vector y was passed when a 1d array was expected. Please change the shape of y to (n_samples,), for example using ravel().\n",
      "  estimator.fit(X_train, y_train, **fit_params)\n"
     ]
    },
    {
     "name": "stdout",
     "output_type": "stream",
     "text": [
      "[CV]  max_depth=6, n_estimators=30, score=(train=0.748, test=0.747), total=   0.5s\n",
      "[CV] max_depth=6, n_estimators=30 ....................................\n"
     ]
    },
    {
     "name": "stderr",
     "output_type": "stream",
     "text": [
      "[Parallel(n_jobs=1)]: Done   7 out of   7 | elapsed:    3.5s remaining:    0.0s\n",
      "C:\\ProgramData\\Anaconda3\\lib\\site-packages\\sklearn\\model_selection\\_validation.py:516: DataConversionWarning: A column-vector y was passed when a 1d array was expected. Please change the shape of y to (n_samples,), for example using ravel().\n",
      "  estimator.fit(X_train, y_train, **fit_params)\n"
     ]
    },
    {
     "name": "stdout",
     "output_type": "stream",
     "text": [
      "[CV]  max_depth=6, n_estimators=30, score=(train=0.749, test=0.744), total=   0.4s\n",
      "[CV] max_depth=6, n_estimators=30 ....................................\n"
     ]
    },
    {
     "name": "stderr",
     "output_type": "stream",
     "text": [
      "[Parallel(n_jobs=1)]: Done   8 out of   8 | elapsed:    4.1s remaining:    0.0s\n",
      "C:\\ProgramData\\Anaconda3\\lib\\site-packages\\sklearn\\model_selection\\_validation.py:516: DataConversionWarning: A column-vector y was passed when a 1d array was expected. Please change the shape of y to (n_samples,), for example using ravel().\n",
      "  estimator.fit(X_train, y_train, **fit_params)\n"
     ]
    },
    {
     "name": "stdout",
     "output_type": "stream",
     "text": [
      "[CV]  max_depth=6, n_estimators=30, score=(train=0.748, test=0.746), total=   0.4s\n",
      "[CV] max_depth=10, n_estimators=10 ...................................\n"
     ]
    },
    {
     "name": "stderr",
     "output_type": "stream",
     "text": [
      "[Parallel(n_jobs=1)]: Done   9 out of   9 | elapsed:    4.7s remaining:    0.0s\n",
      "C:\\ProgramData\\Anaconda3\\lib\\site-packages\\sklearn\\model_selection\\_validation.py:516: DataConversionWarning: A column-vector y was passed when a 1d array was expected. Please change the shape of y to (n_samples,), for example using ravel().\n",
      "  estimator.fit(X_train, y_train, **fit_params)\n"
     ]
    },
    {
     "name": "stdout",
     "output_type": "stream",
     "text": [
      "[CV]  max_depth=10, n_estimators=10, score=(train=0.758, test=0.743), total=   0.3s\n",
      "[CV] max_depth=10, n_estimators=10 ...................................\n"
     ]
    },
    {
     "name": "stderr",
     "output_type": "stream",
     "text": [
      "C:\\ProgramData\\Anaconda3\\lib\\site-packages\\sklearn\\model_selection\\_validation.py:516: DataConversionWarning: A column-vector y was passed when a 1d array was expected. Please change the shape of y to (n_samples,), for example using ravel().\n",
      "  estimator.fit(X_train, y_train, **fit_params)\n"
     ]
    },
    {
     "name": "stdout",
     "output_type": "stream",
     "text": [
      "[CV]  max_depth=10, n_estimators=10, score=(train=0.758, test=0.741), total=   0.3s\n",
      "[CV] max_depth=10, n_estimators=10 ...................................\n"
     ]
    },
    {
     "name": "stderr",
     "output_type": "stream",
     "text": [
      "C:\\ProgramData\\Anaconda3\\lib\\site-packages\\sklearn\\model_selection\\_validation.py:516: DataConversionWarning: A column-vector y was passed when a 1d array was expected. Please change the shape of y to (n_samples,), for example using ravel().\n",
      "  estimator.fit(X_train, y_train, **fit_params)\n"
     ]
    },
    {
     "name": "stdout",
     "output_type": "stream",
     "text": [
      "[CV]  max_depth=10, n_estimators=10, score=(train=0.757, test=0.745), total=   0.3s\n",
      "[CV] max_depth=10, n_estimators=20 ...................................\n"
     ]
    },
    {
     "name": "stderr",
     "output_type": "stream",
     "text": [
      "C:\\ProgramData\\Anaconda3\\lib\\site-packages\\sklearn\\model_selection\\_validation.py:516: DataConversionWarning: A column-vector y was passed when a 1d array was expected. Please change the shape of y to (n_samples,), for example using ravel().\n",
      "  estimator.fit(X_train, y_train, **fit_params)\n"
     ]
    },
    {
     "name": "stdout",
     "output_type": "stream",
     "text": [
      "[CV]  max_depth=10, n_estimators=20, score=(train=0.759, test=0.742), total=   0.4s\n",
      "[CV] max_depth=10, n_estimators=20 ...................................\n"
     ]
    },
    {
     "name": "stderr",
     "output_type": "stream",
     "text": [
      "C:\\ProgramData\\Anaconda3\\lib\\site-packages\\sklearn\\model_selection\\_validation.py:516: DataConversionWarning: A column-vector y was passed when a 1d array was expected. Please change the shape of y to (n_samples,), for example using ravel().\n",
      "  estimator.fit(X_train, y_train, **fit_params)\n"
     ]
    },
    {
     "name": "stdout",
     "output_type": "stream",
     "text": [
      "[CV]  max_depth=10, n_estimators=20, score=(train=0.758, test=0.743), total=   0.4s\n",
      "[CV] max_depth=10, n_estimators=20 ...................................\n"
     ]
    },
    {
     "name": "stderr",
     "output_type": "stream",
     "text": [
      "C:\\ProgramData\\Anaconda3\\lib\\site-packages\\sklearn\\model_selection\\_validation.py:516: DataConversionWarning: A column-vector y was passed when a 1d array was expected. Please change the shape of y to (n_samples,), for example using ravel().\n",
      "  estimator.fit(X_train, y_train, **fit_params)\n"
     ]
    },
    {
     "name": "stdout",
     "output_type": "stream",
     "text": [
      "[CV]  max_depth=10, n_estimators=20, score=(train=0.758, test=0.744), total=   0.4s\n",
      "[CV] max_depth=10, n_estimators=30 ...................................\n"
     ]
    },
    {
     "name": "stderr",
     "output_type": "stream",
     "text": [
      "C:\\ProgramData\\Anaconda3\\lib\\site-packages\\sklearn\\model_selection\\_validation.py:516: DataConversionWarning: A column-vector y was passed when a 1d array was expected. Please change the shape of y to (n_samples,), for example using ravel().\n",
      "  estimator.fit(X_train, y_train, **fit_params)\n"
     ]
    },
    {
     "name": "stdout",
     "output_type": "stream",
     "text": [
      "[CV]  max_depth=10, n_estimators=30, score=(train=0.759, test=0.742), total=   0.5s\n",
      "[CV] max_depth=10, n_estimators=30 ...................................\n"
     ]
    },
    {
     "name": "stderr",
     "output_type": "stream",
     "text": [
      "C:\\ProgramData\\Anaconda3\\lib\\site-packages\\sklearn\\model_selection\\_validation.py:516: DataConversionWarning: A column-vector y was passed when a 1d array was expected. Please change the shape of y to (n_samples,), for example using ravel().\n",
      "  estimator.fit(X_train, y_train, **fit_params)\n"
     ]
    },
    {
     "name": "stdout",
     "output_type": "stream",
     "text": [
      "[CV]  max_depth=10, n_estimators=30, score=(train=0.758, test=0.743), total=   0.6s\n",
      "[CV] max_depth=10, n_estimators=30 ...................................\n"
     ]
    },
    {
     "name": "stderr",
     "output_type": "stream",
     "text": [
      "C:\\ProgramData\\Anaconda3\\lib\\site-packages\\sklearn\\model_selection\\_validation.py:516: DataConversionWarning: A column-vector y was passed when a 1d array was expected. Please change the shape of y to (n_samples,), for example using ravel().\n",
      "  estimator.fit(X_train, y_train, **fit_params)\n"
     ]
    },
    {
     "name": "stdout",
     "output_type": "stream",
     "text": [
      "[CV]  max_depth=10, n_estimators=30, score=(train=0.758, test=0.745), total=   0.6s\n",
      "[CV] max_depth=20, n_estimators=10 ...................................\n"
     ]
    },
    {
     "name": "stderr",
     "output_type": "stream",
     "text": [
      "C:\\ProgramData\\Anaconda3\\lib\\site-packages\\sklearn\\model_selection\\_validation.py:516: DataConversionWarning: A column-vector y was passed when a 1d array was expected. Please change the shape of y to (n_samples,), for example using ravel().\n",
      "  estimator.fit(X_train, y_train, **fit_params)\n"
     ]
    },
    {
     "name": "stdout",
     "output_type": "stream",
     "text": [
      "[CV]  max_depth=20, n_estimators=10, score=(train=0.763, test=0.737), total=   0.3s\n",
      "[CV] max_depth=20, n_estimators=10 ...................................\n"
     ]
    },
    {
     "name": "stderr",
     "output_type": "stream",
     "text": [
      "C:\\ProgramData\\Anaconda3\\lib\\site-packages\\sklearn\\model_selection\\_validation.py:516: DataConversionWarning: A column-vector y was passed when a 1d array was expected. Please change the shape of y to (n_samples,), for example using ravel().\n",
      "  estimator.fit(X_train, y_train, **fit_params)\n"
     ]
    },
    {
     "name": "stdout",
     "output_type": "stream",
     "text": [
      "[CV]  max_depth=20, n_estimators=10, score=(train=0.762, test=0.738), total=   0.3s\n",
      "[CV] max_depth=20, n_estimators=10 ...................................\n"
     ]
    },
    {
     "name": "stderr",
     "output_type": "stream",
     "text": [
      "C:\\ProgramData\\Anaconda3\\lib\\site-packages\\sklearn\\model_selection\\_validation.py:516: DataConversionWarning: A column-vector y was passed when a 1d array was expected. Please change the shape of y to (n_samples,), for example using ravel().\n",
      "  estimator.fit(X_train, y_train, **fit_params)\n"
     ]
    },
    {
     "name": "stdout",
     "output_type": "stream",
     "text": [
      "[CV]  max_depth=20, n_estimators=10, score=(train=0.762, test=0.738), total=   0.3s\n",
      "[CV] max_depth=20, n_estimators=20 ...................................\n"
     ]
    },
    {
     "name": "stderr",
     "output_type": "stream",
     "text": [
      "C:\\ProgramData\\Anaconda3\\lib\\site-packages\\sklearn\\model_selection\\_validation.py:516: DataConversionWarning: A column-vector y was passed when a 1d array was expected. Please change the shape of y to (n_samples,), for example using ravel().\n",
      "  estimator.fit(X_train, y_train, **fit_params)\n"
     ]
    },
    {
     "name": "stdout",
     "output_type": "stream",
     "text": [
      "[CV]  max_depth=20, n_estimators=20, score=(train=0.763, test=0.739), total=   0.4s\n",
      "[CV] max_depth=20, n_estimators=20 ...................................\n"
     ]
    },
    {
     "name": "stderr",
     "output_type": "stream",
     "text": [
      "C:\\ProgramData\\Anaconda3\\lib\\site-packages\\sklearn\\model_selection\\_validation.py:516: DataConversionWarning: A column-vector y was passed when a 1d array was expected. Please change the shape of y to (n_samples,), for example using ravel().\n",
      "  estimator.fit(X_train, y_train, **fit_params)\n"
     ]
    },
    {
     "name": "stdout",
     "output_type": "stream",
     "text": [
      "[CV]  max_depth=20, n_estimators=20, score=(train=0.762, test=0.738), total=   0.4s\n",
      "[CV] max_depth=20, n_estimators=20 ...................................\n"
     ]
    },
    {
     "name": "stderr",
     "output_type": "stream",
     "text": [
      "C:\\ProgramData\\Anaconda3\\lib\\site-packages\\sklearn\\model_selection\\_validation.py:516: DataConversionWarning: A column-vector y was passed when a 1d array was expected. Please change the shape of y to (n_samples,), for example using ravel().\n",
      "  estimator.fit(X_train, y_train, **fit_params)\n"
     ]
    },
    {
     "name": "stdout",
     "output_type": "stream",
     "text": [
      "[CV]  max_depth=20, n_estimators=20, score=(train=0.763, test=0.739), total=   0.4s\n",
      "[CV] max_depth=20, n_estimators=30 ...................................\n"
     ]
    },
    {
     "name": "stderr",
     "output_type": "stream",
     "text": [
      "C:\\ProgramData\\Anaconda3\\lib\\site-packages\\sklearn\\model_selection\\_validation.py:516: DataConversionWarning: A column-vector y was passed when a 1d array was expected. Please change the shape of y to (n_samples,), for example using ravel().\n",
      "  estimator.fit(X_train, y_train, **fit_params)\n"
     ]
    },
    {
     "name": "stdout",
     "output_type": "stream",
     "text": [
      "[CV]  max_depth=20, n_estimators=30, score=(train=0.764, test=0.739), total=   0.6s\n",
      "[CV] max_depth=20, n_estimators=30 ...................................\n"
     ]
    },
    {
     "name": "stderr",
     "output_type": "stream",
     "text": [
      "C:\\ProgramData\\Anaconda3\\lib\\site-packages\\sklearn\\model_selection\\_validation.py:516: DataConversionWarning: A column-vector y was passed when a 1d array was expected. Please change the shape of y to (n_samples,), for example using ravel().\n",
      "  estimator.fit(X_train, y_train, **fit_params)\n"
     ]
    },
    {
     "name": "stdout",
     "output_type": "stream",
     "text": [
      "[CV]  max_depth=20, n_estimators=30, score=(train=0.763, test=0.738), total=   0.5s\n",
      "[CV] max_depth=20, n_estimators=30 ...................................\n"
     ]
    },
    {
     "name": "stderr",
     "output_type": "stream",
     "text": [
      "C:\\ProgramData\\Anaconda3\\lib\\site-packages\\sklearn\\model_selection\\_validation.py:516: DataConversionWarning: A column-vector y was passed when a 1d array was expected. Please change the shape of y to (n_samples,), for example using ravel().\n",
      "  estimator.fit(X_train, y_train, **fit_params)\n"
     ]
    },
    {
     "name": "stdout",
     "output_type": "stream",
     "text": [
      "[CV]  max_depth=20, n_estimators=30, score=(train=0.762, test=0.740), total=   0.5s\n",
      "[CV] max_depth=30, n_estimators=10 ...................................\n"
     ]
    },
    {
     "name": "stderr",
     "output_type": "stream",
     "text": [
      "C:\\ProgramData\\Anaconda3\\lib\\site-packages\\sklearn\\model_selection\\_validation.py:516: DataConversionWarning: A column-vector y was passed when a 1d array was expected. Please change the shape of y to (n_samples,), for example using ravel().\n",
      "  estimator.fit(X_train, y_train, **fit_params)\n"
     ]
    },
    {
     "name": "stdout",
     "output_type": "stream",
     "text": [
      "[CV]  max_depth=30, n_estimators=10, score=(train=0.763, test=0.737), total=   0.3s\n",
      "[CV] max_depth=30, n_estimators=10 ...................................\n"
     ]
    },
    {
     "name": "stderr",
     "output_type": "stream",
     "text": [
      "C:\\ProgramData\\Anaconda3\\lib\\site-packages\\sklearn\\model_selection\\_validation.py:516: DataConversionWarning: A column-vector y was passed when a 1d array was expected. Please change the shape of y to (n_samples,), for example using ravel().\n",
      "  estimator.fit(X_train, y_train, **fit_params)\n"
     ]
    },
    {
     "name": "stdout",
     "output_type": "stream",
     "text": [
      "[CV]  max_depth=30, n_estimators=10, score=(train=0.762, test=0.738), total=   0.3s\n",
      "[CV] max_depth=30, n_estimators=10 ...................................\n"
     ]
    },
    {
     "name": "stderr",
     "output_type": "stream",
     "text": [
      "C:\\ProgramData\\Anaconda3\\lib\\site-packages\\sklearn\\model_selection\\_validation.py:516: DataConversionWarning: A column-vector y was passed when a 1d array was expected. Please change the shape of y to (n_samples,), for example using ravel().\n",
      "  estimator.fit(X_train, y_train, **fit_params)\n"
     ]
    },
    {
     "name": "stdout",
     "output_type": "stream",
     "text": [
      "[CV]  max_depth=30, n_estimators=10, score=(train=0.762, test=0.738), total=   0.3s\n",
      "[CV] max_depth=30, n_estimators=20 ...................................\n"
     ]
    },
    {
     "name": "stderr",
     "output_type": "stream",
     "text": [
      "C:\\ProgramData\\Anaconda3\\lib\\site-packages\\sklearn\\model_selection\\_validation.py:516: DataConversionWarning: A column-vector y was passed when a 1d array was expected. Please change the shape of y to (n_samples,), for example using ravel().\n",
      "  estimator.fit(X_train, y_train, **fit_params)\n"
     ]
    },
    {
     "name": "stdout",
     "output_type": "stream",
     "text": [
      "[CV]  max_depth=30, n_estimators=20, score=(train=0.764, test=0.739), total=   0.4s\n",
      "[CV] max_depth=30, n_estimators=20 ...................................\n"
     ]
    },
    {
     "name": "stderr",
     "output_type": "stream",
     "text": [
      "C:\\ProgramData\\Anaconda3\\lib\\site-packages\\sklearn\\model_selection\\_validation.py:516: DataConversionWarning: A column-vector y was passed when a 1d array was expected. Please change the shape of y to (n_samples,), for example using ravel().\n",
      "  estimator.fit(X_train, y_train, **fit_params)\n"
     ]
    },
    {
     "name": "stdout",
     "output_type": "stream",
     "text": [
      "[CV]  max_depth=30, n_estimators=20, score=(train=0.762, test=0.739), total=   0.4s\n",
      "[CV] max_depth=30, n_estimators=20 ...................................\n"
     ]
    },
    {
     "name": "stderr",
     "output_type": "stream",
     "text": [
      "C:\\ProgramData\\Anaconda3\\lib\\site-packages\\sklearn\\model_selection\\_validation.py:516: DataConversionWarning: A column-vector y was passed when a 1d array was expected. Please change the shape of y to (n_samples,), for example using ravel().\n",
      "  estimator.fit(X_train, y_train, **fit_params)\n"
     ]
    },
    {
     "name": "stdout",
     "output_type": "stream",
     "text": [
      "[CV]  max_depth=30, n_estimators=20, score=(train=0.762, test=0.741), total=   0.4s\n",
      "[CV] max_depth=30, n_estimators=30 ...................................\n"
     ]
    },
    {
     "name": "stderr",
     "output_type": "stream",
     "text": [
      "C:\\ProgramData\\Anaconda3\\lib\\site-packages\\sklearn\\model_selection\\_validation.py:516: DataConversionWarning: A column-vector y was passed when a 1d array was expected. Please change the shape of y to (n_samples,), for example using ravel().\n",
      "  estimator.fit(X_train, y_train, **fit_params)\n"
     ]
    },
    {
     "name": "stdout",
     "output_type": "stream",
     "text": [
      "[CV]  max_depth=30, n_estimators=30, score=(train=0.764, test=0.739), total=   0.6s\n",
      "[CV] max_depth=30, n_estimators=30 ...................................\n"
     ]
    },
    {
     "name": "stderr",
     "output_type": "stream",
     "text": [
      "C:\\ProgramData\\Anaconda3\\lib\\site-packages\\sklearn\\model_selection\\_validation.py:516: DataConversionWarning: A column-vector y was passed when a 1d array was expected. Please change the shape of y to (n_samples,), for example using ravel().\n",
      "  estimator.fit(X_train, y_train, **fit_params)\n"
     ]
    },
    {
     "name": "stdout",
     "output_type": "stream",
     "text": [
      "[CV]  max_depth=30, n_estimators=30, score=(train=0.763, test=0.737), total=   0.5s\n",
      "[CV] max_depth=30, n_estimators=30 ...................................\n"
     ]
    },
    {
     "name": "stderr",
     "output_type": "stream",
     "text": [
      "C:\\ProgramData\\Anaconda3\\lib\\site-packages\\sklearn\\model_selection\\_validation.py:516: DataConversionWarning: A column-vector y was passed when a 1d array was expected. Please change the shape of y to (n_samples,), for example using ravel().\n",
      "  estimator.fit(X_train, y_train, **fit_params)\n"
     ]
    },
    {
     "name": "stdout",
     "output_type": "stream",
     "text": [
      "[CV]  max_depth=30, n_estimators=30, score=(train=0.762, test=0.741), total=   0.5s\n"
     ]
    },
    {
     "name": "stderr",
     "output_type": "stream",
     "text": [
      "[Parallel(n_jobs=1)]: Done  36 out of  36 | elapsed:   20.3s finished\n",
      "C:\\ProgramData\\Anaconda3\\lib\\site-packages\\sklearn\\model_selection\\_search.py:715: DataConversionWarning: A column-vector y was passed when a 1d array was expected. Please change the shape of y to (n_samples,), for example using ravel().\n",
      "  self.best_estimator_.fit(X, y, **fit_params)\n"
     ]
    },
    {
     "name": "stdout",
     "output_type": "stream",
     "text": [
      "{'max_depth': 6, 'n_estimators': 30}\n"
     ]
    }
   ],
   "source": [
    "param_grid = {\n",
    "    'n_estimators': [10, 20, 30],\n",
    "    'max_depth': [6, 10, 20, 30]\n",
    "}\n",
    "gridsearch = GridSearchCV(RandomForestClassifier(n_jobs = -1), \n",
    "                          param_grid=param_grid, \n",
    "                          scoring='accuracy', cv=3, \n",
    "                          return_train_score=True, verbose=10)\n",
    "grid_result = gridsearch.fit(X_train, y_train)"
   ]
  },
  {
   "cell_type": "markdown",
   "metadata": {},
   "source": [
    "### Shows Scores of different parameters\n",
    "> Highest mean test score is 0.744"
   ]
  },
  {
   "cell_type": "code",
   "execution_count": 13,
   "metadata": {},
   "outputs": [
    {
     "data": {
      "text/html": [
       "<div>\n",
       "<style scoped>\n",
       "    .dataframe tbody tr th:only-of-type {\n",
       "        vertical-align: middle;\n",
       "    }\n",
       "\n",
       "    .dataframe tbody tr th {\n",
       "        vertical-align: top;\n",
       "    }\n",
       "\n",
       "    .dataframe thead th {\n",
       "        text-align: right;\n",
       "    }\n",
       "</style>\n",
       "<table border=\"1\" class=\"dataframe\">\n",
       "  <thead>\n",
       "    <tr style=\"text-align: right;\">\n",
       "      <th></th>\n",
       "      <th>mean_fit_time</th>\n",
       "      <th>std_fit_time</th>\n",
       "      <th>mean_score_time</th>\n",
       "      <th>std_score_time</th>\n",
       "      <th>param_max_depth</th>\n",
       "      <th>param_n_estimators</th>\n",
       "      <th>params</th>\n",
       "      <th>split0_test_score</th>\n",
       "      <th>split1_test_score</th>\n",
       "      <th>split2_test_score</th>\n",
       "      <th>mean_test_score</th>\n",
       "      <th>std_test_score</th>\n",
       "      <th>rank_test_score</th>\n",
       "      <th>split0_train_score</th>\n",
       "      <th>split1_train_score</th>\n",
       "      <th>split2_train_score</th>\n",
       "      <th>mean_train_score</th>\n",
       "      <th>std_train_score</th>\n",
       "    </tr>\n",
       "  </thead>\n",
       "  <tbody>\n",
       "    <tr>\n",
       "      <td>2</td>\n",
       "      <td>0.327124</td>\n",
       "      <td>0.019151</td>\n",
       "      <td>0.128325</td>\n",
       "      <td>0.003389</td>\n",
       "      <td>6</td>\n",
       "      <td>30</td>\n",
       "      <td>{'max_depth': 6, 'n_estimators': 30}</td>\n",
       "      <td>0.746817</td>\n",
       "      <td>0.743944</td>\n",
       "      <td>0.746461</td>\n",
       "      <td>0.745740</td>\n",
       "      <td>0.001279</td>\n",
       "      <td>1</td>\n",
       "      <td>0.747631</td>\n",
       "      <td>0.748712</td>\n",
       "      <td>0.747631</td>\n",
       "      <td>0.747991</td>\n",
       "      <td>0.000510</td>\n",
       "    </tr>\n",
       "    <tr>\n",
       "      <td>0</td>\n",
       "      <td>0.162899</td>\n",
       "      <td>0.049896</td>\n",
       "      <td>0.131979</td>\n",
       "      <td>0.007566</td>\n",
       "      <td>6</td>\n",
       "      <td>10</td>\n",
       "      <td>{'max_depth': 6, 'n_estimators': 10}</td>\n",
       "      <td>0.746224</td>\n",
       "      <td>0.744299</td>\n",
       "      <td>0.745987</td>\n",
       "      <td>0.745503</td>\n",
       "      <td>0.000857</td>\n",
       "      <td>2</td>\n",
       "      <td>0.746712</td>\n",
       "      <td>0.748564</td>\n",
       "      <td>0.746742</td>\n",
       "      <td>0.747340</td>\n",
       "      <td>0.000866</td>\n",
       "    </tr>\n",
       "    <tr>\n",
       "      <td>1</td>\n",
       "      <td>0.214760</td>\n",
       "      <td>0.017958</td>\n",
       "      <td>0.130984</td>\n",
       "      <td>0.002486</td>\n",
       "      <td>6</td>\n",
       "      <td>20</td>\n",
       "      <td>{'max_depth': 6, 'n_estimators': 20}</td>\n",
       "      <td>0.745751</td>\n",
       "      <td>0.744299</td>\n",
       "      <td>0.745809</td>\n",
       "      <td>0.745286</td>\n",
       "      <td>0.000698</td>\n",
       "      <td>3</td>\n",
       "      <td>0.747690</td>\n",
       "      <td>0.748208</td>\n",
       "      <td>0.746891</td>\n",
       "      <td>0.747596</td>\n",
       "      <td>0.000542</td>\n",
       "    </tr>\n",
       "    <tr>\n",
       "      <td>5</td>\n",
       "      <td>0.435170</td>\n",
       "      <td>0.042347</td>\n",
       "      <td>0.130983</td>\n",
       "      <td>0.004701</td>\n",
       "      <td>10</td>\n",
       "      <td>30</td>\n",
       "      <td>{'max_depth': 10, 'n_estimators': 30}</td>\n",
       "      <td>0.742316</td>\n",
       "      <td>0.743292</td>\n",
       "      <td>0.745157</td>\n",
       "      <td>0.743588</td>\n",
       "      <td>0.001179</td>\n",
       "      <td>4</td>\n",
       "      <td>0.759300</td>\n",
       "      <td>0.758396</td>\n",
       "      <td>0.758085</td>\n",
       "      <td>0.758593</td>\n",
       "      <td>0.000515</td>\n",
       "    </tr>\n",
       "    <tr>\n",
       "      <td>4</td>\n",
       "      <td>0.273270</td>\n",
       "      <td>0.004887</td>\n",
       "      <td>0.131314</td>\n",
       "      <td>0.001880</td>\n",
       "      <td>10</td>\n",
       "      <td>20</td>\n",
       "      <td>{'max_depth': 10, 'n_estimators': 20}</td>\n",
       "      <td>0.742020</td>\n",
       "      <td>0.743055</td>\n",
       "      <td>0.744446</td>\n",
       "      <td>0.743174</td>\n",
       "      <td>0.000994</td>\n",
       "      <td>5</td>\n",
       "      <td>0.759300</td>\n",
       "      <td>0.758337</td>\n",
       "      <td>0.758055</td>\n",
       "      <td>0.758564</td>\n",
       "      <td>0.000533</td>\n",
       "    </tr>\n",
       "    <tr>\n",
       "      <td>3</td>\n",
       "      <td>0.131980</td>\n",
       "      <td>0.005722</td>\n",
       "      <td>0.131980</td>\n",
       "      <td>0.005299</td>\n",
       "      <td>10</td>\n",
       "      <td>10</td>\n",
       "      <td>{'max_depth': 10, 'n_estimators': 10}</td>\n",
       "      <td>0.743382</td>\n",
       "      <td>0.740567</td>\n",
       "      <td>0.744624</td>\n",
       "      <td>0.742858</td>\n",
       "      <td>0.001697</td>\n",
       "      <td>6</td>\n",
       "      <td>0.757849</td>\n",
       "      <td>0.757893</td>\n",
       "      <td>0.757492</td>\n",
       "      <td>0.757744</td>\n",
       "      <td>0.000179</td>\n",
       "    </tr>\n",
       "    <tr>\n",
       "      <td>10</td>\n",
       "      <td>0.254984</td>\n",
       "      <td>0.010597</td>\n",
       "      <td>0.130318</td>\n",
       "      <td>0.000469</td>\n",
       "      <td>30</td>\n",
       "      <td>20</td>\n",
       "      <td>{'max_depth': 30, 'n_estimators': 20}</td>\n",
       "      <td>0.738525</td>\n",
       "      <td>0.738909</td>\n",
       "      <td>0.741425</td>\n",
       "      <td>0.739620</td>\n",
       "      <td>0.001286</td>\n",
       "      <td>7</td>\n",
       "      <td>0.763683</td>\n",
       "      <td>0.762365</td>\n",
       "      <td>0.762467</td>\n",
       "      <td>0.762838</td>\n",
       "      <td>0.000599</td>\n",
       "    </tr>\n",
       "    <tr>\n",
       "      <td>8</td>\n",
       "      <td>0.412232</td>\n",
       "      <td>0.014666</td>\n",
       "      <td>0.133975</td>\n",
       "      <td>0.004180</td>\n",
       "      <td>20</td>\n",
       "      <td>30</td>\n",
       "      <td>{'max_depth': 20, 'n_estimators': 30}</td>\n",
       "      <td>0.738821</td>\n",
       "      <td>0.738435</td>\n",
       "      <td>0.739648</td>\n",
       "      <td>0.738968</td>\n",
       "      <td>0.000506</td>\n",
       "      <td>8</td>\n",
       "      <td>0.763772</td>\n",
       "      <td>0.762542</td>\n",
       "      <td>0.762497</td>\n",
       "      <td>0.762937</td>\n",
       "      <td>0.000591</td>\n",
       "    </tr>\n",
       "    <tr>\n",
       "      <td>11</td>\n",
       "      <td>0.421871</td>\n",
       "      <td>0.016225</td>\n",
       "      <td>0.131650</td>\n",
       "      <td>0.001408</td>\n",
       "      <td>30</td>\n",
       "      <td>30</td>\n",
       "      <td>{'max_depth': 30, 'n_estimators': 30}</td>\n",
       "      <td>0.738821</td>\n",
       "      <td>0.737310</td>\n",
       "      <td>0.740655</td>\n",
       "      <td>0.738929</td>\n",
       "      <td>0.001368</td>\n",
       "      <td>9</td>\n",
       "      <td>0.763713</td>\n",
       "      <td>0.762631</td>\n",
       "      <td>0.762467</td>\n",
       "      <td>0.762937</td>\n",
       "      <td>0.000553</td>\n",
       "    </tr>\n",
       "    <tr>\n",
       "      <td>7</td>\n",
       "      <td>0.263628</td>\n",
       "      <td>0.013240</td>\n",
       "      <td>0.132323</td>\n",
       "      <td>0.004024</td>\n",
       "      <td>20</td>\n",
       "      <td>20</td>\n",
       "      <td>{'max_depth': 20, 'n_estimators': 20}</td>\n",
       "      <td>0.738762</td>\n",
       "      <td>0.737665</td>\n",
       "      <td>0.739293</td>\n",
       "      <td>0.738573</td>\n",
       "      <td>0.000678</td>\n",
       "      <td>10</td>\n",
       "      <td>0.763417</td>\n",
       "      <td>0.762394</td>\n",
       "      <td>0.762527</td>\n",
       "      <td>0.762779</td>\n",
       "      <td>0.000454</td>\n",
       "    </tr>\n",
       "    <tr>\n",
       "      <td>9</td>\n",
       "      <td>0.152261</td>\n",
       "      <td>0.017921</td>\n",
       "      <td>0.134985</td>\n",
       "      <td>0.009802</td>\n",
       "      <td>30</td>\n",
       "      <td>10</td>\n",
       "      <td>{'max_depth': 30, 'n_estimators': 10}</td>\n",
       "      <td>0.737104</td>\n",
       "      <td>0.737665</td>\n",
       "      <td>0.738049</td>\n",
       "      <td>0.737606</td>\n",
       "      <td>0.000388</td>\n",
       "      <td>11</td>\n",
       "      <td>0.762972</td>\n",
       "      <td>0.761743</td>\n",
       "      <td>0.761668</td>\n",
       "      <td>0.762128</td>\n",
       "      <td>0.000598</td>\n",
       "    </tr>\n",
       "    <tr>\n",
       "      <td>6</td>\n",
       "      <td>0.163894</td>\n",
       "      <td>0.009508</td>\n",
       "      <td>0.131981</td>\n",
       "      <td>0.000470</td>\n",
       "      <td>20</td>\n",
       "      <td>10</td>\n",
       "      <td>{'max_depth': 20, 'n_estimators': 10}</td>\n",
       "      <td>0.736571</td>\n",
       "      <td>0.737784</td>\n",
       "      <td>0.738226</td>\n",
       "      <td>0.737527</td>\n",
       "      <td>0.000700</td>\n",
       "      <td>12</td>\n",
       "      <td>0.762706</td>\n",
       "      <td>0.762039</td>\n",
       "      <td>0.761579</td>\n",
       "      <td>0.762108</td>\n",
       "      <td>0.000463</td>\n",
       "    </tr>\n",
       "  </tbody>\n",
       "</table>\n",
       "</div>"
      ],
      "text/plain": [
       "    mean_fit_time  std_fit_time  mean_score_time  std_score_time  \\\n",
       "2        0.327124      0.019151         0.128325        0.003389   \n",
       "0        0.162899      0.049896         0.131979        0.007566   \n",
       "1        0.214760      0.017958         0.130984        0.002486   \n",
       "5        0.435170      0.042347         0.130983        0.004701   \n",
       "4        0.273270      0.004887         0.131314        0.001880   \n",
       "3        0.131980      0.005722         0.131980        0.005299   \n",
       "10       0.254984      0.010597         0.130318        0.000469   \n",
       "8        0.412232      0.014666         0.133975        0.004180   \n",
       "11       0.421871      0.016225         0.131650        0.001408   \n",
       "7        0.263628      0.013240         0.132323        0.004024   \n",
       "9        0.152261      0.017921         0.134985        0.009802   \n",
       "6        0.163894      0.009508         0.131981        0.000470   \n",
       "\n",
       "   param_max_depth param_n_estimators                                 params  \\\n",
       "2                6                 30   {'max_depth': 6, 'n_estimators': 30}   \n",
       "0                6                 10   {'max_depth': 6, 'n_estimators': 10}   \n",
       "1                6                 20   {'max_depth': 6, 'n_estimators': 20}   \n",
       "5               10                 30  {'max_depth': 10, 'n_estimators': 30}   \n",
       "4               10                 20  {'max_depth': 10, 'n_estimators': 20}   \n",
       "3               10                 10  {'max_depth': 10, 'n_estimators': 10}   \n",
       "10              30                 20  {'max_depth': 30, 'n_estimators': 20}   \n",
       "8               20                 30  {'max_depth': 20, 'n_estimators': 30}   \n",
       "11              30                 30  {'max_depth': 30, 'n_estimators': 30}   \n",
       "7               20                 20  {'max_depth': 20, 'n_estimators': 20}   \n",
       "9               30                 10  {'max_depth': 30, 'n_estimators': 10}   \n",
       "6               20                 10  {'max_depth': 20, 'n_estimators': 10}   \n",
       "\n",
       "    split0_test_score  split1_test_score  split2_test_score  mean_test_score  \\\n",
       "2            0.746817           0.743944           0.746461         0.745740   \n",
       "0            0.746224           0.744299           0.745987         0.745503   \n",
       "1            0.745751           0.744299           0.745809         0.745286   \n",
       "5            0.742316           0.743292           0.745157         0.743588   \n",
       "4            0.742020           0.743055           0.744446         0.743174   \n",
       "3            0.743382           0.740567           0.744624         0.742858   \n",
       "10           0.738525           0.738909           0.741425         0.739620   \n",
       "8            0.738821           0.738435           0.739648         0.738968   \n",
       "11           0.738821           0.737310           0.740655         0.738929   \n",
       "7            0.738762           0.737665           0.739293         0.738573   \n",
       "9            0.737104           0.737665           0.738049         0.737606   \n",
       "6            0.736571           0.737784           0.738226         0.737527   \n",
       "\n",
       "    std_test_score  rank_test_score  split0_train_score  split1_train_score  \\\n",
       "2         0.001279                1            0.747631            0.748712   \n",
       "0         0.000857                2            0.746712            0.748564   \n",
       "1         0.000698                3            0.747690            0.748208   \n",
       "5         0.001179                4            0.759300            0.758396   \n",
       "4         0.000994                5            0.759300            0.758337   \n",
       "3         0.001697                6            0.757849            0.757893   \n",
       "10        0.001286                7            0.763683            0.762365   \n",
       "8         0.000506                8            0.763772            0.762542   \n",
       "11        0.001368                9            0.763713            0.762631   \n",
       "7         0.000678               10            0.763417            0.762394   \n",
       "9         0.000388               11            0.762972            0.761743   \n",
       "6         0.000700               12            0.762706            0.762039   \n",
       "\n",
       "    split2_train_score  mean_train_score  std_train_score  \n",
       "2             0.747631          0.747991         0.000510  \n",
       "0             0.746742          0.747340         0.000866  \n",
       "1             0.746891          0.747596         0.000542  \n",
       "5             0.758085          0.758593         0.000515  \n",
       "4             0.758055          0.758564         0.000533  \n",
       "3             0.757492          0.757744         0.000179  \n",
       "10            0.762467          0.762838         0.000599  \n",
       "8             0.762497          0.762937         0.000591  \n",
       "11            0.762467          0.762937         0.000553  \n",
       "7             0.762527          0.762779         0.000454  \n",
       "9             0.761668          0.762128         0.000598  \n",
       "6             0.761579          0.762108         0.000463  "
      ]
     },
     "execution_count": 13,
     "metadata": {},
     "output_type": "execute_result"
    }
   ],
   "source": [
    "pd.DataFrame(gridsearch.cv_results_).sort_values( \\\n",
    "                                         by='rank_test_score')"
   ]
  },
  {
   "cell_type": "code",
   "execution_count": 16,
   "metadata": {},
   "outputs": [
    {
     "name": "stdout",
     "output_type": "stream",
     "text": [
      "{'max_depth': 6, 'n_estimators': 30}\n"
     ]
    },
    {
     "ename": "AttributeError",
     "evalue": "'GridSearchCV' object has no attribute 'feature_importances_'",
     "output_type": "error",
     "traceback": [
      "\u001b[1;31m---------------------------------------------------------------------------\u001b[0m",
      "\u001b[1;31mAttributeError\u001b[0m                            Traceback (most recent call last)",
      "\u001b[1;32m<ipython-input-16-4e1d8547d06c>\u001b[0m in \u001b[0;36m<module>\u001b[1;34m\u001b[0m\n\u001b[0;32m      1\u001b[0m \u001b[0mprint\u001b[0m \u001b[1;33m(\u001b[0m\u001b[0mgridsearch\u001b[0m\u001b[1;33m.\u001b[0m\u001b[0mbest_params_\u001b[0m\u001b[1;33m)\u001b[0m\u001b[1;33m\u001b[0m\u001b[1;33m\u001b[0m\u001b[0m\n\u001b[1;32m----> 2\u001b[1;33m \u001b[0mimportances\u001b[0m \u001b[1;33m=\u001b[0m \u001b[0mgridsearch\u001b[0m\u001b[1;33m.\u001b[0m\u001b[0mfeature_importances_\u001b[0m\u001b[1;33m\u001b[0m\u001b[1;33m\u001b[0m\u001b[0m\n\u001b[0m\u001b[0;32m      3\u001b[0m \u001b[0mimportances\u001b[0m\u001b[1;33m\u001b[0m\u001b[1;33m\u001b[0m\u001b[0m\n",
      "\u001b[1;31mAttributeError\u001b[0m: 'GridSearchCV' object has no attribute 'feature_importances_'"
     ]
    }
   ],
   "source": [
    "print (gridsearch.best_params_)\n",
    "importances = gridsearch.feature_importances_\n",
    "importances"
   ]
  },
  {
   "cell_type": "code",
   "execution_count": 15,
   "metadata": {},
   "outputs": [
    {
     "ename": "KeyError",
     "evalue": "\"None of [Index(['year', 'Life Ladder', 'Log GDP per capita', 'Social support',\\n       'Healthy life expectancy at birth', 'Freedom to make life choices',\\n       'Generosity', 'Perceptions of corruption', 'Positive affect',\\n       'Negative affect', 'Confidence in national government',\\n       'Democratic Quality', 'Delivery Quality',\\n       'Standard deviation of ladder by country-year',\\n       'Standard deviation/Mean of ladder by country-year',\\n       'GINI index (World Bank estimate), average 2000-15'],\\n      dtype='object')] are in the [columns]\"",
     "output_type": "error",
     "traceback": [
      "\u001b[1;31m---------------------------------------------------------------------------\u001b[0m",
      "\u001b[1;31mKeyError\u001b[0m                                  Traceback (most recent call last)",
      "\u001b[1;32m<ipython-input-15-990c0d61cd6f>\u001b[0m in \u001b[0;36m<module>\u001b[1;34m\u001b[0m\n\u001b[0;32m      5\u001b[0m \u001b[1;33m\u001b[0m\u001b[0m\n\u001b[0;32m      6\u001b[0m \u001b[1;33m\u001b[0m\u001b[0m\n\u001b[1;32m----> 7\u001b[1;33m \u001b[0mx\u001b[0m \u001b[1;33m=\u001b[0m \u001b[0maviation\u001b[0m\u001b[1;33m[\u001b[0m\u001b[1;33m[\u001b[0m\u001b[1;34m'year'\u001b[0m\u001b[1;33m,\u001b[0m\u001b[1;34m'Life Ladder'\u001b[0m\u001b[1;33m,\u001b[0m \u001b[1;34m'Log GDP per capita'\u001b[0m\u001b[1;33m,\u001b[0m\u001b[1;34m'Social support'\u001b[0m\u001b[1;33m,\u001b[0m\u001b[1;34m'Healthy life expectancy at birth'\u001b[0m\u001b[1;33m,\u001b[0m\u001b[1;34m'Freedom to make life choices'\u001b[0m\u001b[1;33m,\u001b[0m\u001b[1;34m'Generosity'\u001b[0m\u001b[1;33m,\u001b[0m\u001b[1;34m'Perceptions of corruption'\u001b[0m\u001b[1;33m,\u001b[0m\u001b[1;34m'Positive affect'\u001b[0m\u001b[1;33m,\u001b[0m\u001b[1;34m'Negative affect'\u001b[0m\u001b[1;33m,\u001b[0m\u001b[1;34m'Confidence in national government'\u001b[0m\u001b[1;33m,\u001b[0m\u001b[1;34m'Democratic Quality'\u001b[0m\u001b[1;33m,\u001b[0m\u001b[1;34m'Delivery Quality'\u001b[0m\u001b[1;33m,\u001b[0m\u001b[1;34m'Standard deviation of ladder by country-year'\u001b[0m\u001b[1;33m,\u001b[0m\u001b[1;34m'Standard deviation/Mean of ladder by country-year'\u001b[0m\u001b[1;33m,\u001b[0m\u001b[1;34m'GINI index (World Bank estimate), average 2000-15'\u001b[0m\u001b[1;33m]\u001b[0m\u001b[1;33m]\u001b[0m\u001b[1;33m\u001b[0m\u001b[1;33m\u001b[0m\u001b[0m\n\u001b[0m\u001b[0;32m      8\u001b[0m \u001b[0my\u001b[0m \u001b[1;33m=\u001b[0m \u001b[0maviation\u001b[0m\u001b[1;33m[\u001b[0m\u001b[1;34m'AircraftDamage'\u001b[0m\u001b[1;33m]\u001b[0m \u001b[1;31m#labels\u001b[0m\u001b[1;33m\u001b[0m\u001b[1;33m\u001b[0m\u001b[0m\n\u001b[0;32m      9\u001b[0m \u001b[1;33m\u001b[0m\u001b[0m\n",
      "\u001b[1;32mC:\\ProgramData\\Anaconda3\\lib\\site-packages\\pandas\\core\\frame.py\u001b[0m in \u001b[0;36m__getitem__\u001b[1;34m(self, key)\u001b[0m\n\u001b[0;32m   2984\u001b[0m             \u001b[1;32mif\u001b[0m \u001b[0mis_iterator\u001b[0m\u001b[1;33m(\u001b[0m\u001b[0mkey\u001b[0m\u001b[1;33m)\u001b[0m\u001b[1;33m:\u001b[0m\u001b[1;33m\u001b[0m\u001b[1;33m\u001b[0m\u001b[0m\n\u001b[0;32m   2985\u001b[0m                 \u001b[0mkey\u001b[0m \u001b[1;33m=\u001b[0m \u001b[0mlist\u001b[0m\u001b[1;33m(\u001b[0m\u001b[0mkey\u001b[0m\u001b[1;33m)\u001b[0m\u001b[1;33m\u001b[0m\u001b[1;33m\u001b[0m\u001b[0m\n\u001b[1;32m-> 2986\u001b[1;33m             \u001b[0mindexer\u001b[0m \u001b[1;33m=\u001b[0m \u001b[0mself\u001b[0m\u001b[1;33m.\u001b[0m\u001b[0mloc\u001b[0m\u001b[1;33m.\u001b[0m\u001b[0m_convert_to_indexer\u001b[0m\u001b[1;33m(\u001b[0m\u001b[0mkey\u001b[0m\u001b[1;33m,\u001b[0m \u001b[0maxis\u001b[0m\u001b[1;33m=\u001b[0m\u001b[1;36m1\u001b[0m\u001b[1;33m,\u001b[0m \u001b[0mraise_missing\u001b[0m\u001b[1;33m=\u001b[0m\u001b[1;32mTrue\u001b[0m\u001b[1;33m)\u001b[0m\u001b[1;33m\u001b[0m\u001b[1;33m\u001b[0m\u001b[0m\n\u001b[0m\u001b[0;32m   2987\u001b[0m \u001b[1;33m\u001b[0m\u001b[0m\n\u001b[0;32m   2988\u001b[0m         \u001b[1;31m# take() does not accept boolean indexers\u001b[0m\u001b[1;33m\u001b[0m\u001b[1;33m\u001b[0m\u001b[1;33m\u001b[0m\u001b[0m\n",
      "\u001b[1;32mC:\\ProgramData\\Anaconda3\\lib\\site-packages\\pandas\\core\\indexing.py\u001b[0m in \u001b[0;36m_convert_to_indexer\u001b[1;34m(self, obj, axis, is_setter, raise_missing)\u001b[0m\n\u001b[0;32m   1283\u001b[0m                 \u001b[1;31m# When setting, missing keys are not allowed, even with .loc:\u001b[0m\u001b[1;33m\u001b[0m\u001b[1;33m\u001b[0m\u001b[1;33m\u001b[0m\u001b[0m\n\u001b[0;32m   1284\u001b[0m                 \u001b[0mkwargs\u001b[0m \u001b[1;33m=\u001b[0m \u001b[1;33m{\u001b[0m\u001b[1;34m\"raise_missing\"\u001b[0m\u001b[1;33m:\u001b[0m \u001b[1;32mTrue\u001b[0m \u001b[1;32mif\u001b[0m \u001b[0mis_setter\u001b[0m \u001b[1;32melse\u001b[0m \u001b[0mraise_missing\u001b[0m\u001b[1;33m}\u001b[0m\u001b[1;33m\u001b[0m\u001b[1;33m\u001b[0m\u001b[0m\n\u001b[1;32m-> 1285\u001b[1;33m                 \u001b[1;32mreturn\u001b[0m \u001b[0mself\u001b[0m\u001b[1;33m.\u001b[0m\u001b[0m_get_listlike_indexer\u001b[0m\u001b[1;33m(\u001b[0m\u001b[0mobj\u001b[0m\u001b[1;33m,\u001b[0m \u001b[0maxis\u001b[0m\u001b[1;33m,\u001b[0m \u001b[1;33m**\u001b[0m\u001b[0mkwargs\u001b[0m\u001b[1;33m)\u001b[0m\u001b[1;33m[\u001b[0m\u001b[1;36m1\u001b[0m\u001b[1;33m]\u001b[0m\u001b[1;33m\u001b[0m\u001b[1;33m\u001b[0m\u001b[0m\n\u001b[0m\u001b[0;32m   1286\u001b[0m         \u001b[1;32melse\u001b[0m\u001b[1;33m:\u001b[0m\u001b[1;33m\u001b[0m\u001b[1;33m\u001b[0m\u001b[0m\n\u001b[0;32m   1287\u001b[0m             \u001b[1;32mtry\u001b[0m\u001b[1;33m:\u001b[0m\u001b[1;33m\u001b[0m\u001b[1;33m\u001b[0m\u001b[0m\n",
      "\u001b[1;32mC:\\ProgramData\\Anaconda3\\lib\\site-packages\\pandas\\core\\indexing.py\u001b[0m in \u001b[0;36m_get_listlike_indexer\u001b[1;34m(self, key, axis, raise_missing)\u001b[0m\n\u001b[0;32m   1090\u001b[0m \u001b[1;33m\u001b[0m\u001b[0m\n\u001b[0;32m   1091\u001b[0m         self._validate_read_indexer(\n\u001b[1;32m-> 1092\u001b[1;33m             \u001b[0mkeyarr\u001b[0m\u001b[1;33m,\u001b[0m \u001b[0mindexer\u001b[0m\u001b[1;33m,\u001b[0m \u001b[0mo\u001b[0m\u001b[1;33m.\u001b[0m\u001b[0m_get_axis_number\u001b[0m\u001b[1;33m(\u001b[0m\u001b[0maxis\u001b[0m\u001b[1;33m)\u001b[0m\u001b[1;33m,\u001b[0m \u001b[0mraise_missing\u001b[0m\u001b[1;33m=\u001b[0m\u001b[0mraise_missing\u001b[0m\u001b[1;33m\u001b[0m\u001b[1;33m\u001b[0m\u001b[0m\n\u001b[0m\u001b[0;32m   1093\u001b[0m         )\n\u001b[0;32m   1094\u001b[0m         \u001b[1;32mreturn\u001b[0m \u001b[0mkeyarr\u001b[0m\u001b[1;33m,\u001b[0m \u001b[0mindexer\u001b[0m\u001b[1;33m\u001b[0m\u001b[1;33m\u001b[0m\u001b[0m\n",
      "\u001b[1;32mC:\\ProgramData\\Anaconda3\\lib\\site-packages\\pandas\\core\\indexing.py\u001b[0m in \u001b[0;36m_validate_read_indexer\u001b[1;34m(self, key, indexer, axis, raise_missing)\u001b[0m\n\u001b[0;32m   1175\u001b[0m                 raise KeyError(\n\u001b[0;32m   1176\u001b[0m                     \"None of [{key}] are in the [{axis}]\".format(\n\u001b[1;32m-> 1177\u001b[1;33m                         \u001b[0mkey\u001b[0m\u001b[1;33m=\u001b[0m\u001b[0mkey\u001b[0m\u001b[1;33m,\u001b[0m \u001b[0maxis\u001b[0m\u001b[1;33m=\u001b[0m\u001b[0mself\u001b[0m\u001b[1;33m.\u001b[0m\u001b[0mobj\u001b[0m\u001b[1;33m.\u001b[0m\u001b[0m_get_axis_name\u001b[0m\u001b[1;33m(\u001b[0m\u001b[0maxis\u001b[0m\u001b[1;33m)\u001b[0m\u001b[1;33m\u001b[0m\u001b[1;33m\u001b[0m\u001b[0m\n\u001b[0m\u001b[0;32m   1178\u001b[0m                     )\n\u001b[0;32m   1179\u001b[0m                 )\n",
      "\u001b[1;31mKeyError\u001b[0m: \"None of [Index(['year', 'Life Ladder', 'Log GDP per capita', 'Social support',\\n       'Healthy life expectancy at birth', 'Freedom to make life choices',\\n       'Generosity', 'Perceptions of corruption', 'Positive affect',\\n       'Negative affect', 'Confidence in national government',\\n       'Democratic Quality', 'Delivery Quality',\\n       'Standard deviation of ladder by country-year',\\n       'Standard deviation/Mean of ladder by country-year',\\n       'GINI index (World Bank estimate), average 2000-15'],\\n      dtype='object')] are in the [columns]\""
     ]
    }
   ],
   "source": [
    "#import train_test_split function\n",
    "from sklearn.model_selection import train_test_split\n",
    "\n",
    "aviation = pd.read_csv('../Data/AviationFinal.csv')\n",
    "\n",
    "\n",
    "x = aviation[['year','Life Ladder', 'Log GDP per capita','Social support','Healthy life expectancy at birth','Freedom to make life choices','Generosity','Perceptions of corruption','Positive affect','Negative affect','Confidence in national government','Democratic Quality','Delivery Quality','Standard deviation of ladder by country-year','Standard deviation/Mean of ladder by country-year','GINI index (World Bank estimate), average 2000-15']]\n",
    "y = aviation['AircraftDamage'] #labels\n",
    "\n",
    "#split dataset into training set and test set\n",
    "#split 70% training and 30% testing\n",
    "x_train, x_test, y_train, y_test = train_test_split(x,y,test_size = 0.3)"
   ]
  },
  {
   "cell_type": "code",
   "execution_count": null,
   "metadata": {},
   "outputs": [],
   "source": []
  }
 ],
 "metadata": {
  "kernelspec": {
   "display_name": "Python 3",
   "language": "python",
   "name": "python3"
  },
  "language_info": {
   "codemirror_mode": {
    "name": "ipython",
    "version": 3
   },
   "file_extension": ".py",
   "mimetype": "text/x-python",
   "name": "python",
   "nbconvert_exporter": "python",
   "pygments_lexer": "ipython3",
   "version": "3.7.4"
  }
 },
 "nbformat": 4,
 "nbformat_minor": 2
}

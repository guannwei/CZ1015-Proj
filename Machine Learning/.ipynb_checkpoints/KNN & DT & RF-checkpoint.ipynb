{
 "cells": [
  {
   "cell_type": "markdown",
   "metadata": {},
   "source": [
    "# K-Nearest Neighbours, Decision Tree, Random Forest "
   ]
  },
  {
   "cell_type": "markdown",
   "metadata": {
    "colab_type": "text",
    "id": "kDN49lBTUIl9"
   },
   "source": [
    "### Import Libraries"
   ]
  },
  {
   "cell_type": "code",
   "execution_count": 13,
   "metadata": {
    "colab": {
     "base_uri": "https://localhost:8080/",
     "height": 71
    },
    "colab_type": "code",
    "id": "vT2rzn02MFIN",
    "outputId": "cb8201e0-a220-40a9-d377-f38ef5860250"
   },
   "outputs": [],
   "source": [
    "import pandas as pd \n",
    "import numpy as np\n",
    "import matplotlib.pyplot as plt\n",
    "import seaborn as sns\n",
    "from sklearn.preprocessing import LabelEncoder"
   ]
  },
  {
   "cell_type": "markdown",
   "metadata": {
    "colab_type": "text",
    "id": "fGNiq429UPgT"
   },
   "source": [
    "### Importing Data \n"
   ]
  },
  {
   "cell_type": "code",
   "execution_count": 14,
   "metadata": {
    "colab": {},
    "colab_type": "code",
    "id": "v8UZ58fVMl9w"
   },
   "outputs": [],
   "source": [
    "x_train=pd.read_csv('../Data/x_train.csv')\n",
    "x_test=pd.read_csv('../Data/x_test.csv')\n",
    "y_train=pd.read_csv('../Data/y_train.csv')\n",
    "y_test=pd.read_csv('../Data/y_test.csv')"
   ]
  },
  {
   "cell_type": "markdown",
   "metadata": {},
   "source": [
    "### Drop non-important columns"
   ]
  },
  {
   "cell_type": "code",
   "execution_count": 15,
   "metadata": {},
   "outputs": [],
   "source": [
    "x_train = x_train.drop(['EventID', 'Latitude', 'Longitude', 'TotalFatalInjuries',\n",
    "         'TotalSeriousInjuries', 'TotalMinorInjuries', 'TotalUninjured', 'TotalInjuries',\n",
    "         'EventDate', 'Year', 'Country', 'InjurySeverity', 'InvestigationType'],axis=1)\n",
    "x_test = x_test.drop(['EventID', 'Latitude', 'Longitude', 'TotalFatalInjuries',\n",
    "         'TotalSeriousInjuries', 'TotalMinorInjuries', 'TotalUninjured', 'TotalInjuries',\n",
    "         'EventDate', 'Year', 'Country', 'InjurySeverity', 'InvestigationType'],axis=1)"
   ]
  },
  {
   "cell_type": "markdown",
   "metadata": {
    "colab_type": "text",
    "id": "logWujaah84I"
   },
   "source": [
    "### Hot Encoding to convert categorical data to numerical"
   ]
  },
  {
   "cell_type": "code",
   "execution_count": 16,
   "metadata": {
    "colab": {},
    "colab_type": "code",
    "id": "UUxVLQTA0tsN"
   },
   "outputs": [
    {
     "name": "stderr",
     "output_type": "stream",
     "text": [
      "D:\\ProgramData\\Anaconda3\\lib\\site-packages\\sklearn\\preprocessing\\label.py:235: DataConversionWarning: A column-vector y was passed when a 1d array was expected. Please change the shape of y to (n_samples, ), for example using ravel().\n",
      "  y = column_or_1d(y, warn=True)\n"
     ]
    }
   ],
   "source": [
    "# creating instance of labelencoder\n",
    "labelencoder = LabelEncoder()\n",
    "\n",
    "# Converting categorical values to numerical\n",
    "x_train['WeatherCondition'] = labelencoder.fit_transform(x_train['WeatherCondition'])\n",
    "x_train['BroadPhaseOfFlight'] = labelencoder.fit_transform(x_train['BroadPhaseOfFlight'])\n",
    "x_train['PurposeOfFlight'] = labelencoder.fit_transform(x_train['PurposeOfFlight'])\n",
    "x_train['EngineType'] = labelencoder.fit_transform(x_train['EngineType'])\n",
    "x_train['ReportStatus'] = labelencoder.fit_transform(x_train['ReportStatus'])\n",
    "x_train['AircraftCategory'] = labelencoder.fit_transform(x_train['AircraftCategory'])\n",
    "y_train = labelencoder.fit_transform(y_train)\n",
    "\n",
    "x_test['WeatherCondition'] = labelencoder.fit_transform(x_test['WeatherCondition'])\n",
    "x_test['BroadPhaseOfFlight'] = labelencoder.fit_transform(x_test['BroadPhaseOfFlight'])\n",
    "x_test['PurposeOfFlight'] = labelencoder.fit_transform(x_test['PurposeOfFlight'])\n",
    "x_test['EngineType'] = labelencoder.fit_transform(x_test['EngineType'])\n",
    "x_test['ReportStatus'] = labelencoder.fit_transform(x_test['ReportStatus'])\n",
    "x_test['AircraftCategory'] = labelencoder.fit_transform(x_test['AircraftCategory'])\n",
    "y_test = labelencoder.fit_transform(y_test)"
   ]
  },
  {
   "cell_type": "code",
   "execution_count": 17,
   "metadata": {
    "colab": {
     "base_uri": "https://localhost:8080/",
     "height": 224
    },
    "colab_type": "code",
    "id": "5G1Qykd2z9SK",
    "outputId": "ac71d263-37fb-4c14-f634-c9d3c6d2249d"
   },
   "outputs": [
    {
     "data": {
      "text/html": [
       "<div>\n",
       "<style scoped>\n",
       "    .dataframe tbody tr th:only-of-type {\n",
       "        vertical-align: middle;\n",
       "    }\n",
       "\n",
       "    .dataframe tbody tr th {\n",
       "        vertical-align: top;\n",
       "    }\n",
       "\n",
       "    .dataframe thead th {\n",
       "        text-align: right;\n",
       "    }\n",
       "</style>\n",
       "<table border=\"1\" class=\"dataframe\">\n",
       "  <thead>\n",
       "    <tr style=\"text-align: right;\">\n",
       "      <th></th>\n",
       "      <th>WeatherCondition</th>\n",
       "      <th>BroadPhaseOfFlight</th>\n",
       "      <th>PurposeOfFlight</th>\n",
       "      <th>AircraftCategory</th>\n",
       "      <th>EngineType</th>\n",
       "      <th>ReportStatus</th>\n",
       "      <th>NumberOfEngines</th>\n",
       "      <th>Month</th>\n",
       "    </tr>\n",
       "  </thead>\n",
       "  <tbody>\n",
       "    <tr>\n",
       "      <td>0</td>\n",
       "      <td>2</td>\n",
       "      <td>9</td>\n",
       "      <td>12</td>\n",
       "      <td>10</td>\n",
       "      <td>6</td>\n",
       "      <td>3</td>\n",
       "      <td>1.0</td>\n",
       "      <td>11</td>\n",
       "    </tr>\n",
       "    <tr>\n",
       "      <td>1</td>\n",
       "      <td>2</td>\n",
       "      <td>6</td>\n",
       "      <td>1</td>\n",
       "      <td>10</td>\n",
       "      <td>6</td>\n",
       "      <td>3</td>\n",
       "      <td>1.0</td>\n",
       "      <td>7</td>\n",
       "    </tr>\n",
       "    <tr>\n",
       "      <td>2</td>\n",
       "      <td>2</td>\n",
       "      <td>6</td>\n",
       "      <td>14</td>\n",
       "      <td>10</td>\n",
       "      <td>6</td>\n",
       "      <td>3</td>\n",
       "      <td>1.0</td>\n",
       "      <td>7</td>\n",
       "    </tr>\n",
       "    <tr>\n",
       "      <td>3</td>\n",
       "      <td>2</td>\n",
       "      <td>11</td>\n",
       "      <td>14</td>\n",
       "      <td>0</td>\n",
       "      <td>6</td>\n",
       "      <td>3</td>\n",
       "      <td>2.0</td>\n",
       "      <td>11</td>\n",
       "    </tr>\n",
       "    <tr>\n",
       "      <td>4</td>\n",
       "      <td>2</td>\n",
       "      <td>5</td>\n",
       "      <td>21</td>\n",
       "      <td>0</td>\n",
       "      <td>6</td>\n",
       "      <td>3</td>\n",
       "      <td>1.0</td>\n",
       "      <td>7</td>\n",
       "    </tr>\n",
       "  </tbody>\n",
       "</table>\n",
       "</div>"
      ],
      "text/plain": [
       "   WeatherCondition  BroadPhaseOfFlight  PurposeOfFlight  AircraftCategory  \\\n",
       "0                 2                   9               12                10   \n",
       "1                 2                   6                1                10   \n",
       "2                 2                   6               14                10   \n",
       "3                 2                  11               14                 0   \n",
       "4                 2                   5               21                 0   \n",
       "\n",
       "   EngineType  ReportStatus  NumberOfEngines  Month  \n",
       "0           6             3              1.0     11  \n",
       "1           6             3              1.0      7  \n",
       "2           6             3              1.0      7  \n",
       "3           6             3              2.0     11  \n",
       "4           6             3              1.0      7  "
      ]
     },
     "execution_count": 17,
     "metadata": {},
     "output_type": "execute_result"
    }
   ],
   "source": [
    "x_train.head()"
   ]
  },
  {
   "cell_type": "markdown",
   "metadata": {
    "colab_type": "text",
    "id": "nkdGFevfaLAF"
   },
   "source": [
    "## Models"
   ]
  },
  {
   "cell_type": "code",
   "execution_count": 18,
   "metadata": {
    "colab": {},
    "colab_type": "code",
    "id": "QE-bvaAALzbB"
   },
   "outputs": [],
   "source": [
    "#transpose matrices\n",
    "x_train = x_train.T\n",
    "y_train = y_train.T\n",
    "x_test = x_test.T\n",
    "y_test = y_test.T"
   ]
  },
  {
   "cell_type": "markdown",
   "metadata": {},
   "source": [
    "## K-Nearest Neighbour"
   ]
  },
  {
   "cell_type": "code",
   "execution_count": 19,
   "metadata": {},
   "outputs": [
    {
     "name": "stdout",
     "output_type": "stream",
     "text": [
      "2 NN Score: 61.62%\n"
     ]
    }
   ],
   "source": [
    "accuracies = {}\n",
    "# KNN Model\n",
    "from sklearn.neighbors import KNeighborsClassifier\n",
    "knn = KNeighborsClassifier(n_neighbors = 2)  # n_neighbors means k\n",
    "knn.fit(x_train.T, y_train.T)\n",
    "prediction = knn.predict(x_test.T)\n",
    "\n",
    "print(\"{} NN Score: {:.2f}%\".format(2, knn.score(x_test.T, y_test.T)*100))"
   ]
  },
  {
   "cell_type": "code",
   "execution_count": 20,
   "metadata": {},
   "outputs": [
    {
     "data": {
      "image/png": "[encoded data removed]",
      "text/plain": [
       "<Figure size 432x288 with 1 Axes>"
      ]
     },
     "metadata": {},
     "output_type": "display_data"
    },
    {
     "name": "stdout",
     "output_type": "stream",
     "text": [
      "Maximum KNN Score is 73.82%\n"
     ]
    }
   ],
   "source": [
    "# KNN Model\n",
    "from sklearn.neighbors import KNeighborsClassifier\n",
    "\n",
    "# try ro find best k value\n",
    "scoreList = []\n",
    "for i in range(1,20):\n",
    "    knn2 = KNeighborsClassifier(n_neighbors = i)  # n_neighbors means k\n",
    "    knn2.fit(x_train.T, y_train.T)\n",
    "    scoreList.append(knn2.score(x_test.T, y_test.T))\n",
    "    \n",
    "plt.plot(range(1,20), scoreList)\n",
    "plt.xticks(np.arange(1,20,1))\n",
    "plt.xlabel(\"K value\")\n",
    "plt.ylabel(\"Score\")\n",
    "plt.show()\n",
    "\n",
    "acc = max(scoreList)*100\n",
    "accuracies['KNN'] = acc\n",
    "print(\"Maximum KNN Score is {:.2f}%\".format(acc))"
   ]
  },
  {
   "cell_type": "markdown",
   "metadata": {
    "colab_type": "text",
    "id": "iIR4-3UQNM6s"
   },
   "source": [
    "## Decision Tree Classifier"
   ]
  },
  {
   "cell_type": "code",
   "execution_count": 21,
   "metadata": {
    "colab": {
     "base_uri": "https://localhost:8080/",
     "height": 34
    },
    "colab_type": "code",
    "id": "_bRzLb5cNLsy",
    "outputId": "dd76e902-df28-4836-982b-f2240ac7a811"
   },
   "outputs": [
    {
     "name": "stdout",
     "output_type": "stream",
     "text": [
      "Decision Tree Train Accuracy 73.51%\n",
      "Decision Tree Test Accuracy 73.45%\n"
     ]
    }
   ],
   "source": [
    "from sklearn import tree\n",
    "from sklearn.tree import DecisionTreeClassifier\n",
    "dtc = tree.DecisionTreeClassifier(random_state=4, max_depth=2)\n",
    "dtc.fit(x_train.T, y_train.T)\n",
    "\n",
    "acctrain = dtc.score(x_train.T, y_train.T)*100\n",
    "acctest = dtc.score(x_test.T, y_test.T)*100\n",
    "\n",
    "accuracies['Decision Tree'] = acctest\n",
    "\n",
    "print(\"Decision Tree Train Accuracy {:.2f}%\".format(acctrain))\n",
    "print(\"Decision Tree Test Accuracy {:.2f}%\".format(acctest))"
   ]
  },
  {
   "cell_type": "markdown",
   "metadata": {
    "colab_type": "text",
    "id": "P_0b0Q74PF3P"
   },
   "source": [
    "## Random Forest Classifier"
   ]
  },
  {
   "cell_type": "code",
   "execution_count": 22,
   "metadata": {
    "colab": {
     "base_uri": "https://localhost:8080/",
     "height": 34
    },
    "colab_type": "code",
    "id": "dsrt_9RxPFPI",
    "outputId": "5d7daa4c-d858-4f08-8fef-17fb99beced2"
   },
   "outputs": [
    {
     "name": "stdout",
     "output_type": "stream",
     "text": [
      "Random Forest Train Accuracy Score : 81.58%\n",
      "Random Forest Test Accuracy Score : 71.98%\n"
     ]
    }
   ],
   "source": [
    "# Random Forest Classification\n",
    "from sklearn.ensemble import RandomForestClassifier\n",
    "rf = RandomForestClassifier(n_estimators = 1000, random_state = 1)\n",
    "rf.fit(x_train.T, y_train.T)\n",
    "\n",
    "acctrain = rf.score(x_train.T, y_train.T)*100\n",
    "acctest = rf.score(x_test.T, y_test.T)*100\n",
    "\n",
    "accuracies['Random Forest'] = acctest\n",
    "\n",
    "print(\"Random Forest Train Accuracy Score : {:.2f}%\".format(acctrain))\n",
    "print(\"Random Forest Test Accuracy Score : {:.2f}%\".format(acctest))"
   ]
  },
  {
   "cell_type": "markdown",
   "metadata": {
    "colab_type": "text",
    "id": "-EsC2r7XN5ut"
   },
   "source": [
    "## Comparing Models"
   ]
  },
  {
   "cell_type": "code",
   "execution_count": 23,
   "metadata": {
    "colab": {
     "base_uri": "https://localhost:8080/",
     "height": 334
    },
    "colab_type": "code",
    "id": "3r9xsqupNZ57",
    "outputId": "bcaaef08-d9d5-44d0-b2ef-3748d8bb6016"
   },
   "outputs": [
    {
     "data": {
      "image/png": "[encoded data removed]",
      "text/plain": [
       "<Figure size 1152x360 with 1 Axes>"
      ]
     },
     "metadata": {},
     "output_type": "display_data"
    }
   ],
   "source": [
    "colors = [\"purple\", \"green\", \"orange\"]\n",
    "\n",
    "sns.set_style(\"whitegrid\")\n",
    "plt.figure(figsize=(16,5))\n",
    "plt.yticks(np.arange(0,100,10))\n",
    "plt.ylabel(\"Accuracy %\")\n",
    "plt.xlabel(\"Algorithms\")\n",
    "sns.barplot(x=list(accuracies.keys()), y=list(accuracies.values()), palette=colors)\n",
    "plt.show()"
   ]
  },
  {
   "cell_type": "markdown",
   "metadata": {},
   "source": [
    "## Feature Importance\n",
    "Since the random forest algorithm has the highest accuracy, we'll look at the feature importance based on that"
   ]
  },
  {
   "cell_type": "code",
   "execution_count": 24,
   "metadata": {},
   "outputs": [
    {
     "data": {
      "image/png": "[encoded data removed]",
      "text/plain": [
       "<Figure size 1152x360 with 1 Axes>"
      ]
     },
     "metadata": {},
     "output_type": "display_data"
    }
   ],
   "source": [
    "x_train = x_train.T\n",
    "features = x_train.columns.values\n",
    "importances = rf.feature_importances_\n",
    "indices = np.argsort(importances)\n",
    "\n",
    "plt.figure(figsize=(16,5))\n",
    "plt.barh(range(len(indices)), importances[indices], color='#1f77b4', align='center')\n",
    "plt.yticks(range(len(indices)), [features[i] for i in indices])\n",
    "plt.xlabel('Relative Importance')\n",
    "plt.show()"
   ]
  },
  {
   "cell_type": "code",
   "execution_count": null,
   "metadata": {
    "colab": {},
    "colab_type": "code",
    "id": "kw0yObl5aYdp"
   },
   "outputs": [],
   "source": []
  },
  {
   "cell_type": "code",
   "execution_count": null,
   "metadata": {},
   "outputs": [],
   "source": []
  }
 ],
 "metadata": {
  "colab": {
   "name": "AviationProject.ipynb",
   "provenance": []
  },
  "kernelspec": {
   "display_name": "Python 3",
   "language": "python",
   "name": "python3"
  },
  "language_info": {
   "codemirror_mode": {
    "name": "ipython",
    "version": 3
   },
   "file_extension": ".py",
   "mimetype": "text/x-python",
   "name": "python",
   "nbconvert_exporter": "python",
   "pygments_lexer": "ipython3",
   "version": "3.7.4"
  }
 },
 "nbformat": 4,
 "nbformat_minor": 1
}

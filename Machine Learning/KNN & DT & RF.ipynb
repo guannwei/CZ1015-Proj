{
 "cells": [
  {
   "cell_type": "markdown",
   "metadata": {
    "colab_type": "text",
    "id": "1CKmcB1qMeIl"
   },
   "source": [
    "##Aviation project "
   ]
  },
  {
   "cell_type": "markdown",
   "metadata": {
    "colab_type": "text",
    "id": "kDN49lBTUIl9"
   },
   "source": [
    "##Import Libraries\n",
    "we will import all packages,those we need in our ptoject ."
   ]
  },
  {
   "cell_type": "code",
   "execution_count": 500,
   "metadata": {
    "colab": {
     "base_uri": "https://localhost:8080/",
     "height": 71
    },
    "colab_type": "code",
    "id": "vT2rzn02MFIN",
    "outputId": "cb8201e0-a220-40a9-d377-f38ef5860250"
   },
   "outputs": [],
   "source": [
    "\n",
    "import pandas as pd \n",
    "import numpy as np\n",
    "import matplotlib.pyplot as plt\n",
    "import seaborn as sns\n"
   ]
  },
  {
   "cell_type": "markdown",
   "metadata": {
    "colab_type": "text",
    "id": "fGNiq429UPgT"
   },
   "source": [
    "##Importing Data \n",
    "Pandas package help us to convert data from csv to DataFrame"
   ]
  },
  {
   "cell_type": "code",
   "execution_count": 501,
   "metadata": {
    "colab": {},
    "colab_type": "code",
    "id": "v8UZ58fVMl9w"
   },
   "outputs": [],
   "source": [
    "\n",
    "df=pd.read_csv('aviation.csv',  engine='python')\n"
   ]
  },
  {
   "cell_type": "markdown",
   "metadata": {
    "colab_type": "text",
    "id": "Tbp34qFwUcfL"
   },
   "source": [
    "##Reading data"
   ]
  },
  {
   "cell_type": "code",
   "execution_count": 502,
   "metadata": {
    "colab": {
     "base_uri": "https://localhost:8080/",
     "height": 343
    },
    "colab_type": "code",
    "id": "xb6pLBsvUYow",
    "outputId": "5f4bc33c-8438-4863-a809-4c52628b2b07"
   },
   "outputs": [
    {
     "data": {
      "text/html": [
       "<div>\n",
       "<style scoped>\n",
       "    .dataframe tbody tr th:only-of-type {\n",
       "        vertical-align: middle;\n",
       "    }\n",
       "\n",
       "    .dataframe tbody tr th {\n",
       "        vertical-align: top;\n",
       "    }\n",
       "\n",
       "    .dataframe thead th {\n",
       "        text-align: right;\n",
       "    }\n",
       "</style>\n",
       "<table border=\"1\" class=\"dataframe\">\n",
       "  <thead>\n",
       "    <tr style=\"text-align: right;\">\n",
       "      <th></th>\n",
       "      <th>Event.Id</th>\n",
       "      <th>Investigation.Type</th>\n",
       "      <th>Accident.Number</th>\n",
       "      <th>Event.Date</th>\n",
       "      <th>Location</th>\n",
       "      <th>Country</th>\n",
       "      <th>Latitude</th>\n",
       "      <th>Longitude</th>\n",
       "      <th>Airport.Code</th>\n",
       "      <th>Airport.Name</th>\n",
       "      <th>...</th>\n",
       "      <th>Air.Carrier</th>\n",
       "      <th>Total.Fatal.Injuries</th>\n",
       "      <th>Total.Serious.Injuries</th>\n",
       "      <th>Total.Minor.Injuries</th>\n",
       "      <th>Total.Uninjured</th>\n",
       "      <th>Weather.Condition</th>\n",
       "      <th>Broad.Phase.of.Flight</th>\n",
       "      <th>Report.Status</th>\n",
       "      <th>Publication.Date</th>\n",
       "      <th>Unnamed: 31</th>\n",
       "    </tr>\n",
       "  </thead>\n",
       "  <tbody>\n",
       "    <tr>\n",
       "      <td>0</td>\n",
       "      <td>20200102X82407</td>\n",
       "      <td>Accident</td>\n",
       "      <td>WPR20CA055</td>\n",
       "      <td>12/31/2019</td>\n",
       "      <td>Elk, CA</td>\n",
       "      <td>United States</td>\n",
       "      <td>39.128611</td>\n",
       "      <td>-123.715833</td>\n",
       "      <td>LLR</td>\n",
       "      <td>Little River</td>\n",
       "      <td>...</td>\n",
       "      <td>NaN</td>\n",
       "      <td>1</td>\n",
       "      <td>NaN</td>\n",
       "      <td>NaN</td>\n",
       "      <td>1.0</td>\n",
       "      <td>VMC</td>\n",
       "      <td>TAKEOFF</td>\n",
       "      <td>Factual</td>\n",
       "      <td>13/01/2020</td>\n",
       "      <td>NaN</td>\n",
       "    </tr>\n",
       "    <tr>\n",
       "      <td>1</td>\n",
       "      <td>20191231X83852</td>\n",
       "      <td>Accident</td>\n",
       "      <td>CEN20FA049</td>\n",
       "      <td>12/31/2019</td>\n",
       "      <td>OLATHE, KS</td>\n",
       "      <td>United States</td>\n",
       "      <td>38.846111</td>\n",
       "      <td>-94.736111</td>\n",
       "      <td>OJC</td>\n",
       "      <td>Johnson County Executive</td>\n",
       "      <td>...</td>\n",
       "      <td>NaN</td>\n",
       "      <td>2</td>\n",
       "      <td>NaN</td>\n",
       "      <td>NaN</td>\n",
       "      <td>NaN</td>\n",
       "      <td>VMC</td>\n",
       "      <td>TAKEOFF</td>\n",
       "      <td>Preliminary</td>\n",
       "      <td>8/1/2020</td>\n",
       "      <td>NaN</td>\n",
       "    </tr>\n",
       "    <tr>\n",
       "      <td>2</td>\n",
       "      <td>20200102X54844</td>\n",
       "      <td>Accident</td>\n",
       "      <td>ANC20CA011</td>\n",
       "      <td>12/31/2019</td>\n",
       "      <td>Fairbanks, AK</td>\n",
       "      <td>United States</td>\n",
       "      <td>64.666945</td>\n",
       "      <td>-148.133334</td>\n",
       "      <td>NaN</td>\n",
       "      <td>NaN</td>\n",
       "      <td>...</td>\n",
       "      <td>NaN</td>\n",
       "      <td>1</td>\n",
       "      <td>NaN</td>\n",
       "      <td>NaN</td>\n",
       "      <td>2.0</td>\n",
       "      <td>NaN</td>\n",
       "      <td>NaN</td>\n",
       "      <td>Preliminary</td>\n",
       "      <td>2/1/2020</td>\n",
       "      <td>NaN</td>\n",
       "    </tr>\n",
       "    <tr>\n",
       "      <td>3</td>\n",
       "      <td>20191230X91852</td>\n",
       "      <td>Accident</td>\n",
       "      <td>CEN20CA048</td>\n",
       "      <td>12/30/2019</td>\n",
       "      <td>GRANBURY, TX</td>\n",
       "      <td>United States</td>\n",
       "      <td>32.365556</td>\n",
       "      <td>-97.645000</td>\n",
       "      <td>NaN</td>\n",
       "      <td>NaN</td>\n",
       "      <td>...</td>\n",
       "      <td>NaN</td>\n",
       "      <td>1</td>\n",
       "      <td>NaN</td>\n",
       "      <td>NaN</td>\n",
       "      <td>1.0</td>\n",
       "      <td>NaN</td>\n",
       "      <td>NaN</td>\n",
       "      <td>Preliminary</td>\n",
       "      <td>31/12/2019</td>\n",
       "      <td>NaN</td>\n",
       "    </tr>\n",
       "    <tr>\n",
       "      <td>4</td>\n",
       "      <td>20191228X23853</td>\n",
       "      <td>Accident</td>\n",
       "      <td>CEN20MA044</td>\n",
       "      <td>12/28/2019</td>\n",
       "      <td>LAFAYETTE, LA</td>\n",
       "      <td>United States</td>\n",
       "      <td>30.176111</td>\n",
       "      <td>-92.007500</td>\n",
       "      <td>LFT</td>\n",
       "      <td>Lafayette Regional Apt</td>\n",
       "      <td>...</td>\n",
       "      <td>NaN</td>\n",
       "      <td>5</td>\n",
       "      <td>2.0</td>\n",
       "      <td>2.0</td>\n",
       "      <td>NaN</td>\n",
       "      <td>IMC</td>\n",
       "      <td>TAKEOFF</td>\n",
       "      <td>Preliminary</td>\n",
       "      <td>6/1/2020</td>\n",
       "      <td>NaN</td>\n",
       "    </tr>\n",
       "  </tbody>\n",
       "</table>\n",
       "<p>5 rows × 32 columns</p>\n",
       "</div>"
      ],
      "text/plain": [
       "         Event.Id Investigation.Type Accident.Number  Event.Date  \\\n",
       "0  20200102X82407           Accident      WPR20CA055  12/31/2019   \n",
       "1  20191231X83852           Accident      CEN20FA049  12/31/2019   \n",
       "2  20200102X54844           Accident      ANC20CA011  12/31/2019   \n",
       "3  20191230X91852           Accident      CEN20CA048  12/30/2019   \n",
       "4  20191228X23853           Accident      CEN20MA044  12/28/2019   \n",
       "\n",
       "        Location        Country   Latitude   Longitude Airport.Code  \\\n",
       "0        Elk, CA  United States  39.128611 -123.715833          LLR   \n",
       "1     OLATHE, KS  United States  38.846111  -94.736111          OJC   \n",
       "2  Fairbanks, AK  United States  64.666945 -148.133334          NaN   \n",
       "3   GRANBURY, TX  United States  32.365556  -97.645000          NaN   \n",
       "4  LAFAYETTE, LA  United States  30.176111  -92.007500          LFT   \n",
       "\n",
       "               Airport.Name  ... Air.Carrier Total.Fatal.Injuries  \\\n",
       "0              Little River  ...         NaN                    1   \n",
       "1  Johnson County Executive  ...         NaN                    2   \n",
       "2                       NaN  ...         NaN                    1   \n",
       "3                       NaN  ...         NaN                    1   \n",
       "4    Lafayette Regional Apt  ...         NaN                    5   \n",
       "\n",
       "  Total.Serious.Injuries Total.Minor.Injuries Total.Uninjured  \\\n",
       "0                    NaN                  NaN             1.0   \n",
       "1                    NaN                  NaN             NaN   \n",
       "2                    NaN                  NaN             2.0   \n",
       "3                    NaN                  NaN             1.0   \n",
       "4                    2.0                  2.0             NaN   \n",
       "\n",
       "  Weather.Condition Broad.Phase.of.Flight  Report.Status Publication.Date  \\\n",
       "0               VMC               TAKEOFF        Factual       13/01/2020   \n",
       "1               VMC               TAKEOFF    Preliminary         8/1/2020   \n",
       "2               NaN                   NaN    Preliminary         2/1/2020   \n",
       "3               NaN                   NaN    Preliminary       31/12/2019   \n",
       "4               IMC               TAKEOFF    Preliminary         6/1/2020   \n",
       "\n",
       "  Unnamed: 31  \n",
       "0         NaN  \n",
       "1         NaN  \n",
       "2         NaN  \n",
       "3         NaN  \n",
       "4         NaN  \n",
       "\n",
       "[5 rows x 32 columns]"
      ]
     },
     "execution_count": 502,
     "metadata": {},
     "output_type": "execute_result"
    }
   ],
   "source": [
    "df.head()"
   ]
  },
  {
   "cell_type": "code",
   "execution_count": 503,
   "metadata": {
    "colab": {},
    "colab_type": "code",
    "id": "h163oNV3oSoE"
   },
   "outputs": [],
   "source": [
    "df=df.drop(['Unnamed: 31'],axis=1)"
   ]
  },
  {
   "cell_type": "markdown",
   "metadata": {
    "colab_type": "text",
    "id": "oN7tDyG3T7mP"
   },
   "source": [
    "#Data Exploration \n",
    "we will explor our data to see what is in our data, How many columns and what kind of data we have ."
   ]
  },
  {
   "cell_type": "markdown",
   "metadata": {
    "colab_type": "text",
    "id": "ncKJLOqPV_yK"
   },
   "source": [
    "###Columns values"
   ]
  },
  {
   "cell_type": "code",
   "execution_count": 504,
   "metadata": {
    "colab": {
     "base_uri": "https://localhost:8080/",
     "height": 187
    },
    "colab_type": "code",
    "id": "--CWRgMQV_RR",
    "outputId": "c585a519-0abd-4cbb-88e6-ebfd8c824ba4"
   },
   "outputs": [
    {
     "data": {
      "text/plain": [
       "array(['Event.Id', 'Investigation.Type', 'Accident.Number', 'Event.Date',\n",
       "       'Location', 'Country', 'Latitude', 'Longitude', 'Airport.Code',\n",
       "       'Airport.Name', 'Injury.Severity', 'Aircraft.Damage',\n",
       "       'Aircraft.Category', 'Registration.Number', 'Make', 'Model',\n",
       "       'Amateur.Built', 'Number.of.Engines', 'Engine.Type',\n",
       "       'FAR.Description', 'Schedule', 'Purpose.of.Flight', 'Air.Carrier',\n",
       "       'Total.Fatal.Injuries', 'Total.Serious.Injuries',\n",
       "       'Total.Minor.Injuries', 'Total.Uninjured', 'Weather.Condition',\n",
       "       'Broad.Phase.of.Flight', 'Report.Status', 'Publication.Date'],\n",
       "      dtype=object)"
      ]
     },
     "execution_count": 504,
     "metadata": {},
     "output_type": "execute_result"
    }
   ],
   "source": [
    "df.columns.values"
   ]
  },
  {
   "cell_type": "markdown",
   "metadata": {
    "colab_type": "text",
    "id": "iCNvkgpOWaIg"
   },
   "source": [
    "### Column Types\n",
    "Let's look at the number of columns of each data type. ``int64``,  ``float64`` and ``object`` are numeric variables (which can be either discrete or continuous). object columns contain strings and are categorical features. ."
   ]
  },
  {
   "cell_type": "code",
   "execution_count": 505,
   "metadata": {
    "colab": {
     "base_uri": "https://localhost:8080/",
     "height": 85
    },
    "colab_type": "code",
    "id": "i5LZFPhVWcVZ",
    "outputId": "1e2a5982-3470-47b4-da9a-94213bed2b75"
   },
   "outputs": [
    {
     "data": {
      "text/plain": [
       "object     24\n",
       "float64     6\n",
       "int64       1\n",
       "dtype: int64"
      ]
     },
     "execution_count": 505,
     "metadata": {},
     "output_type": "execute_result"
    }
   ],
   "source": [
    "df.dtypes.value_counts()\n"
   ]
  },
  {
   "cell_type": "markdown",
   "metadata": {
    "colab_type": "text",
    "id": "1wVHhlepZNkI"
   },
   "source": [
    "Now we will see the unique values in object type columns ."
   ]
  },
  {
   "cell_type": "code",
   "execution_count": 506,
   "metadata": {
    "colab": {
     "base_uri": "https://localhost:8080/",
     "height": 442
    },
    "colab_type": "code",
    "id": "69Eu4tANWusB",
    "outputId": "2fa8826a-5798-4254-af5c-ba7979d37d57"
   },
   "outputs": [
    {
     "data": {
      "text/plain": [
       "Event.Id                 83032\n",
       "Investigation.Type           2\n",
       "Accident.Number          84259\n",
       "Event.Date               13717\n",
       "Location                 26575\n",
       "Country                    179\n",
       "Airport.Code             10001\n",
       "Airport.Name             23862\n",
       "Injury.Severity            128\n",
       "Aircraft.Damage              3\n",
       "Aircraft.Category           13\n",
       "Registration.Number      72554\n",
       "Make                      8022\n",
       "Model                    11935\n",
       "Amateur.Built                2\n",
       "Engine.Type                 13\n",
       "FAR.Description             18\n",
       "Schedule                     3\n",
       "Purpose.of.Flight           22\n",
       "Air.Carrier               3030\n",
       "Weather.Condition            3\n",
       "Broad.Phase.of.Flight       12\n",
       "Report.Status                4\n",
       "Publication.Date          3956\n",
       "dtype: int64"
      ]
     },
     "execution_count": 506,
     "metadata": {},
     "output_type": "execute_result"
    }
   ],
   "source": [
    "df.select_dtypes('object').apply(pd.Series.nunique, axis = 0)"
   ]
  },
  {
   "cell_type": "markdown",
   "metadata": {
    "colab_type": "text",
    "id": "1PRwwfF3Tx-R"
   },
   "source": [
    "####Shape of data"
   ]
  },
  {
   "cell_type": "code",
   "execution_count": 507,
   "metadata": {
    "colab": {
     "base_uri": "https://localhost:8080/",
     "height": 0
    },
    "colab_type": "code",
    "id": "qqP6iBDMN6GM",
    "outputId": "65a232af-c64e-44af-9406-093ce7634d03"
   },
   "outputs": [
    {
     "data": {
      "text/plain": [
       "(84260, 31)"
      ]
     },
     "execution_count": 507,
     "metadata": {},
     "output_type": "execute_result"
    }
   ],
   "source": [
    "df.shape"
   ]
  },
  {
   "cell_type": "markdown",
   "metadata": {
    "colab_type": "text",
    "id": "deSHvP9-ZXdl"
   },
   "source": [
    "we have total 84260 rows and 31 columns ."
   ]
  },
  {
   "cell_type": "code",
   "execution_count": 508,
   "metadata": {
    "colab": {
     "base_uri": "https://localhost:8080/",
     "height": 0
    },
    "colab_type": "code",
    "id": "w4Wbv0QNT4T2",
    "outputId": "7c3bbe08-746b-44d1-be5c-ecd877c56bf4"
   },
   "outputs": [
    {
     "data": {
      "text/html": [
       "<div>\n",
       "<style scoped>\n",
       "    .dataframe tbody tr th:only-of-type {\n",
       "        vertical-align: middle;\n",
       "    }\n",
       "\n",
       "    .dataframe tbody tr th {\n",
       "        vertical-align: top;\n",
       "    }\n",
       "\n",
       "    .dataframe thead th {\n",
       "        text-align: right;\n",
       "    }\n",
       "</style>\n",
       "<table border=\"1\" class=\"dataframe\">\n",
       "  <thead>\n",
       "    <tr style=\"text-align: right;\">\n",
       "      <th></th>\n",
       "      <th>Latitude</th>\n",
       "      <th>Longitude</th>\n",
       "      <th>Number.of.Engines</th>\n",
       "      <th>Total.Fatal.Injuries</th>\n",
       "      <th>Total.Serious.Injuries</th>\n",
       "      <th>Total.Minor.Injuries</th>\n",
       "      <th>Total.Uninjured</th>\n",
       "    </tr>\n",
       "  </thead>\n",
       "  <tbody>\n",
       "    <tr>\n",
       "      <td>count</td>\n",
       "      <td>30162.000000</td>\n",
       "      <td>30153.000000</td>\n",
       "      <td>79225.000000</td>\n",
       "      <td>84260.000000</td>\n",
       "      <td>54384.000000</td>\n",
       "      <td>55592.000000</td>\n",
       "      <td>69673.000000</td>\n",
       "    </tr>\n",
       "    <tr>\n",
       "      <td>mean</td>\n",
       "      <td>37.544663</td>\n",
       "      <td>-93.507608</td>\n",
       "      <td>1.146936</td>\n",
       "      <td>0.896808</td>\n",
       "      <td>0.331715</td>\n",
       "      <td>0.518708</td>\n",
       "      <td>5.901325</td>\n",
       "    </tr>\n",
       "    <tr>\n",
       "      <td>std</td>\n",
       "      <td>12.370414</td>\n",
       "      <td>39.454863</td>\n",
       "      <td>0.447012</td>\n",
       "      <td>5.178598</td>\n",
       "      <td>1.375602</td>\n",
       "      <td>2.771339</td>\n",
       "      <td>29.534302</td>\n",
       "    </tr>\n",
       "    <tr>\n",
       "      <td>min</td>\n",
       "      <td>-78.016945</td>\n",
       "      <td>-178.676111</td>\n",
       "      <td>0.000000</td>\n",
       "      <td>0.000000</td>\n",
       "      <td>0.000000</td>\n",
       "      <td>0.000000</td>\n",
       "      <td>0.000000</td>\n",
       "    </tr>\n",
       "    <tr>\n",
       "      <td>25%</td>\n",
       "      <td>33.307778</td>\n",
       "      <td>-114.860833</td>\n",
       "      <td>1.000000</td>\n",
       "      <td>0.000000</td>\n",
       "      <td>0.000000</td>\n",
       "      <td>0.000000</td>\n",
       "      <td>0.000000</td>\n",
       "    </tr>\n",
       "    <tr>\n",
       "      <td>50%</td>\n",
       "      <td>38.124167</td>\n",
       "      <td>-94.371667</td>\n",
       "      <td>1.000000</td>\n",
       "      <td>1.000000</td>\n",
       "      <td>0.000000</td>\n",
       "      <td>0.000000</td>\n",
       "      <td>1.000000</td>\n",
       "    </tr>\n",
       "    <tr>\n",
       "      <td>75%</td>\n",
       "      <td>42.523750</td>\n",
       "      <td>-81.650000</td>\n",
       "      <td>1.000000</td>\n",
       "      <td>1.000000</td>\n",
       "      <td>0.000000</td>\n",
       "      <td>1.000000</td>\n",
       "      <td>2.000000</td>\n",
       "    </tr>\n",
       "    <tr>\n",
       "      <td>max</td>\n",
       "      <td>89.218056</td>\n",
       "      <td>179.618611</td>\n",
       "      <td>8.000000</td>\n",
       "      <td>349.000000</td>\n",
       "      <td>111.000000</td>\n",
       "      <td>380.000000</td>\n",
       "      <td>699.000000</td>\n",
       "    </tr>\n",
       "  </tbody>\n",
       "</table>\n",
       "</div>"
      ],
      "text/plain": [
       "           Latitude     Longitude  Number.of.Engines  Total.Fatal.Injuries  \\\n",
       "count  30162.000000  30153.000000       79225.000000          84260.000000   \n",
       "mean      37.544663    -93.507608           1.146936              0.896808   \n",
       "std       12.370414     39.454863           0.447012              5.178598   \n",
       "min      -78.016945   -178.676111           0.000000              0.000000   \n",
       "25%       33.307778   -114.860833           1.000000              0.000000   \n",
       "50%       38.124167    -94.371667           1.000000              1.000000   \n",
       "75%       42.523750    -81.650000           1.000000              1.000000   \n",
       "max       89.218056    179.618611           8.000000            349.000000   \n",
       "\n",
       "       Total.Serious.Injuries  Total.Minor.Injuries  Total.Uninjured  \n",
       "count            54384.000000          55592.000000     69673.000000  \n",
       "mean                 0.331715              0.518708         5.901325  \n",
       "std                  1.375602              2.771339        29.534302  \n",
       "min                  0.000000              0.000000         0.000000  \n",
       "25%                  0.000000              0.000000         0.000000  \n",
       "50%                  0.000000              0.000000         1.000000  \n",
       "75%                  0.000000              1.000000         2.000000  \n",
       "max                111.000000            380.000000       699.000000  "
      ]
     },
     "execution_count": 508,
     "metadata": {},
     "output_type": "execute_result"
    }
   ],
   "source": [
    "df.describe()"
   ]
  },
  {
   "cell_type": "markdown",
   "metadata": {
    "colab_type": "text",
    "id": "8dh1YooFVBXY"
   },
   "source": [
    "##Missing Values\n",
    "Now we will see missing values in each column of our data set "
   ]
  },
  {
   "cell_type": "code",
   "execution_count": 509,
   "metadata": {
    "colab": {
     "base_uri": "https://localhost:8080/",
     "height": 0
    },
    "colab_type": "code",
    "id": "8XTRAK1HU71s",
    "outputId": "c738f872-d773-4608-b73e-e171c378d385"
   },
   "outputs": [
    {
     "data": {
      "text/html": [
       "<div>\n",
       "<style scoped>\n",
       "    .dataframe tbody tr th:only-of-type {\n",
       "        vertical-align: middle;\n",
       "    }\n",
       "\n",
       "    .dataframe tbody tr th {\n",
       "        vertical-align: top;\n",
       "    }\n",
       "\n",
       "    .dataframe thead th {\n",
       "        text-align: right;\n",
       "    }\n",
       "</style>\n",
       "<table border=\"1\" class=\"dataframe\">\n",
       "  <thead>\n",
       "    <tr style=\"text-align: right;\">\n",
       "      <th></th>\n",
       "      <th>Total</th>\n",
       "      <th>Percent</th>\n",
       "    </tr>\n",
       "  </thead>\n",
       "  <tbody>\n",
       "    <tr>\n",
       "      <td>Air.Carrier</td>\n",
       "      <td>80091</td>\n",
       "      <td>95.052219</td>\n",
       "    </tr>\n",
       "    <tr>\n",
       "      <td>Schedule</td>\n",
       "      <td>72417</td>\n",
       "      <td>85.944695</td>\n",
       "    </tr>\n",
       "    <tr>\n",
       "      <td>FAR.Description</td>\n",
       "      <td>57057</td>\n",
       "      <td>67.715405</td>\n",
       "    </tr>\n",
       "    <tr>\n",
       "      <td>Aircraft.Category</td>\n",
       "      <td>56752</td>\n",
       "      <td>67.353430</td>\n",
       "    </tr>\n",
       "    <tr>\n",
       "      <td>Longitude</td>\n",
       "      <td>54107</td>\n",
       "      <td>64.214337</td>\n",
       "    </tr>\n",
       "    <tr>\n",
       "      <td>Latitude</td>\n",
       "      <td>54098</td>\n",
       "      <td>64.203655</td>\n",
       "    </tr>\n",
       "    <tr>\n",
       "      <td>Airport.Code</td>\n",
       "      <td>36540</td>\n",
       "      <td>43.365773</td>\n",
       "    </tr>\n",
       "    <tr>\n",
       "      <td>Airport.Name</td>\n",
       "      <td>33822</td>\n",
       "      <td>40.140043</td>\n",
       "    </tr>\n",
       "    <tr>\n",
       "      <td>Total.Serious.Injuries</td>\n",
       "      <td>29876</td>\n",
       "      <td>35.456919</td>\n",
       "    </tr>\n",
       "    <tr>\n",
       "      <td>Total.Minor.Injuries</td>\n",
       "      <td>28668</td>\n",
       "      <td>34.023261</td>\n",
       "    </tr>\n",
       "  </tbody>\n",
       "</table>\n",
       "</div>"
      ],
      "text/plain": [
       "                        Total    Percent\n",
       "Air.Carrier             80091  95.052219\n",
       "Schedule                72417  85.944695\n",
       "FAR.Description         57057  67.715405\n",
       "Aircraft.Category       56752  67.353430\n",
       "Longitude               54107  64.214337\n",
       "Latitude                54098  64.203655\n",
       "Airport.Code            36540  43.365773\n",
       "Airport.Name            33822  40.140043\n",
       "Total.Serious.Injuries  29876  35.456919\n",
       "Total.Minor.Injuries    28668  34.023261"
      ]
     },
     "execution_count": 509,
     "metadata": {},
     "output_type": "execute_result"
    }
   ],
   "source": [
    "# checking missing data\n",
    "total = df.isnull().sum().sort_values(ascending = False)\n",
    "percent = (df.isnull().sum()/df.isnull().count()*100).sort_values(ascending = False)\n",
    "missing_data  = pd.concat([total, percent], axis=1, keys=['Total', 'Percent'])\n",
    "missing_data.head(10)"
   ]
  },
  {
   "cell_type": "markdown",
   "metadata": {
    "colab_type": "text",
    "id": "iOiQnS4UZhz1"
   },
   "source": [
    "Our data has a lot of missing values .if use dropna function to drop those rows which have missing values,we will lost all data ,becasue each row has some missing values ."
   ]
  },
  {
   "cell_type": "markdown",
   "metadata": {
    "colab_type": "text",
    "id": "SSbOxd0reO8B"
   },
   "source": [
    "##Rename Columns Name \n",
    "It is important for us to give proper names to our columns "
   ]
  },
  {
   "cell_type": "code",
   "execution_count": 510,
   "metadata": {
    "colab": {},
    "colab_type": "code",
    "id": "ag1Uj9gqYIWj"
   },
   "outputs": [],
   "source": [
    "df.columns=['Event_Id', 'Investigation_Type', 'Accident_Number', 'Event_Date',\n",
    "       'Location', 'Country', 'Latitude', 'Longitude', 'Airport_Code',\n",
    "       'Airport_Name', 'Injury_Severity', 'Aircraft_Damage',\n",
    "       'Aircraft_Category', 'Registration_Number', 'Make', 'Model',\n",
    "       'Amateur_Built', 'Number_of_Engines', 'Engine_Type',\n",
    "       'FAR_Description', 'Schedule', 'Purpose_of_Flight', 'Air_Carrier',\n",
    "       'Total_Fatal_Injuries', 'Total_Serious_Injuries',\n",
    "       'Total_Minor_Injuries', 'Total_Uninjured', 'Weather_Condition',\n",
    "       'Broad_Phase_of_Flight', 'Report_Status', 'Publication_Date']"
   ]
  },
  {
   "cell_type": "markdown",
   "metadata": {
    "colab_type": "text",
    "id": "j2Q1VHzPjQLe"
   },
   "source": [
    "#Let's convert Date from object type to timestamp"
   ]
  },
  {
   "cell_type": "code",
   "execution_count": 511,
   "metadata": {
    "colab": {},
    "colab_type": "code",
    "id": "kgKQ3FyZvX93"
   },
   "outputs": [],
   "source": [
    "df['Event_Date'] = pd.to_datetime(df['Event_Date'])\n",
    "df['Year'] = df['Event_Date'].dt.year\n",
    "#"
   ]
  },
  {
   "cell_type": "markdown",
   "metadata": {
    "colab_type": "text",
    "id": "g4cIlW1GjqRu"
   },
   "source": [
    "Let's Clean the data ,by imputing "
   ]
  },
  {
   "cell_type": "code",
   "execution_count": 512,
   "metadata": {
    "colab": {
     "base_uri": "https://localhost:8080/",
     "height": 326
    },
    "colab_type": "code",
    "id": "gUpeOhs5jlDZ",
    "outputId": "04e938fe-a099-4061-fa2c-c139d0eddc1d"
   },
   "outputs": [
    {
     "data": {
      "text/html": [
       "<div>\n",
       "<style scoped>\n",
       "    .dataframe tbody tr th:only-of-type {\n",
       "        vertical-align: middle;\n",
       "    }\n",
       "\n",
       "    .dataframe tbody tr th {\n",
       "        vertical-align: top;\n",
       "    }\n",
       "\n",
       "    .dataframe thead th {\n",
       "        text-align: right;\n",
       "    }\n",
       "</style>\n",
       "<table border=\"1\" class=\"dataframe\">\n",
       "  <thead>\n",
       "    <tr style=\"text-align: right;\">\n",
       "      <th></th>\n",
       "      <th>Event_Id</th>\n",
       "      <th>Investigation_Type</th>\n",
       "      <th>Accident_Number</th>\n",
       "      <th>Event_Date</th>\n",
       "      <th>Location</th>\n",
       "      <th>Country</th>\n",
       "      <th>Latitude</th>\n",
       "      <th>Longitude</th>\n",
       "      <th>Airport_Code</th>\n",
       "      <th>Airport_Name</th>\n",
       "      <th>...</th>\n",
       "      <th>Air_Carrier</th>\n",
       "      <th>Total_Fatal_Injuries</th>\n",
       "      <th>Total_Serious_Injuries</th>\n",
       "      <th>Total_Minor_Injuries</th>\n",
       "      <th>Total_Uninjured</th>\n",
       "      <th>Weather_Condition</th>\n",
       "      <th>Broad_Phase_of_Flight</th>\n",
       "      <th>Report_Status</th>\n",
       "      <th>Publication_Date</th>\n",
       "      <th>Year</th>\n",
       "    </tr>\n",
       "  </thead>\n",
       "  <tbody>\n",
       "    <tr>\n",
       "      <td>0</td>\n",
       "      <td>20200102X82407</td>\n",
       "      <td>Accident</td>\n",
       "      <td>WPR20CA055</td>\n",
       "      <td>2019-12-31</td>\n",
       "      <td>Elk, CA</td>\n",
       "      <td>United States</td>\n",
       "      <td>39.128611</td>\n",
       "      <td>-123.715833</td>\n",
       "      <td>LLR</td>\n",
       "      <td>Little River</td>\n",
       "      <td>...</td>\n",
       "      <td>NaN</td>\n",
       "      <td>1</td>\n",
       "      <td>0.331715</td>\n",
       "      <td>0.518708</td>\n",
       "      <td>1.000000</td>\n",
       "      <td>VMC</td>\n",
       "      <td>TAKEOFF</td>\n",
       "      <td>Factual</td>\n",
       "      <td>13/01/2020</td>\n",
       "      <td>2019.0</td>\n",
       "    </tr>\n",
       "    <tr>\n",
       "      <td>1</td>\n",
       "      <td>20191231X83852</td>\n",
       "      <td>Accident</td>\n",
       "      <td>CEN20FA049</td>\n",
       "      <td>2019-12-31</td>\n",
       "      <td>OLATHE, KS</td>\n",
       "      <td>United States</td>\n",
       "      <td>38.846111</td>\n",
       "      <td>-94.736111</td>\n",
       "      <td>OJC</td>\n",
       "      <td>Johnson County Executive</td>\n",
       "      <td>...</td>\n",
       "      <td>NaN</td>\n",
       "      <td>2</td>\n",
       "      <td>0.331715</td>\n",
       "      <td>0.518708</td>\n",
       "      <td>5.901325</td>\n",
       "      <td>VMC</td>\n",
       "      <td>TAKEOFF</td>\n",
       "      <td>Preliminary</td>\n",
       "      <td>8/1/2020</td>\n",
       "      <td>2019.0</td>\n",
       "    </tr>\n",
       "    <tr>\n",
       "      <td>2</td>\n",
       "      <td>20200102X54844</td>\n",
       "      <td>Accident</td>\n",
       "      <td>ANC20CA011</td>\n",
       "      <td>2019-12-31</td>\n",
       "      <td>Fairbanks, AK</td>\n",
       "      <td>United States</td>\n",
       "      <td>64.666945</td>\n",
       "      <td>-148.133334</td>\n",
       "      <td>NaN</td>\n",
       "      <td>NaN</td>\n",
       "      <td>...</td>\n",
       "      <td>NaN</td>\n",
       "      <td>1</td>\n",
       "      <td>0.331715</td>\n",
       "      <td>0.518708</td>\n",
       "      <td>2.000000</td>\n",
       "      <td>NaN</td>\n",
       "      <td>NaN</td>\n",
       "      <td>Preliminary</td>\n",
       "      <td>2/1/2020</td>\n",
       "      <td>2019.0</td>\n",
       "    </tr>\n",
       "    <tr>\n",
       "      <td>3</td>\n",
       "      <td>20191230X91852</td>\n",
       "      <td>Accident</td>\n",
       "      <td>CEN20CA048</td>\n",
       "      <td>2019-12-30</td>\n",
       "      <td>GRANBURY, TX</td>\n",
       "      <td>United States</td>\n",
       "      <td>32.365556</td>\n",
       "      <td>-97.645000</td>\n",
       "      <td>NaN</td>\n",
       "      <td>NaN</td>\n",
       "      <td>...</td>\n",
       "      <td>NaN</td>\n",
       "      <td>1</td>\n",
       "      <td>0.331715</td>\n",
       "      <td>0.518708</td>\n",
       "      <td>1.000000</td>\n",
       "      <td>NaN</td>\n",
       "      <td>NaN</td>\n",
       "      <td>Preliminary</td>\n",
       "      <td>31/12/2019</td>\n",
       "      <td>2019.0</td>\n",
       "    </tr>\n",
       "    <tr>\n",
       "      <td>4</td>\n",
       "      <td>20191228X23853</td>\n",
       "      <td>Accident</td>\n",
       "      <td>CEN20MA044</td>\n",
       "      <td>2019-12-28</td>\n",
       "      <td>LAFAYETTE, LA</td>\n",
       "      <td>United States</td>\n",
       "      <td>30.176111</td>\n",
       "      <td>-92.007500</td>\n",
       "      <td>LFT</td>\n",
       "      <td>Lafayette Regional Apt</td>\n",
       "      <td>...</td>\n",
       "      <td>NaN</td>\n",
       "      <td>5</td>\n",
       "      <td>2.000000</td>\n",
       "      <td>2.000000</td>\n",
       "      <td>5.901325</td>\n",
       "      <td>IMC</td>\n",
       "      <td>TAKEOFF</td>\n",
       "      <td>Preliminary</td>\n",
       "      <td>6/1/2020</td>\n",
       "      <td>2019.0</td>\n",
       "    </tr>\n",
       "  </tbody>\n",
       "</table>\n",
       "<p>5 rows × 32 columns</p>\n",
       "</div>"
      ],
      "text/plain": [
       "         Event_Id Investigation_Type Accident_Number Event_Date  \\\n",
       "0  20200102X82407           Accident      WPR20CA055 2019-12-31   \n",
       "1  20191231X83852           Accident      CEN20FA049 2019-12-31   \n",
       "2  20200102X54844           Accident      ANC20CA011 2019-12-31   \n",
       "3  20191230X91852           Accident      CEN20CA048 2019-12-30   \n",
       "4  20191228X23853           Accident      CEN20MA044 2019-12-28   \n",
       "\n",
       "        Location        Country   Latitude   Longitude Airport_Code  \\\n",
       "0        Elk, CA  United States  39.128611 -123.715833          LLR   \n",
       "1     OLATHE, KS  United States  38.846111  -94.736111          OJC   \n",
       "2  Fairbanks, AK  United States  64.666945 -148.133334          NaN   \n",
       "3   GRANBURY, TX  United States  32.365556  -97.645000          NaN   \n",
       "4  LAFAYETTE, LA  United States  30.176111  -92.007500          LFT   \n",
       "\n",
       "               Airport_Name  ... Air_Carrier Total_Fatal_Injuries  \\\n",
       "0              Little River  ...         NaN                    1   \n",
       "1  Johnson County Executive  ...         NaN                    2   \n",
       "2                       NaN  ...         NaN                    1   \n",
       "3                       NaN  ...         NaN                    1   \n",
       "4    Lafayette Regional Apt  ...         NaN                    5   \n",
       "\n",
       "  Total_Serious_Injuries Total_Minor_Injuries Total_Uninjured  \\\n",
       "0               0.331715             0.518708        1.000000   \n",
       "1               0.331715             0.518708        5.901325   \n",
       "2               0.331715             0.518708        2.000000   \n",
       "3               0.331715             0.518708        1.000000   \n",
       "4               2.000000             2.000000        5.901325   \n",
       "\n",
       "  Weather_Condition Broad_Phase_of_Flight  Report_Status Publication_Date  \\\n",
       "0               VMC               TAKEOFF        Factual       13/01/2020   \n",
       "1               VMC               TAKEOFF    Preliminary         8/1/2020   \n",
       "2               NaN                   NaN    Preliminary         2/1/2020   \n",
       "3               NaN                   NaN    Preliminary       31/12/2019   \n",
       "4               IMC               TAKEOFF    Preliminary         6/1/2020   \n",
       "\n",
       "     Year  \n",
       "0  2019.0  \n",
       "1  2019.0  \n",
       "2  2019.0  \n",
       "3  2019.0  \n",
       "4  2019.0  \n",
       "\n",
       "[5 rows x 32 columns]"
      ]
     },
     "execution_count": 512,
     "metadata": {},
     "output_type": "execute_result"
    }
   ],
   "source": [
    "def meanFFill_imputation(df):\n",
    "    df.fillna(df.mean(), inplace=True)\n",
    "    return df\n",
    "df_meanffill= meanFFill_imputation(df)\n",
    "df_meanffill.head()"
   ]
  },
  {
   "cell_type": "code",
   "execution_count": 513,
   "metadata": {
    "colab": {
     "base_uri": "https://localhost:8080/",
     "height": 578
    },
    "colab_type": "code",
    "id": "g4xhDL2SSVDt",
    "outputId": "6036e057-db0d-4155-c236-9d6c909b2840"
   },
   "outputs": [
    {
     "data": {
      "text/plain": [
       "Event_Id                          object\n",
       "Investigation_Type                object\n",
       "Accident_Number                   object\n",
       "Event_Date                datetime64[ns]\n",
       "Location                          object\n",
       "Country                           object\n",
       "Latitude                         float64\n",
       "Longitude                        float64\n",
       "Airport_Code                      object\n",
       "Airport_Name                      object\n",
       "Injury_Severity                   object\n",
       "Aircraft_Damage                   object\n",
       "Aircraft_Category                 object\n",
       "Registration_Number               object\n",
       "Make                              object\n",
       "Model                             object\n",
       "Amateur_Built                     object\n",
       "Number_of_Engines                float64\n",
       "Engine_Type                       object\n",
       "FAR_Description                   object\n",
       "Schedule                          object\n",
       "Purpose_of_Flight                 object\n",
       "Air_Carrier                       object\n",
       "Total_Fatal_Injuries               int64\n",
       "Total_Serious_Injuries           float64\n",
       "Total_Minor_Injuries             float64\n",
       "Total_Uninjured                  float64\n",
       "Weather_Condition                 object\n",
       "Broad_Phase_of_Flight             object\n",
       "Report_Status                     object\n",
       "Publication_Date                  object\n",
       "Year                             float64\n",
       "dtype: object"
      ]
     },
     "execution_count": 513,
     "metadata": {},
     "output_type": "execute_result"
    }
   ],
   "source": [
    "df.dtypes"
   ]
  },
  {
   "cell_type": "code",
   "execution_count": 514,
   "metadata": {
    "colab": {
     "base_uri": "https://localhost:8080/",
     "height": 425
    },
    "colab_type": "code",
    "id": "AA9ZAh6jbzJc",
    "outputId": "30b96471-3462-42eb-d299-c2cc2007f585"
   },
   "outputs": [
    {
     "data": {
      "text/plain": [
       "Event_Id                 83032\n",
       "Investigation_Type           2\n",
       "Accident_Number          84259\n",
       "Location                 26575\n",
       "Country                    179\n",
       "Airport_Code             10001\n",
       "Airport_Name             23862\n",
       "Injury_Severity            128\n",
       "Aircraft_Damage              3\n",
       "Aircraft_Category           13\n",
       "Registration_Number      72554\n",
       "Make                      8022\n",
       "Model                    11935\n",
       "Amateur_Built                2\n",
       "Engine_Type                 13\n",
       "FAR_Description             18\n",
       "Schedule                     3\n",
       "Purpose_of_Flight           22\n",
       "Air_Carrier               3030\n",
       "Weather_Condition            3\n",
       "Broad_Phase_of_Flight       12\n",
       "Report_Status                4\n",
       "Publication_Date          3956\n",
       "dtype: int64"
      ]
     },
     "execution_count": 514,
     "metadata": {},
     "output_type": "execute_result"
    }
   ],
   "source": [
    "\n",
    "df.select_dtypes('object').apply(pd.Series.nunique, axis = 0)"
   ]
  },
  {
   "cell_type": "code",
   "execution_count": 515,
   "metadata": {
    "colab": {
     "base_uri": "https://localhost:8080/",
     "height": 221
    },
    "colab_type": "code",
    "id": "6MKnynyfaPGq",
    "outputId": "159e46fc-f008-430d-ae80-368b2b249aca"
   },
   "outputs": [
    {
     "data": {
      "text/plain": [
       "<bound method Series.unique of 0               Factual\n",
       "1           Preliminary\n",
       "2           Preliminary\n",
       "3           Preliminary\n",
       "4           Preliminary\n",
       "              ...      \n",
       "84255    Probable Cause\n",
       "84256    Probable Cause\n",
       "84257    Probable Cause\n",
       "84258    Probable Cause\n",
       "84259       Preliminary\n",
       "Name: Report_Status, Length: 84260, dtype: object>"
      ]
     },
     "execution_count": 515,
     "metadata": {},
     "output_type": "execute_result"
    }
   ],
   "source": [
    "df['Report_Status'].unique"
   ]
  },
  {
   "cell_type": "code",
   "execution_count": 516,
   "metadata": {
    "colab": {},
    "colab_type": "code",
    "id": "T0NNYcUZvD6Z"
   },
   "outputs": [],
   "source": [
    "df2=df.drop(['Event_Id', 'Accident_Number', 'Event_Date',\n",
    "       'Location', 'Latitude', 'Longitude', 'Airport_Code',\n",
    "       'Airport_Name',\n",
    "       'Aircraft_Category', 'Registration_Number', 'Make', 'Model',\n",
    "       'Amateur_Built', 'Number_of_Engines', 'Engine_Type',\n",
    "       'FAR_Description', 'Schedule', 'Purpose_of_Flight', 'Air_Carrier',\n",
    "       'Total_Minor_Injuries', 'Total_Uninjured', 'Weather_Condition',\n",
    "       'Broad_Phase_of_Flight', 'Publication_Date',\n",
    "       'Year'],axis=1)"
   ]
  },
  {
   "cell_type": "code",
   "execution_count": 517,
   "metadata": {
    "colab": {
     "base_uri": "https://localhost:8080/",
     "height": 0
    },
    "colab_type": "code",
    "id": "fkdFUeuY2EWv",
    "outputId": "940e8f36-b1cb-4ad6-d3f9-86e36623eefa"
   },
   "outputs": [
    {
     "data": {
      "text/html": [
       "<div>\n",
       "<style scoped>\n",
       "    .dataframe tbody tr th:only-of-type {\n",
       "        vertical-align: middle;\n",
       "    }\n",
       "\n",
       "    .dataframe tbody tr th {\n",
       "        vertical-align: top;\n",
       "    }\n",
       "\n",
       "    .dataframe thead th {\n",
       "        text-align: right;\n",
       "    }\n",
       "</style>\n",
       "<table border=\"1\" class=\"dataframe\">\n",
       "  <thead>\n",
       "    <tr style=\"text-align: right;\">\n",
       "      <th></th>\n",
       "      <th>Investigation_Type</th>\n",
       "      <th>Country</th>\n",
       "      <th>Injury_Severity</th>\n",
       "      <th>Aircraft_Damage</th>\n",
       "      <th>Total_Fatal_Injuries</th>\n",
       "      <th>Total_Serious_Injuries</th>\n",
       "      <th>Report_Status</th>\n",
       "    </tr>\n",
       "  </thead>\n",
       "  <tbody>\n",
       "    <tr>\n",
       "      <td>0</td>\n",
       "      <td>Accident</td>\n",
       "      <td>United States</td>\n",
       "      <td>Non-Fatal</td>\n",
       "      <td>Substantial</td>\n",
       "      <td>1</td>\n",
       "      <td>0.331715</td>\n",
       "      <td>Factual</td>\n",
       "    </tr>\n",
       "    <tr>\n",
       "      <td>1</td>\n",
       "      <td>Accident</td>\n",
       "      <td>United States</td>\n",
       "      <td>Fatal(2)</td>\n",
       "      <td>Destroyed</td>\n",
       "      <td>2</td>\n",
       "      <td>0.331715</td>\n",
       "      <td>Preliminary</td>\n",
       "    </tr>\n",
       "    <tr>\n",
       "      <td>2</td>\n",
       "      <td>Accident</td>\n",
       "      <td>United States</td>\n",
       "      <td>Non-Fatal</td>\n",
       "      <td>Substantial</td>\n",
       "      <td>1</td>\n",
       "      <td>0.331715</td>\n",
       "      <td>Preliminary</td>\n",
       "    </tr>\n",
       "    <tr>\n",
       "      <td>3</td>\n",
       "      <td>Accident</td>\n",
       "      <td>United States</td>\n",
       "      <td>Non-Fatal</td>\n",
       "      <td>Substantial</td>\n",
       "      <td>1</td>\n",
       "      <td>0.331715</td>\n",
       "      <td>Preliminary</td>\n",
       "    </tr>\n",
       "    <tr>\n",
       "      <td>4</td>\n",
       "      <td>Accident</td>\n",
       "      <td>United States</td>\n",
       "      <td>Fatal(5)</td>\n",
       "      <td>Destroyed</td>\n",
       "      <td>5</td>\n",
       "      <td>2.000000</td>\n",
       "      <td>Preliminary</td>\n",
       "    </tr>\n",
       "  </tbody>\n",
       "</table>\n",
       "</div>"
      ],
      "text/plain": [
       "  Investigation_Type        Country Injury_Severity Aircraft_Damage  \\\n",
       "0           Accident  United States       Non-Fatal     Substantial   \n",
       "1           Accident  United States        Fatal(2)       Destroyed   \n",
       "2           Accident  United States       Non-Fatal     Substantial   \n",
       "3           Accident  United States       Non-Fatal     Substantial   \n",
       "4           Accident  United States        Fatal(5)       Destroyed   \n",
       "\n",
       "   Total_Fatal_Injuries  Total_Serious_Injuries Report_Status  \n",
       "0                     1                0.331715       Factual  \n",
       "1                     2                0.331715   Preliminary  \n",
       "2                     1                0.331715   Preliminary  \n",
       "3                     1                0.331715   Preliminary  \n",
       "4                     5                2.000000   Preliminary  "
      ]
     },
     "execution_count": 517,
     "metadata": {},
     "output_type": "execute_result"
    }
   ],
   "source": [
    "df2.head()"
   ]
  },
  {
   "cell_type": "code",
   "execution_count": 518,
   "metadata": {
    "colab": {
     "base_uri": "https://localhost:8080/",
     "height": 0
    },
    "colab_type": "code",
    "id": "9_z70Jeg7kNK",
    "outputId": "e64914b8-dc16-4cff-db2d-98f6fdd25972"
   },
   "outputs": [
    {
     "data": {
      "text/plain": [
       "Investigation_Type         object\n",
       "Country                    object\n",
       "Injury_Severity            object\n",
       "Aircraft_Damage            object\n",
       "Total_Fatal_Injuries        int64\n",
       "Total_Serious_Injuries    float64\n",
       "Report_Status              object\n",
       "dtype: object"
      ]
     },
     "execution_count": 518,
     "metadata": {},
     "output_type": "execute_result"
    }
   ],
   "source": [
    "df2.dtypes"
   ]
  },
  {
   "cell_type": "markdown",
   "metadata": {
    "colab_type": "text",
    "id": "logWujaah84I"
   },
   "source": [
    "#Hot Encoding is important to convert categories into Number "
   ]
  },
  {
   "cell_type": "code",
   "execution_count": 519,
   "metadata": {
    "colab": {},
    "colab_type": "code",
    "id": "UUxVLQTA0tsN"
   },
   "outputs": [],
   "source": [
    "from sklearn.preprocessing import LabelEncoder\n",
    "# creating instance of labelencoder\n",
    "labelencoder = LabelEncoder()\n",
    "\n",
    "# Assigning numerical values and storing in another column\n",
    "df2['Investigation_Type'] = labelencoder.fit_transform( df2['Investigation_Type'] )\n",
    "df2['Aircraft_Damage'] = labelencoder.fit_transform( df2['Aircraft_Damage'] )\n",
    "df2['Country'] = labelencoder.fit_transform( df2['Country'] )\n",
    "df2['Injury_Severity'] = labelencoder.fit_transform( df2['Injury_Severity'] )\n",
    "df2['Report_Status'] = labelencoder.fit_transform( df2['Report_Status'] )"
   ]
  },
  {
   "cell_type": "code",
   "execution_count": 520,
   "metadata": {
    "colab": {
     "base_uri": "https://localhost:8080/",
     "height": 224
    },
    "colab_type": "code",
    "id": "5G1Qykd2z9SK",
    "outputId": "ac71d263-37fb-4c14-f634-c9d3c6d2249d"
   },
   "outputs": [
    {
     "data": {
      "text/html": [
       "<div>\n",
       "<style scoped>\n",
       "    .dataframe tbody tr th:only-of-type {\n",
       "        vertical-align: middle;\n",
       "    }\n",
       "\n",
       "    .dataframe tbody tr th {\n",
       "        vertical-align: top;\n",
       "    }\n",
       "\n",
       "    .dataframe thead th {\n",
       "        text-align: right;\n",
       "    }\n",
       "</style>\n",
       "<table border=\"1\" class=\"dataframe\">\n",
       "  <thead>\n",
       "    <tr style=\"text-align: right;\">\n",
       "      <th></th>\n",
       "      <th>Investigation_Type</th>\n",
       "      <th>Country</th>\n",
       "      <th>Injury_Severity</th>\n",
       "      <th>Aircraft_Damage</th>\n",
       "      <th>Total_Fatal_Injuries</th>\n",
       "      <th>Total_Serious_Injuries</th>\n",
       "      <th>Report_Status</th>\n",
       "    </tr>\n",
       "  </thead>\n",
       "  <tbody>\n",
       "    <tr>\n",
       "      <td>0</td>\n",
       "      <td>0</td>\n",
       "      <td>169</td>\n",
       "      <td>126</td>\n",
       "      <td>2</td>\n",
       "      <td>1</td>\n",
       "      <td>0.331715</td>\n",
       "      <td>0</td>\n",
       "    </tr>\n",
       "    <tr>\n",
       "      <td>1</td>\n",
       "      <td>0</td>\n",
       "      <td>169</td>\n",
       "      <td>50</td>\n",
       "      <td>0</td>\n",
       "      <td>2</td>\n",
       "      <td>0.331715</td>\n",
       "      <td>2</td>\n",
       "    </tr>\n",
       "    <tr>\n",
       "      <td>2</td>\n",
       "      <td>0</td>\n",
       "      <td>169</td>\n",
       "      <td>126</td>\n",
       "      <td>2</td>\n",
       "      <td>1</td>\n",
       "      <td>0.331715</td>\n",
       "      <td>2</td>\n",
       "    </tr>\n",
       "    <tr>\n",
       "      <td>3</td>\n",
       "      <td>0</td>\n",
       "      <td>169</td>\n",
       "      <td>126</td>\n",
       "      <td>2</td>\n",
       "      <td>1</td>\n",
       "      <td>0.331715</td>\n",
       "      <td>2</td>\n",
       "    </tr>\n",
       "    <tr>\n",
       "      <td>4</td>\n",
       "      <td>0</td>\n",
       "      <td>169</td>\n",
       "      <td>90</td>\n",
       "      <td>0</td>\n",
       "      <td>5</td>\n",
       "      <td>2.000000</td>\n",
       "      <td>2</td>\n",
       "    </tr>\n",
       "  </tbody>\n",
       "</table>\n",
       "</div>"
      ],
      "text/plain": [
       "   Investigation_Type  Country  Injury_Severity  Aircraft_Damage  \\\n",
       "0                   0      169              126                2   \n",
       "1                   0      169               50                0   \n",
       "2                   0      169              126                2   \n",
       "3                   0      169              126                2   \n",
       "4                   0      169               90                0   \n",
       "\n",
       "   Total_Fatal_Injuries  Total_Serious_Injuries  Report_Status  \n",
       "0                     1                0.331715              0  \n",
       "1                     2                0.331715              2  \n",
       "2                     1                0.331715              2  \n",
       "3                     1                0.331715              2  \n",
       "4                     5                2.000000              2  "
      ]
     },
     "execution_count": 520,
     "metadata": {},
     "output_type": "execute_result"
    }
   ],
   "source": [
    "df2.head()"
   ]
  },
  {
   "cell_type": "markdown",
   "metadata": {
    "colab_type": "text",
    "id": "nkdGFevfaLAF"
   },
   "source": [
    "#Model Building"
   ]
  },
  {
   "cell_type": "markdown",
   "metadata": {
    "colab_type": "text",
    "id": "SctALdOub2GJ"
   },
   "source": [
    "Let's split the data into training and test ."
   ]
  },
  {
   "cell_type": "code",
   "execution_count": 521,
   "metadata": {
    "colab": {},
    "colab_type": "code",
    "id": "4VtdT0XPeAvf"
   },
   "outputs": [],
   "source": [
    "x=df2.drop(['Investigation_Type'],axis=1)\n",
    "y=df2.Investigation_Type.values"
   ]
  },
  {
   "cell_type": "code",
   "execution_count": 522,
   "metadata": {
    "colab": {},
    "colab_type": "code",
    "id": "mntHzrfLVfip"
   },
   "outputs": [],
   "source": [
    "from sklearn.model_selection import train_test_split\n",
    "x_train,x_test,y_train,y_test = train_test_split(x,y,test_size = 0.3,random_state = 0)"
   ]
  },
  {
   "cell_type": "code",
   "execution_count": 523,
   "metadata": {
    "colab": {
     "base_uri": "https://localhost:8080/",
     "height": 136
    },
    "colab_type": "code",
    "id": "gOWkd5fcgzoh",
    "outputId": "bca194ac-e177-4634-d7fe-8da5b9b32e0a"
   },
   "outputs": [
    {
     "data": {
      "text/plain": [
       "Country                     int32\n",
       "Injury_Severity             int32\n",
       "Aircraft_Damage             int32\n",
       "Total_Fatal_Injuries        int64\n",
       "Total_Serious_Injuries    float64\n",
       "Report_Status               int32\n",
       "dtype: object"
      ]
     },
     "execution_count": 523,
     "metadata": {},
     "output_type": "execute_result"
    }
   ],
   "source": [
    "x_train.dtypes"
   ]
  },
  {
   "cell_type": "code",
   "execution_count": 524,
   "metadata": {
    "colab": {},
    "colab_type": "code",
    "id": "QE-bvaAALzbB"
   },
   "outputs": [],
   "source": [
    "\n",
    "#transpose matrices\n",
    "x_train = x_train.T\n",
    "y_train = y_train.T\n",
    "x_test = x_test.T\n",
    "y_test = y_test.T"
   ]
  },
  {
   "cell_type": "code",
   "execution_count": 525,
   "metadata": {},
   "outputs": [
    {
     "name": "stdout",
     "output_type": "stream",
     "text": [
      "2 NN Score: 99.90%\n"
     ]
    }
   ],
   "source": [
    "accuracies = {}\n",
    "# KNN Model\n",
    "from sklearn.neighbors import KNeighborsClassifier\n",
    "knn = KNeighborsClassifier(n_neighbors = 2)  # n_neighbors means k\n",
    "knn.fit(x_train.T, y_train.T)\n",
    "prediction = knn.predict(x_test.T)\n",
    "\n",
    "print(\"{} NN Score: {:.2f}%\".format(2, knn.score(x_test.T, y_test.T)*100))"
   ]
  },
  {
   "cell_type": "code",
   "execution_count": 526,
   "metadata": {},
   "outputs": [
    {
     "data": {
      "image/png": "[encoded data removed]",
      "text/plain": [
       "<Figure size 432x288 with 1 Axes>"
      ]
     },
     "metadata": {},
     "output_type": "display_data"
    },
    {
     "name": "stdout",
     "output_type": "stream",
     "text": [
      "Maximum KNN Score is 99.92%\n"
     ]
    }
   ],
   "source": [
    "# KNN Model\n",
    "from sklearn.neighbors import KNeighborsClassifier\n",
    "\n",
    "# try ro find best k value\n",
    "scoreList = []\n",
    "for i in range(1,20):\n",
    "    knn2 = KNeighborsClassifier(n_neighbors = i)  # n_neighbors means k\n",
    "    knn2.fit(x_train.T, y_train.T)\n",
    "    scoreList.append(knn2.score(x_test.T, y_test.T))\n",
    "    \n",
    "plt.plot(range(1,20), scoreList)\n",
    "plt.xticks(np.arange(1,20,1))\n",
    "plt.xlabel(\"K value\")\n",
    "plt.ylabel(\"Score\")\n",
    "plt.show()\n",
    "\n",
    "acc = max(scoreList)*100\n",
    "accuracies['KNN'] = acc\n",
    "print(\"Maximum KNN Score is {:.2f}%\".format(acc))"
   ]
  },
  {
   "cell_type": "markdown",
   "metadata": {},
   "source": [
    " As you can see above if we define k as 3-7-8 we will reach maximum score. <br>\n",
    "## <font color=\"purple\">KNN Model's Accuracy is <font color=\"red\">99.92%</font></font>"
   ]
  },
  {
   "cell_type": "markdown",
   "metadata": {
    "colab_type": "text",
    "id": "iIR4-3UQNM6s"
   },
   "source": [
    "# Decision Tree Algorithm"
   ]
  },
  {
   "cell_type": "code",
   "execution_count": 527,
   "metadata": {
    "colab": {
     "base_uri": "https://localhost:8080/",
     "height": 34
    },
    "colab_type": "code",
    "id": "_bRzLb5cNLsy",
    "outputId": "dd76e902-df28-4836-982b-f2240ac7a811"
   },
   "outputs": [
    {
     "name": "stdout",
     "output_type": "stream",
     "text": [
      "Decision Tree Test Accuracy 100.00%\n"
     ]
    }
   ],
   "source": [
    "from sklearn import tree\n",
    "from sklearn.tree import DecisionTreeClassifier\n",
    "dtc = tree.DecisionTreeClassifier(random_state=4, max_depth=2)\n",
    "dtc.fit(x_train.T, y_train.T)\n",
    "\n",
    "\n",
    "\n",
    "acc = dtc.score(x_test.T, y_test.T)*100\n",
    "accuracies['Decision Tree'] = acc\n",
    "print(\"Decision Tree Test Accuracy {:.2f}%\".format(acc))"
   ]
  },
  {
   "cell_type": "markdown",
   "metadata": {
    "colab_type": "text",
    "id": "n8sFBrIbNOiF"
   },
   "source": [
    "## <font color=\"green\">Test Accuracy of Decision Tree Algorithm: <font color=\"red\">100.00%</font></font>"
   ]
  },
  {
   "cell_type": "markdown",
   "metadata": {
    "colab_type": "text",
    "id": "P_0b0Q74PF3P"
   },
   "source": [
    "#Random Forest"
   ]
  },
  {
   "cell_type": "code",
   "execution_count": 528,
   "metadata": {
    "colab": {
     "base_uri": "https://localhost:8080/",
     "height": 34
    },
    "colab_type": "code",
    "id": "dsrt_9RxPFPI",
    "outputId": "5d7daa4c-d858-4f08-8fef-17fb99beced2"
   },
   "outputs": [
    {
     "name": "stdout",
     "output_type": "stream",
     "text": [
      "Random Forest Algorithm Accuracy Score : 100.00%\n"
     ]
    }
   ],
   "source": [
    "# Random Forest Classification\n",
    "from sklearn.ensemble import RandomForestClassifier\n",
    "rf = RandomForestClassifier(n_estimators = 1000, random_state = 1)\n",
    "rf.fit(x_train.T, y_train.T)\n",
    "\n",
    "acc = rf.score(x_test.T,y_test.T)*100\n",
    "accuracies['Random Forest'] = acc\n",
    "print(\"Random Forest Algorithm Accuracy Score : {:.2f}%\".format(acc))"
   ]
  },
  {
   "cell_type": "markdown",
   "metadata": {},
   "source": [
    "## <font color=\"orange\">Test Accuracy of Random Forest Algorithm: <font color=\"red\">100.00%</font></font>"
   ]
  },
  {
   "cell_type": "markdown",
   "metadata": {
    "colab_type": "text",
    "id": "-EsC2r7XN5ut"
   },
   "source": [
    "#Comparing Models"
   ]
  },
  {
   "cell_type": "code",
   "execution_count": 529,
   "metadata": {
    "colab": {
     "base_uri": "https://localhost:8080/",
     "height": 334
    },
    "colab_type": "code",
    "id": "3r9xsqupNZ57",
    "outputId": "bcaaef08-d9d5-44d0-b2ef-3748d8bb6016"
   },
   "outputs": [
    {
     "data": {
      "image/png": "[encoded data removed]",
      "text/plain": [
       "<Figure size 1152x360 with 1 Axes>"
      ]
     },
     "metadata": {},
     "output_type": "display_data"
    }
   ],
   "source": [
    "\n",
    "colors = [\"purple\", \"green\", \"orange\"]\n",
    "\n",
    "sns.set_style(\"whitegrid\")\n",
    "plt.figure(figsize=(16,5))\n",
    "plt.yticks(np.arange(0,100,10))\n",
    "plt.ylabel(\"Accuracy %\")\n",
    "plt.xlabel(\"Algorithms\")\n",
    "sns.barplot(x=list(accuracies.keys()), y=list(accuracies.values()), palette=colors)\n",
    "plt.show()"
   ]
  },
  {
   "cell_type": "markdown",
   "metadata": {
    "colab_type": "text",
    "id": "fvO6XrApUcq2"
   },
   "source": [
    "#Confusion Matrix for test"
   ]
  },
  {
   "cell_type": "code",
   "execution_count": 530,
   "metadata": {
    "colab": {},
    "colab_type": "code",
    "id": "2WsQFS6eXPNw"
   },
   "outputs": [],
   "source": [
    "# Predicted values\n",
    "\n",
    "knn3 = KNeighborsClassifier(n_neighbors = 3)\n",
    "knn3.fit(x_train.T, y_train.T)\n",
    "y_head_knn = knn3.predict(x_test.T)\n",
    "y_head_dtc = dtc.predict(x_test.T)\n",
    "y_head_rf = rf.predict(x_test.T)"
   ]
  },
  {
   "cell_type": "code",
   "execution_count": 531,
   "metadata": {
    "colab": {},
    "colab_type": "code",
    "id": "DTyWK6N1OeJ5"
   },
   "outputs": [],
   "source": [
    "from sklearn.metrics import confusion_matrix\n",
    "cm_knn = confusion_matrix(y_test,y_head_knn)\n",
    "cm_dtc = confusion_matrix(y_test,y_head_dtc)\n",
    "cm_rf = confusion_matrix(y_test,y_head_rf)"
   ]
  },
  {
   "cell_type": "code",
   "execution_count": 532,
   "metadata": {
    "colab": {
     "base_uri": "https://localhost:8080/",
     "height": 547
    },
    "colab_type": "code",
    "id": "EjxhEyEHOirO",
    "outputId": "78caeff2-745d-46a2-d250-c54749139194"
   },
   "outputs": [
    {
     "data": {
      "image/png": "[encoded data removed]",
      "text/plain": [
       "<Figure size 1728x864 with 3 Axes>"
      ]
     },
     "metadata": {},
     "output_type": "display_data"
    }
   ],
   "source": [
    "\n",
    "plt.figure(figsize=(24,12))\n",
    "\n",
    "plt.suptitle(\"Test Confusion Matrixes\",fontsize=24)\n",
    "plt.subplots_adjust(wspace = 0.4, hspace= 0.4)\n",
    "\n",
    "plt.subplot(2,3,2)\n",
    "plt.title(\"K Nearest Neighbors Confusion Matrix\")\n",
    "sns.heatmap(cm_knn,annot=True,cmap=\"Blues\",fmt=\"d\",cbar=False, annot_kws={\"size\": 24})\n",
    "\n",
    "plt.subplot(2,3,3)\n",
    "plt.title(\"Decision Tree Classifier Confusion Matrix\")\n",
    "sns.heatmap(cm_dtc,annot=True,cmap=\"Blues\",fmt=\"d\",cbar=False, annot_kws={\"size\": 24})\n",
    "\n",
    "plt.subplot(2,3,5)\n",
    "plt.title(\"Random Forest Confusion Matrix\")\n",
    "sns.heatmap(cm_rf,annot=True,cmap=\"Blues\",fmt=\"d\",cbar=False, annot_kws={\"size\": 24})\n",
    "\n",
    "plt.show()"
   ]
  },
  {
   "cell_type": "markdown",
   "metadata": {
    "colab_type": "text",
    "id": "X-xmTvUyaL0o"
   },
   "source": [
    "#Confusion Matrix for train"
   ]
  },
  {
   "cell_type": "code",
   "execution_count": 533,
   "metadata": {
    "colab": {},
    "colab_type": "code",
    "id": "u3Ly058eaXXS"
   },
   "outputs": [],
   "source": [
    "# Predicted values\n",
    "knn3 = KNeighborsClassifier(n_neighbors = 3)\n",
    "knn3.fit(x_train.T, y_train.T)\n",
    "y_head_knn = knn3.predict(x_train.T)\n",
    "y_head_dtc = dtc.predict(x_train.T)\n",
    "y_head_rf = rf.predict(x_train.T)"
   ]
  },
  {
   "cell_type": "code",
   "execution_count": 534,
   "metadata": {
    "colab": {},
    "colab_type": "code",
    "id": "-lb_066KaSeo"
   },
   "outputs": [],
   "source": [
    "\n",
    "from sklearn.metrics import confusion_matrix\n",
    "cm_knn = confusion_matrix(y_train,y_head_knn)\n",
    "cm_dtc = confusion_matrix(y_train,y_head_dtc)\n",
    "cm_rf = confusion_matrix(y_train,y_head_rf)"
   ]
  },
  {
   "cell_type": "code",
   "execution_count": 535,
   "metadata": {
    "colab": {
     "base_uri": "https://localhost:8080/",
     "height": 547
    },
    "colab_type": "code",
    "id": "ojuR7pTqaHBD",
    "outputId": "b0af891d-a427-4c71-b8c4-acd23a90f233"
   },
   "outputs": [
    {
     "data": {
      "image/png": "[encoded data removed]",
      "text/plain": [
       "<Figure size 1728x864 with 3 Axes>"
      ]
     },
     "metadata": {},
     "output_type": "display_data"
    }
   ],
   "source": [
    "\n",
    "plt.figure(figsize=(24,12))\n",
    "\n",
    "plt.suptitle(\"Train Confusion Matrixes\",fontsize=24)\n",
    "plt.subplots_adjust(wspace = 0.4, hspace= 0.4)\n",
    "\n",
    "plt.subplot(2,3,2)\n",
    "plt.title(\"K Nearest Neighbors Confusion Matrix\")\n",
    "sns.heatmap(cm_knn,annot=True,cmap=\"Blues\",fmt=\"d\",cbar=False, annot_kws={\"size\": 24})\n",
    "\n",
    "plt.subplot(2,3,3)\n",
    "plt.title(\"Decision Tree Classifier Confusion Matrix\")\n",
    "sns.heatmap(cm_dtc,annot=True,cmap=\"Blues\",fmt=\"d\",cbar=False, annot_kws={\"size\": 24})\n",
    "\n",
    "plt.subplot(2,3,5)\n",
    "plt.title(\"Random Forest Confusion Matrix\")\n",
    "sns.heatmap(cm_rf,annot=True,cmap=\"Blues\",fmt=\"d\",cbar=False, annot_kws={\"size\": 24})\n",
    "\n",
    "plt.show()"
   ]
  },
  {
   "cell_type": "code",
   "execution_count": null,
   "metadata": {
    "colab": {},
    "colab_type": "code",
    "id": "kw0yObl5aYdp"
   },
   "outputs": [],
   "source": []
  }
 ],
 "metadata": {
  "colab": {
   "name": "AviationProject.ipynb",
   "provenance": []
  },
  "kernelspec": {
   "display_name": "Python 3",
   "language": "python",
   "name": "python3"
  },
  "language_info": {
   "codemirror_mode": {
    "name": "ipython",
    "version": 3
   },
   "file_extension": ".py",
   "mimetype": "text/x-python",
   "name": "python",
   "nbconvert_exporter": "python",
   "pygments_lexer": "ipython3",
   "version": "3.7.4"
  }
 },
 "nbformat": 4,
 "nbformat_minor": 1
}

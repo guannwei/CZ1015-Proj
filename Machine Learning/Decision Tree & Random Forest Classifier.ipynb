{
 "cells": [
  {
   "cell_type": "markdown",
   "metadata": {},
   "source": [
    "## Using categorical values to predict Aircraft Damage"
   ]
  },
  {
   "cell_type": "code",
   "execution_count": 18,
   "metadata": {},
   "outputs": [],
   "source": [
    "# Basic Libraries\n",
    "import numpy as np\n",
    "import pandas as pd\n",
    "import seaborn as sb\n",
    "import matplotlib.pyplot as plt # we only need pyplot\n",
    "sb.set() # set the default Seaborn style for graphics\n",
    "\n",
    "from sklearn.metrics import accuracy_score\n",
    "from sklearn.model_selection import train_test_split\n",
    "from sklearn.model_selection import cross_val_score, GridSearchCV\n",
    "from sklearn.linear_model import LogisticRegression\n",
    "from sklearn.tree import DecisionTreeClassifier\n",
    "from sklearn.ensemble import RandomForestClassifier"
   ]
  },
  {
   "cell_type": "code",
   "execution_count": 19,
   "metadata": {},
   "outputs": [
    {
     "data": {
      "text/html": [
       "<div>\n",
       "<style scoped>\n",
       "    .dataframe tbody tr th:only-of-type {\n",
       "        vertical-align: middle;\n",
       "    }\n",
       "\n",
       "    .dataframe tbody tr th {\n",
       "        vertical-align: top;\n",
       "    }\n",
       "\n",
       "    .dataframe thead th {\n",
       "        text-align: right;\n",
       "    }\n",
       "</style>\n",
       "<table border=\"1\" class=\"dataframe\">\n",
       "  <thead>\n",
       "    <tr style=\"text-align: right;\">\n",
       "      <th></th>\n",
       "      <th>WeatherCondition</th>\n",
       "      <th>BroadPhaseOfFlight</th>\n",
       "      <th>AircraftDamage</th>\n",
       "      <th>InvestigationType</th>\n",
       "      <th>PurposeOfFlight</th>\n",
       "      <th>EngineType</th>\n",
       "      <th>TotalFatalInjuries</th>\n",
       "      <th>TotalSeriousInjuries</th>\n",
       "      <th>TotalMinorInjuries</th>\n",
       "      <th>TotalUninjured</th>\n",
       "      <th>TotalInjuries</th>\n",
       "      <th>EventDate</th>\n",
       "      <th>Month</th>\n",
       "      <th>Year</th>\n",
       "    </tr>\n",
       "  </thead>\n",
       "  <tbody>\n",
       "    <tr>\n",
       "      <td>0</td>\n",
       "      <td>UNK</td>\n",
       "      <td>MANEUVERING</td>\n",
       "      <td>Substantial</td>\n",
       "      <td>Accident</td>\n",
       "      <td>Unknown</td>\n",
       "      <td>Turbo Shaft</td>\n",
       "      <td>0.0</td>\n",
       "      <td>0.0</td>\n",
       "      <td>0.0</td>\n",
       "      <td>1.0</td>\n",
       "      <td>0.0</td>\n",
       "      <td>2016-11-14</td>\n",
       "      <td>11</td>\n",
       "      <td>2016</td>\n",
       "    </tr>\n",
       "    <tr>\n",
       "      <td>1</td>\n",
       "      <td>VMC</td>\n",
       "      <td>LANDING</td>\n",
       "      <td>Substantial</td>\n",
       "      <td>Accident</td>\n",
       "      <td>Unknown</td>\n",
       "      <td>Unknown</td>\n",
       "      <td>0.0</td>\n",
       "      <td>0.0</td>\n",
       "      <td>0.0</td>\n",
       "      <td>2.0</td>\n",
       "      <td>0.0</td>\n",
       "      <td>2016-11-14</td>\n",
       "      <td>11</td>\n",
       "      <td>2016</td>\n",
       "    </tr>\n",
       "    <tr>\n",
       "      <td>2</td>\n",
       "      <td>VMC</td>\n",
       "      <td>TAKEOFF</td>\n",
       "      <td>Substantial</td>\n",
       "      <td>Accident</td>\n",
       "      <td>Personal</td>\n",
       "      <td>Reciprocating</td>\n",
       "      <td>0.0</td>\n",
       "      <td>0.0</td>\n",
       "      <td>0.0</td>\n",
       "      <td>1.0</td>\n",
       "      <td>0.0</td>\n",
       "      <td>2016-11-13</td>\n",
       "      <td>11</td>\n",
       "      <td>2016</td>\n",
       "    </tr>\n",
       "    <tr>\n",
       "      <td>3</td>\n",
       "      <td>VMC</td>\n",
       "      <td>MANEUVERING</td>\n",
       "      <td>Substantial</td>\n",
       "      <td>Accident</td>\n",
       "      <td>Instructional</td>\n",
       "      <td>Reciprocating</td>\n",
       "      <td>0.0</td>\n",
       "      <td>0.0</td>\n",
       "      <td>0.0</td>\n",
       "      <td>2.0</td>\n",
       "      <td>0.0</td>\n",
       "      <td>2016-12-11</td>\n",
       "      <td>12</td>\n",
       "      <td>2016</td>\n",
       "    </tr>\n",
       "    <tr>\n",
       "      <td>4</td>\n",
       "      <td>VMC</td>\n",
       "      <td>UNKNOWN</td>\n",
       "      <td>Substantial</td>\n",
       "      <td>Accident</td>\n",
       "      <td>Personal</td>\n",
       "      <td>Reciprocating</td>\n",
       "      <td>0.0</td>\n",
       "      <td>1.0</td>\n",
       "      <td>0.0</td>\n",
       "      <td>1.0</td>\n",
       "      <td>1.0</td>\n",
       "      <td>2016-12-11</td>\n",
       "      <td>12</td>\n",
       "      <td>2016</td>\n",
       "    </tr>\n",
       "    <tr>\n",
       "      <td>...</td>\n",
       "      <td>...</td>\n",
       "      <td>...</td>\n",
       "      <td>...</td>\n",
       "      <td>...</td>\n",
       "      <td>...</td>\n",
       "      <td>...</td>\n",
       "      <td>...</td>\n",
       "      <td>...</td>\n",
       "      <td>...</td>\n",
       "      <td>...</td>\n",
       "      <td>...</td>\n",
       "      <td>...</td>\n",
       "      <td>...</td>\n",
       "      <td>...</td>\n",
       "    </tr>\n",
       "    <tr>\n",
       "      <td>79136</td>\n",
       "      <td>VMC</td>\n",
       "      <td>APPROACH</td>\n",
       "      <td>Destroyed</td>\n",
       "      <td>Accident</td>\n",
       "      <td>Personal</td>\n",
       "      <td>Unknown</td>\n",
       "      <td>1.0</td>\n",
       "      <td>2.0</td>\n",
       "      <td>0.0</td>\n",
       "      <td>0.0</td>\n",
       "      <td>3.0</td>\n",
       "      <td>1979-02-08</td>\n",
       "      <td>2</td>\n",
       "      <td>1979</td>\n",
       "    </tr>\n",
       "    <tr>\n",
       "      <td>79137</td>\n",
       "      <td>IMC</td>\n",
       "      <td>CRUISE</td>\n",
       "      <td>Destroyed</td>\n",
       "      <td>Accident</td>\n",
       "      <td>Personal</td>\n",
       "      <td>Reciprocating</td>\n",
       "      <td>2.0</td>\n",
       "      <td>0.0</td>\n",
       "      <td>0.0</td>\n",
       "      <td>0.0</td>\n",
       "      <td>2.0</td>\n",
       "      <td>1977-06-19</td>\n",
       "      <td>6</td>\n",
       "      <td>1977</td>\n",
       "    </tr>\n",
       "    <tr>\n",
       "      <td>79138</td>\n",
       "      <td>IMC</td>\n",
       "      <td>CRUISE</td>\n",
       "      <td>Destroyed</td>\n",
       "      <td>Accident</td>\n",
       "      <td>Personal</td>\n",
       "      <td>Reciprocating</td>\n",
       "      <td>3.0</td>\n",
       "      <td>0.0</td>\n",
       "      <td>0.0</td>\n",
       "      <td>0.0</td>\n",
       "      <td>3.0</td>\n",
       "      <td>1974-08-30</td>\n",
       "      <td>8</td>\n",
       "      <td>1974</td>\n",
       "    </tr>\n",
       "    <tr>\n",
       "      <td>79139</td>\n",
       "      <td>UNK</td>\n",
       "      <td>UNKNOWN</td>\n",
       "      <td>Destroyed</td>\n",
       "      <td>Accident</td>\n",
       "      <td>Personal</td>\n",
       "      <td>Reciprocating</td>\n",
       "      <td>4.0</td>\n",
       "      <td>0.0</td>\n",
       "      <td>0.0</td>\n",
       "      <td>0.0</td>\n",
       "      <td>4.0</td>\n",
       "      <td>1962-07-19</td>\n",
       "      <td>7</td>\n",
       "      <td>1962</td>\n",
       "    </tr>\n",
       "    <tr>\n",
       "      <td>79140</td>\n",
       "      <td>UNK</td>\n",
       "      <td>CRUISE</td>\n",
       "      <td>Destroyed</td>\n",
       "      <td>Accident</td>\n",
       "      <td>Personal</td>\n",
       "      <td>Reciprocating</td>\n",
       "      <td>2.0</td>\n",
       "      <td>0.0</td>\n",
       "      <td>0.0</td>\n",
       "      <td>0.0</td>\n",
       "      <td>2.0</td>\n",
       "      <td>1948-10-24</td>\n",
       "      <td>10</td>\n",
       "      <td>1948</td>\n",
       "    </tr>\n",
       "  </tbody>\n",
       "</table>\n",
       "<p>79141 rows × 14 columns</p>\n",
       "</div>"
      ],
      "text/plain": [
       "      WeatherCondition BroadPhaseOfFlight AircraftDamage InvestigationType  \\\n",
       "0                  UNK        MANEUVERING    Substantial          Accident   \n",
       "1                  VMC            LANDING    Substantial          Accident   \n",
       "2                  VMC            TAKEOFF    Substantial          Accident   \n",
       "3                  VMC        MANEUVERING    Substantial          Accident   \n",
       "4                  VMC            UNKNOWN    Substantial          Accident   \n",
       "...                ...                ...            ...               ...   \n",
       "79136              VMC           APPROACH      Destroyed          Accident   \n",
       "79137              IMC             CRUISE      Destroyed          Accident   \n",
       "79138              IMC             CRUISE      Destroyed          Accident   \n",
       "79139              UNK            UNKNOWN      Destroyed          Accident   \n",
       "79140              UNK             CRUISE      Destroyed          Accident   \n",
       "\n",
       "      PurposeOfFlight     EngineType  TotalFatalInjuries  \\\n",
       "0             Unknown    Turbo Shaft                 0.0   \n",
       "1             Unknown        Unknown                 0.0   \n",
       "2            Personal  Reciprocating                 0.0   \n",
       "3       Instructional  Reciprocating                 0.0   \n",
       "4            Personal  Reciprocating                 0.0   \n",
       "...               ...            ...                 ...   \n",
       "79136        Personal        Unknown                 1.0   \n",
       "79137        Personal  Reciprocating                 2.0   \n",
       "79138        Personal  Reciprocating                 3.0   \n",
       "79139        Personal  Reciprocating                 4.0   \n",
       "79140        Personal  Reciprocating                 2.0   \n",
       "\n",
       "       TotalSeriousInjuries  TotalMinorInjuries  TotalUninjured  \\\n",
       "0                       0.0                 0.0             1.0   \n",
       "1                       0.0                 0.0             2.0   \n",
       "2                       0.0                 0.0             1.0   \n",
       "3                       0.0                 0.0             2.0   \n",
       "4                       1.0                 0.0             1.0   \n",
       "...                     ...                 ...             ...   \n",
       "79136                   2.0                 0.0             0.0   \n",
       "79137                   0.0                 0.0             0.0   \n",
       "79138                   0.0                 0.0             0.0   \n",
       "79139                   0.0                 0.0             0.0   \n",
       "79140                   0.0                 0.0             0.0   \n",
       "\n",
       "       TotalInjuries   EventDate  Month  Year  \n",
       "0                0.0  2016-11-14     11  2016  \n",
       "1                0.0  2016-11-14     11  2016  \n",
       "2                0.0  2016-11-13     11  2016  \n",
       "3                0.0  2016-12-11     12  2016  \n",
       "4                1.0  2016-12-11     12  2016  \n",
       "...              ...         ...    ...   ...  \n",
       "79136            3.0  1979-02-08      2  1979  \n",
       "79137            2.0  1977-06-19      6  1977  \n",
       "79138            3.0  1974-08-30      8  1974  \n",
       "79139            4.0  1962-07-19      7  1962  \n",
       "79140            2.0  1948-10-24     10  1948  \n",
       "\n",
       "[79141 rows x 14 columns]"
      ]
     },
     "execution_count": 19,
     "metadata": {},
     "output_type": "execute_result"
    }
   ],
   "source": [
    "aviation = pd.read_csv('../Data/AviationFinal.csv')\n",
    "aviation"
   ]
  },
  {
   "cell_type": "markdown",
   "metadata": {},
   "source": [
    "### Splitting data"
   ]
  },
  {
   "cell_type": "code",
   "execution_count": 20,
   "metadata": {},
   "outputs": [
    {
     "data": {
      "text/html": [
       "<div>\n",
       "<style scoped>\n",
       "    .dataframe tbody tr th:only-of-type {\n",
       "        vertical-align: middle;\n",
       "    }\n",
       "\n",
       "    .dataframe tbody tr th {\n",
       "        vertical-align: top;\n",
       "    }\n",
       "\n",
       "    .dataframe thead th {\n",
       "        text-align: right;\n",
       "    }\n",
       "</style>\n",
       "<table border=\"1\" class=\"dataframe\">\n",
       "  <thead>\n",
       "    <tr style=\"text-align: right;\">\n",
       "      <th></th>\n",
       "      <th>AircraftDamage</th>\n",
       "    </tr>\n",
       "  </thead>\n",
       "  <tbody>\n",
       "    <tr>\n",
       "      <td>55083</td>\n",
       "      <td>Substantial</td>\n",
       "    </tr>\n",
       "    <tr>\n",
       "      <td>34590</td>\n",
       "      <td>Minor</td>\n",
       "    </tr>\n",
       "    <tr>\n",
       "      <td>33892</td>\n",
       "      <td>Substantial</td>\n",
       "    </tr>\n",
       "    <tr>\n",
       "      <td>44819</td>\n",
       "      <td>Substantial</td>\n",
       "    </tr>\n",
       "    <tr>\n",
       "      <td>46003</td>\n",
       "      <td>Destroyed</td>\n",
       "    </tr>\n",
       "  </tbody>\n",
       "</table>\n",
       "</div>"
      ],
      "text/plain": [
       "      AircraftDamage\n",
       "55083    Substantial\n",
       "34590          Minor\n",
       "33892    Substantial\n",
       "44819    Substantial\n",
       "46003      Destroyed"
      ]
     },
     "execution_count": 20,
     "metadata": {},
     "output_type": "execute_result"
    }
   ],
   "source": [
    "pd.set_option('display.max_columns', None)  # Unlimited columns.\n",
    "pd.options.mode.use_inf_as_na = True  \n",
    "\n",
    "aircraftDamage = pd.DataFrame(aviation['AircraftDamage'])\n",
    "aviationcategorical = pd.DataFrame(aviation[['Month', 'EngineType', 'WeatherCondition', \"BroadPhaseOfFlight\"]])\n",
    "\n",
    "\n",
    "X_train_original, X_test_original, y_train_original, y_test_original = train_test_split(aviationcategorical, aircraftDamage, test_size = 0.2)\n",
    "y_train_original.head()"
   ]
  },
  {
   "cell_type": "markdown",
   "metadata": {},
   "source": [
    "### See how many categories AircraftDamage has\n",
    "> More than half is just one category - Substantial"
   ]
  },
  {
   "cell_type": "code",
   "execution_count": 21,
   "metadata": {},
   "outputs": [
    {
     "data": {
      "text/plain": [
       "Substantial    0.719169\n",
       "Destroyed      0.218711\n",
       "Minor          0.031969\n",
       "Unknown        0.030152\n",
       "Name: AircraftDamage, dtype: float64"
      ]
     },
     "execution_count": 21,
     "metadata": {},
     "output_type": "execute_result"
    }
   ],
   "source": [
    "pd.value_counts(y_train_original['AircraftDamage'], normalize = True)"
   ]
  },
  {
   "cell_type": "markdown",
   "metadata": {},
   "source": [
    "### Majority class prediction\n",
    ">It is to gauge how good our future prediction scores should be. Gives baseline\n",
    "that we want to cross with our next model"
   ]
  },
  {
   "cell_type": "code",
   "execution_count": 22,
   "metadata": {},
   "outputs": [
    {
     "data": {
      "text/html": [
       "<div>\n",
       "<style scoped>\n",
       "    .dataframe tbody tr th:only-of-type {\n",
       "        vertical-align: middle;\n",
       "    }\n",
       "\n",
       "    .dataframe tbody tr th {\n",
       "        vertical-align: top;\n",
       "    }\n",
       "\n",
       "    .dataframe thead th {\n",
       "        text-align: right;\n",
       "    }\n",
       "</style>\n",
       "<table border=\"1\" class=\"dataframe\">\n",
       "  <thead>\n",
       "    <tr style=\"text-align: right;\">\n",
       "      <th></th>\n",
       "      <th>AircraftDamage</th>\n",
       "    </tr>\n",
       "  </thead>\n",
       "  <tbody>\n",
       "    <tr>\n",
       "      <td>31801</td>\n",
       "      <td>functional</td>\n",
       "    </tr>\n",
       "    <tr>\n",
       "      <td>7739</td>\n",
       "      <td>functional</td>\n",
       "    </tr>\n",
       "    <tr>\n",
       "      <td>53138</td>\n",
       "      <td>functional</td>\n",
       "    </tr>\n",
       "    <tr>\n",
       "      <td>24482</td>\n",
       "      <td>functional</td>\n",
       "    </tr>\n",
       "    <tr>\n",
       "      <td>73841</td>\n",
       "      <td>functional</td>\n",
       "    </tr>\n",
       "  </tbody>\n",
       "</table>\n",
       "</div>"
      ],
      "text/plain": [
       "      AircraftDamage\n",
       "31801     functional\n",
       "7739      functional\n",
       "53138     functional\n",
       "24482     functional\n",
       "73841     functional"
      ]
     },
     "execution_count": 22,
     "metadata": {},
     "output_type": "execute_result"
    }
   ],
   "source": [
    "y_pred = ['functional'] * len(X_test_original)\n",
    "y_pred = pd.DataFrame(data = y_pred,\n",
    "                      index = X_test_original.index.values,\n",
    "                      columns = ['AircraftDamage'])\n",
    "y_pred.head()"
   ]
  },
  {
   "cell_type": "markdown",
   "metadata": {},
   "source": [
    "### Predict with just the numerical features"
   ]
  },
  {
   "cell_type": "code",
   "execution_count": 23,
   "metadata": {},
   "outputs": [
    {
     "data": {
      "text/html": [
       "<div>\n",
       "<style scoped>\n",
       "    .dataframe tbody tr th:only-of-type {\n",
       "        vertical-align: middle;\n",
       "    }\n",
       "\n",
       "    .dataframe tbody tr th {\n",
       "        vertical-align: top;\n",
       "    }\n",
       "\n",
       "    .dataframe thead th {\n",
       "        text-align: right;\n",
       "    }\n",
       "</style>\n",
       "<table border=\"1\" class=\"dataframe\">\n",
       "  <thead>\n",
       "    <tr style=\"text-align: right;\">\n",
       "      <th></th>\n",
       "      <th>Month</th>\n",
       "    </tr>\n",
       "  </thead>\n",
       "  <tbody>\n",
       "    <tr>\n",
       "      <td>55083</td>\n",
       "      <td>9</td>\n",
       "    </tr>\n",
       "    <tr>\n",
       "      <td>34590</td>\n",
       "      <td>7</td>\n",
       "    </tr>\n",
       "    <tr>\n",
       "      <td>33892</td>\n",
       "      <td>11</td>\n",
       "    </tr>\n",
       "    <tr>\n",
       "      <td>44819</td>\n",
       "      <td>12</td>\n",
       "    </tr>\n",
       "    <tr>\n",
       "      <td>46003</td>\n",
       "      <td>1</td>\n",
       "    </tr>\n",
       "  </tbody>\n",
       "</table>\n",
       "</div>"
      ],
      "text/plain": [
       "       Month\n",
       "55083      9\n",
       "34590      7\n",
       "33892     11\n",
       "44819     12\n",
       "46003      1"
      ]
     },
     "execution_count": 23,
     "metadata": {},
     "output_type": "execute_result"
    }
   ],
   "source": [
    "X_train_numerical = X_train_original.select_dtypes(\n",
    "                         include = np.number).copy()\n",
    "\n",
    "X_train_numerical.head()"
   ]
  },
  {
   "cell_type": "code",
   "execution_count": 24,
   "metadata": {},
   "outputs": [],
   "source": [
    "X_train_numerical_indices = X_train_numerical.index.values\n",
    "y_train_numerical = y_train_original[y_train_original.index.isin(X_train_numerical_indices)]"
   ]
  },
  {
   "cell_type": "markdown",
   "metadata": {},
   "source": [
    "### Logistic Regression"
   ]
  },
  {
   "cell_type": "code",
   "execution_count": 25,
   "metadata": {},
   "outputs": [
    {
     "name": "stderr",
     "output_type": "stream",
     "text": [
      "[Parallel(n_jobs=-1)]: Using backend LokyBackend with 4 concurrent workers.\n",
      "[Parallel(n_jobs=-1)]: Done   3 out of   3 | elapsed:    1.9s finished\n"
     ]
    },
    {
     "data": {
      "text/plain": [
       "array([0.719132  , 0.71915277, 0.71922093])"
      ]
     },
     "execution_count": 25,
     "metadata": {},
     "output_type": "execute_result"
    }
   ],
   "source": [
    "cv_score = cross_val_score(LogisticRegression(), \n",
    "                            X_train_numerical, y_train_numerical,\n",
    "                            scoring = 'accuracy',\n",
    "                            cv = 3,\n",
    "                            n_jobs = -1,\n",
    "                            verbose = 1)\n",
    "cv_score"
   ]
  },
  {
   "cell_type": "markdown",
   "metadata": {},
   "source": [
    "### Decision Tree"
   ]
  },
  {
   "cell_type": "code",
   "execution_count": 26,
   "metadata": {},
   "outputs": [
    {
     "name": "stderr",
     "output_type": "stream",
     "text": [
      "[Parallel(n_jobs=-1)]: Using backend LokyBackend with 4 concurrent workers.\n",
      "[Parallel(n_jobs=-1)]: Done   3 out of   3 | elapsed:    1.3s finished\n"
     ]
    },
    {
     "data": {
      "text/plain": [
       "array([0.719132  , 0.71915277, 0.71922093])"
      ]
     },
     "execution_count": 26,
     "metadata": {},
     "output_type": "execute_result"
    }
   ],
   "source": [
    "clf = DecisionTreeClassifier()\n",
    "cv_score = cross_val_score(clf, \n",
    "                            X_train_numerical, y_train_numerical,\n",
    "                            scoring = 'accuracy',\n",
    "                            cv = 3,\n",
    "                            n_jobs = -1,\n",
    "                            verbose = 1)\n",
    "cv_score"
   ]
  },
  {
   "cell_type": "markdown",
   "metadata": {},
   "source": [
    "### Decision Tree Classifier"
   ]
  },
  {
   "cell_type": "code",
   "execution_count": 28,
   "metadata": {},
   "outputs": [
    {
     "name": "stderr",
     "output_type": "stream",
     "text": [
      "[Parallel(n_jobs=-1)]: Using backend LokyBackend with 4 concurrent workers.\n",
      "[Parallel(n_jobs=-1)]: Done   3 out of   3 | elapsed:    0.1s finished\n"
     ]
    },
    {
     "data": {
      "text/plain": [
       "array([0.74059509, 0.73763268, 0.7372287 ])"
      ]
     },
     "execution_count": 28,
     "metadata": {},
     "output_type": "execute_result"
    }
   ],
   "source": [
    "X_train_original.isnull().sum()\n",
    "X_non_nulls = X_train_original.dropna(axis = 1)\n",
    "X_non_nulls.nunique().sort_values(ascending = True)\n",
    "\n",
    "X_selected = X_non_nulls.loc[:, X_non_nulls.nunique().sort_values()< 50]\n",
    "cat_cols = list(X_selected.select_dtypes(['object']).columns.values)\n",
    "X_categorical = X_selected[cat_cols].apply(lambda x: x.astype('category').cat.codes)\n",
    "X_train_selected = X_train_numerical.join(X_categorical)\n",
    "clf = DecisionTreeClassifier()\n",
    "cv_score = cross_val_score(clf, \n",
    "                            X_train_selected, y_train_original,\n",
    "                            scoring = 'accuracy',\n",
    "                            cv = 3,\n",
    "                            n_jobs = -1,\n",
    "                            verbose = 1)\n",
    "cv_score"
   ]
  },
  {
   "cell_type": "markdown",
   "metadata": {},
   "source": [
    "### Random Forest Classifier"
   ]
  },
  {
   "cell_type": "code",
   "execution_count": 29,
   "metadata": {},
   "outputs": [
    {
     "name": "stderr",
     "output_type": "stream",
     "text": [
      "D:\\ProgramData\\Anaconda3\\lib\\site-packages\\sklearn\\ensemble\\forest.py:245: FutureWarning: The default value of n_estimators will change from 10 in version 0.20 to 100 in 0.22.\n",
      "  \"10 in version 0.20 to 100 in 0.22.\", FutureWarning)\n",
      "D:\\ProgramData\\Anaconda3\\lib\\site-packages\\ipykernel_launcher.py:5: DataConversionWarning: A column-vector y was passed when a 1d array was expected. Please change the shape of y to (n_samples,), for example using ravel().\n",
      "  \"\"\"\n"
     ]
    },
    {
     "data": {
      "text/plain": [
       "0.7437416094132512"
      ]
     },
     "execution_count": 29,
     "metadata": {},
     "output_type": "execute_result"
    }
   ],
   "source": [
    "X_train, X_test, y_train, y_test = train_test_split(\n",
    "    X_train_selected, y_train_original, test_size=0.2)\n",
    "\n",
    "clf = RandomForestClassifier()\n",
    "clf.fit(X_train, y_train)\n",
    "clf.score(X_test, y_test)"
   ]
  },
  {
   "cell_type": "markdown",
   "metadata": {},
   "source": [
    "#### Search for the best Random Forest Classifier using a grid search"
   ]
  },
  {
   "cell_type": "code",
   "execution_count": 30,
   "metadata": {},
   "outputs": [
    {
     "name": "stdout",
     "output_type": "stream",
     "text": [
      "Fitting 3 folds for each of 12 candidates, totalling 36 fits\n",
      "[CV] max_depth=6, n_estimators=10 ....................................\n"
     ]
    },
    {
     "name": "stderr",
     "output_type": "stream",
     "text": [
      "[Parallel(n_jobs=1)]: Using backend SequentialBackend with 1 concurrent workers.\n",
      "D:\\ProgramData\\Anaconda3\\lib\\site-packages\\sklearn\\model_selection\\_validation.py:516: DataConversionWarning: A column-vector y was passed when a 1d array was expected. Please change the shape of y to (n_samples,), for example using ravel().\n",
      "  estimator.fit(X_train, y_train, **fit_params)\n"
     ]
    },
    {
     "name": "stdout",
     "output_type": "stream",
     "text": [
      "[CV]  max_depth=6, n_estimators=10, score=(train=0.745, test=0.744), total=   0.3s\n",
      "[CV] max_depth=6, n_estimators=10 ....................................\n"
     ]
    },
    {
     "name": "stderr",
     "output_type": "stream",
     "text": [
      "[Parallel(n_jobs=1)]: Done   1 out of   1 | elapsed:    0.3s remaining:    0.0s\n",
      "D:\\ProgramData\\Anaconda3\\lib\\site-packages\\sklearn\\model_selection\\_validation.py:516: DataConversionWarning: A column-vector y was passed when a 1d array was expected. Please change the shape of y to (n_samples,), for example using ravel().\n",
      "  estimator.fit(X_train, y_train, **fit_params)\n"
     ]
    },
    {
     "name": "stdout",
     "output_type": "stream",
     "text": [
      "[CV]  max_depth=6, n_estimators=10, score=(train=0.748, test=0.742), total=   0.2s\n",
      "[CV] max_depth=6, n_estimators=10 ....................................\n"
     ]
    },
    {
     "name": "stderr",
     "output_type": "stream",
     "text": [
      "[Parallel(n_jobs=1)]: Done   2 out of   2 | elapsed:    0.7s remaining:    0.0s\n",
      "D:\\ProgramData\\Anaconda3\\lib\\site-packages\\sklearn\\model_selection\\_validation.py:516: DataConversionWarning: A column-vector y was passed when a 1d array was expected. Please change the shape of y to (n_samples,), for example using ravel().\n",
      "  estimator.fit(X_train, y_train, **fit_params)\n"
     ]
    },
    {
     "name": "stdout",
     "output_type": "stream",
     "text": [
      "[CV]  max_depth=6, n_estimators=10, score=(train=0.746, test=0.743), total=   0.2s\n",
      "[CV] max_depth=6, n_estimators=20 ....................................\n"
     ]
    },
    {
     "name": "stderr",
     "output_type": "stream",
     "text": [
      "[Parallel(n_jobs=1)]: Done   3 out of   3 | elapsed:    1.1s remaining:    0.0s\n",
      "D:\\ProgramData\\Anaconda3\\lib\\site-packages\\sklearn\\model_selection\\_validation.py:516: DataConversionWarning: A column-vector y was passed when a 1d array was expected. Please change the shape of y to (n_samples,), for example using ravel().\n",
      "  estimator.fit(X_train, y_train, **fit_params)\n"
     ]
    },
    {
     "name": "stdout",
     "output_type": "stream",
     "text": [
      "[CV]  max_depth=6, n_estimators=20, score=(train=0.745, test=0.746), total=   0.3s\n",
      "[CV] max_depth=6, n_estimators=20 ....................................\n"
     ]
    },
    {
     "name": "stderr",
     "output_type": "stream",
     "text": [
      "[Parallel(n_jobs=1)]: Done   4 out of   4 | elapsed:    1.5s remaining:    0.0s\n",
      "D:\\ProgramData\\Anaconda3\\lib\\site-packages\\sklearn\\model_selection\\_validation.py:516: DataConversionWarning: A column-vector y was passed when a 1d array was expected. Please change the shape of y to (n_samples,), for example using ravel().\n",
      "  estimator.fit(X_train, y_train, **fit_params)\n"
     ]
    },
    {
     "name": "stdout",
     "output_type": "stream",
     "text": [
      "[CV]  max_depth=6, n_estimators=20, score=(train=0.748, test=0.742), total=   0.3s\n",
      "[CV] max_depth=6, n_estimators=20 ....................................\n"
     ]
    },
    {
     "name": "stderr",
     "output_type": "stream",
     "text": [
      "[Parallel(n_jobs=1)]: Done   5 out of   5 | elapsed:    2.0s remaining:    0.0s\n",
      "D:\\ProgramData\\Anaconda3\\lib\\site-packages\\sklearn\\model_selection\\_validation.py:516: DataConversionWarning: A column-vector y was passed when a 1d array was expected. Please change the shape of y to (n_samples,), for example using ravel().\n",
      "  estimator.fit(X_train, y_train, **fit_params)\n"
     ]
    },
    {
     "name": "stdout",
     "output_type": "stream",
     "text": [
      "[CV]  max_depth=6, n_estimators=20, score=(train=0.747, test=0.744), total=   0.3s\n",
      "[CV] max_depth=6, n_estimators=30 ....................................\n"
     ]
    },
    {
     "name": "stderr",
     "output_type": "stream",
     "text": [
      "[Parallel(n_jobs=1)]: Done   6 out of   6 | elapsed:    2.5s remaining:    0.0s\n",
      "D:\\ProgramData\\Anaconda3\\lib\\site-packages\\sklearn\\model_selection\\_validation.py:516: DataConversionWarning: A column-vector y was passed when a 1d array was expected. Please change the shape of y to (n_samples,), for example using ravel().\n",
      "  estimator.fit(X_train, y_train, **fit_params)\n"
     ]
    },
    {
     "name": "stdout",
     "output_type": "stream",
     "text": [
      "[CV]  max_depth=6, n_estimators=30, score=(train=0.745, test=0.746), total=   0.4s\n",
      "[CV] max_depth=6, n_estimators=30 ....................................\n"
     ]
    },
    {
     "name": "stderr",
     "output_type": "stream",
     "text": [
      "[Parallel(n_jobs=1)]: Done   7 out of   7 | elapsed:    3.0s remaining:    0.0s\n",
      "D:\\ProgramData\\Anaconda3\\lib\\site-packages\\sklearn\\model_selection\\_validation.py:516: DataConversionWarning: A column-vector y was passed when a 1d array was expected. Please change the shape of y to (n_samples,), for example using ravel().\n",
      "  estimator.fit(X_train, y_train, **fit_params)\n"
     ]
    },
    {
     "name": "stdout",
     "output_type": "stream",
     "text": [
      "[CV]  max_depth=6, n_estimators=30, score=(train=0.747, test=0.741), total=   0.4s\n",
      "[CV] max_depth=6, n_estimators=30 ....................................\n"
     ]
    },
    {
     "name": "stderr",
     "output_type": "stream",
     "text": [
      "[Parallel(n_jobs=1)]: Done   8 out of   8 | elapsed:    3.6s remaining:    0.0s\n",
      "D:\\ProgramData\\Anaconda3\\lib\\site-packages\\sklearn\\model_selection\\_validation.py:516: DataConversionWarning: A column-vector y was passed when a 1d array was expected. Please change the shape of y to (n_samples,), for example using ravel().\n",
      "  estimator.fit(X_train, y_train, **fit_params)\n"
     ]
    },
    {
     "name": "stdout",
     "output_type": "stream",
     "text": [
      "[CV]  max_depth=6, n_estimators=30, score=(train=0.747, test=0.744), total=   0.4s\n",
      "[CV] max_depth=10, n_estimators=10 ...................................\n"
     ]
    },
    {
     "name": "stderr",
     "output_type": "stream",
     "text": [
      "[Parallel(n_jobs=1)]: Done   9 out of   9 | elapsed:    4.2s remaining:    0.0s\n",
      "D:\\ProgramData\\Anaconda3\\lib\\site-packages\\sklearn\\model_selection\\_validation.py:516: DataConversionWarning: A column-vector y was passed when a 1d array was expected. Please change the shape of y to (n_samples,), for example using ravel().\n",
      "  estimator.fit(X_train, y_train, **fit_params)\n"
     ]
    },
    {
     "name": "stdout",
     "output_type": "stream",
     "text": [
      "[CV]  max_depth=10, n_estimators=10, score=(train=0.756, test=0.743), total=   0.2s\n",
      "[CV] max_depth=10, n_estimators=10 ...................................\n"
     ]
    },
    {
     "name": "stderr",
     "output_type": "stream",
     "text": [
      "D:\\ProgramData\\Anaconda3\\lib\\site-packages\\sklearn\\model_selection\\_validation.py:516: DataConversionWarning: A column-vector y was passed when a 1d array was expected. Please change the shape of y to (n_samples,), for example using ravel().\n",
      "  estimator.fit(X_train, y_train, **fit_params)\n"
     ]
    },
    {
     "name": "stdout",
     "output_type": "stream",
     "text": [
      "[CV]  max_depth=10, n_estimators=10, score=(train=0.758, test=0.740), total=   0.3s\n",
      "[CV] max_depth=10, n_estimators=10 ...................................\n"
     ]
    },
    {
     "name": "stderr",
     "output_type": "stream",
     "text": [
      "D:\\ProgramData\\Anaconda3\\lib\\site-packages\\sklearn\\model_selection\\_validation.py:516: DataConversionWarning: A column-vector y was passed when a 1d array was expected. Please change the shape of y to (n_samples,), for example using ravel().\n",
      "  estimator.fit(X_train, y_train, **fit_params)\n"
     ]
    },
    {
     "name": "stdout",
     "output_type": "stream",
     "text": [
      "[CV]  max_depth=10, n_estimators=10, score=(train=0.756, test=0.744), total=   0.3s\n",
      "[CV] max_depth=10, n_estimators=20 ...................................\n"
     ]
    },
    {
     "name": "stderr",
     "output_type": "stream",
     "text": [
      "D:\\ProgramData\\Anaconda3\\lib\\site-packages\\sklearn\\model_selection\\_validation.py:516: DataConversionWarning: A column-vector y was passed when a 1d array was expected. Please change the shape of y to (n_samples,), for example using ravel().\n",
      "  estimator.fit(X_train, y_train, **fit_params)\n"
     ]
    },
    {
     "name": "stdout",
     "output_type": "stream",
     "text": [
      "[CV]  max_depth=10, n_estimators=20, score=(train=0.756, test=0.743), total=   0.3s\n",
      "[CV] max_depth=10, n_estimators=20 ...................................\n"
     ]
    },
    {
     "name": "stderr",
     "output_type": "stream",
     "text": [
      "D:\\ProgramData\\Anaconda3\\lib\\site-packages\\sklearn\\model_selection\\_validation.py:516: DataConversionWarning: A column-vector y was passed when a 1d array was expected. Please change the shape of y to (n_samples,), for example using ravel().\n",
      "  estimator.fit(X_train, y_train, **fit_params)\n"
     ]
    },
    {
     "name": "stdout",
     "output_type": "stream",
     "text": [
      "[CV]  max_depth=10, n_estimators=20, score=(train=0.758, test=0.740), total=   0.3s\n",
      "[CV] max_depth=10, n_estimators=20 ...................................\n"
     ]
    },
    {
     "name": "stderr",
     "output_type": "stream",
     "text": [
      "D:\\ProgramData\\Anaconda3\\lib\\site-packages\\sklearn\\model_selection\\_validation.py:516: DataConversionWarning: A column-vector y was passed when a 1d array was expected. Please change the shape of y to (n_samples,), for example using ravel().\n",
      "  estimator.fit(X_train, y_train, **fit_params)\n"
     ]
    },
    {
     "name": "stdout",
     "output_type": "stream",
     "text": [
      "[CV]  max_depth=10, n_estimators=20, score=(train=0.757, test=0.743), total=   0.4s\n",
      "[CV] max_depth=10, n_estimators=30 ...................................\n"
     ]
    },
    {
     "name": "stderr",
     "output_type": "stream",
     "text": [
      "D:\\ProgramData\\Anaconda3\\lib\\site-packages\\sklearn\\model_selection\\_validation.py:516: DataConversionWarning: A column-vector y was passed when a 1d array was expected. Please change the shape of y to (n_samples,), for example using ravel().\n",
      "  estimator.fit(X_train, y_train, **fit_params)\n"
     ]
    },
    {
     "name": "stdout",
     "output_type": "stream",
     "text": [
      "[CV]  max_depth=10, n_estimators=30, score=(train=0.757, test=0.744), total=   0.5s\n",
      "[CV] max_depth=10, n_estimators=30 ...................................\n"
     ]
    },
    {
     "name": "stderr",
     "output_type": "stream",
     "text": [
      "D:\\ProgramData\\Anaconda3\\lib\\site-packages\\sklearn\\model_selection\\_validation.py:516: DataConversionWarning: A column-vector y was passed when a 1d array was expected. Please change the shape of y to (n_samples,), for example using ravel().\n",
      "  estimator.fit(X_train, y_train, **fit_params)\n"
     ]
    },
    {
     "name": "stdout",
     "output_type": "stream",
     "text": [
      "[CV]  max_depth=10, n_estimators=30, score=(train=0.759, test=0.741), total=   0.5s\n",
      "[CV] max_depth=10, n_estimators=30 ...................................\n"
     ]
    },
    {
     "name": "stderr",
     "output_type": "stream",
     "text": [
      "D:\\ProgramData\\Anaconda3\\lib\\site-packages\\sklearn\\model_selection\\_validation.py:516: DataConversionWarning: A column-vector y was passed when a 1d array was expected. Please change the shape of y to (n_samples,), for example using ravel().\n",
      "  estimator.fit(X_train, y_train, **fit_params)\n"
     ]
    },
    {
     "name": "stdout",
     "output_type": "stream",
     "text": [
      "[CV]  max_depth=10, n_estimators=30, score=(train=0.757, test=0.743), total=   0.5s\n",
      "[CV] max_depth=20, n_estimators=10 ...................................\n"
     ]
    },
    {
     "name": "stderr",
     "output_type": "stream",
     "text": [
      "D:\\ProgramData\\Anaconda3\\lib\\site-packages\\sklearn\\model_selection\\_validation.py:516: DataConversionWarning: A column-vector y was passed when a 1d array was expected. Please change the shape of y to (n_samples,), for example using ravel().\n",
      "  estimator.fit(X_train, y_train, **fit_params)\n"
     ]
    },
    {
     "name": "stdout",
     "output_type": "stream",
     "text": [
      "[CV]  max_depth=20, n_estimators=10, score=(train=0.760, test=0.738), total=   0.2s\n",
      "[CV] max_depth=20, n_estimators=10 ...................................\n"
     ]
    },
    {
     "name": "stderr",
     "output_type": "stream",
     "text": [
      "D:\\ProgramData\\Anaconda3\\lib\\site-packages\\sklearn\\model_selection\\_validation.py:516: DataConversionWarning: A column-vector y was passed when a 1d array was expected. Please change the shape of y to (n_samples,), for example using ravel().\n",
      "  estimator.fit(X_train, y_train, **fit_params)\n"
     ]
    },
    {
     "name": "stdout",
     "output_type": "stream",
     "text": [
      "[CV]  max_depth=20, n_estimators=10, score=(train=0.762, test=0.736), total=   0.3s\n",
      "[CV] max_depth=20, n_estimators=10 ...................................\n"
     ]
    },
    {
     "name": "stderr",
     "output_type": "stream",
     "text": [
      "D:\\ProgramData\\Anaconda3\\lib\\site-packages\\sklearn\\model_selection\\_validation.py:516: DataConversionWarning: A column-vector y was passed when a 1d array was expected. Please change the shape of y to (n_samples,), for example using ravel().\n",
      "  estimator.fit(X_train, y_train, **fit_params)\n"
     ]
    },
    {
     "name": "stdout",
     "output_type": "stream",
     "text": [
      "[CV]  max_depth=20, n_estimators=10, score=(train=0.760, test=0.740), total=   0.2s\n",
      "[CV] max_depth=20, n_estimators=20 ...................................\n"
     ]
    },
    {
     "name": "stderr",
     "output_type": "stream",
     "text": [
      "D:\\ProgramData\\Anaconda3\\lib\\site-packages\\sklearn\\model_selection\\_validation.py:516: DataConversionWarning: A column-vector y was passed when a 1d array was expected. Please change the shape of y to (n_samples,), for example using ravel().\n",
      "  estimator.fit(X_train, y_train, **fit_params)\n"
     ]
    },
    {
     "name": "stdout",
     "output_type": "stream",
     "text": [
      "[CV]  max_depth=20, n_estimators=20, score=(train=0.760, test=0.739), total=   0.4s\n",
      "[CV] max_depth=20, n_estimators=20 ...................................\n"
     ]
    },
    {
     "name": "stderr",
     "output_type": "stream",
     "text": [
      "D:\\ProgramData\\Anaconda3\\lib\\site-packages\\sklearn\\model_selection\\_validation.py:516: DataConversionWarning: A column-vector y was passed when a 1d array was expected. Please change the shape of y to (n_samples,), for example using ravel().\n",
      "  estimator.fit(X_train, y_train, **fit_params)\n"
     ]
    },
    {
     "name": "stdout",
     "output_type": "stream",
     "text": [
      "[CV]  max_depth=20, n_estimators=20, score=(train=0.763, test=0.737), total=   0.4s\n",
      "[CV] max_depth=20, n_estimators=20 ...................................\n"
     ]
    },
    {
     "name": "stderr",
     "output_type": "stream",
     "text": [
      "D:\\ProgramData\\Anaconda3\\lib\\site-packages\\sklearn\\model_selection\\_validation.py:516: DataConversionWarning: A column-vector y was passed when a 1d array was expected. Please change the shape of y to (n_samples,), for example using ravel().\n",
      "  estimator.fit(X_train, y_train, **fit_params)\n"
     ]
    },
    {
     "name": "stdout",
     "output_type": "stream",
     "text": [
      "[CV]  max_depth=20, n_estimators=20, score=(train=0.761, test=0.741), total=   0.4s\n",
      "[CV] max_depth=20, n_estimators=30 ...................................\n"
     ]
    },
    {
     "name": "stderr",
     "output_type": "stream",
     "text": [
      "D:\\ProgramData\\Anaconda3\\lib\\site-packages\\sklearn\\model_selection\\_validation.py:516: DataConversionWarning: A column-vector y was passed when a 1d array was expected. Please change the shape of y to (n_samples,), for example using ravel().\n",
      "  estimator.fit(X_train, y_train, **fit_params)\n"
     ]
    },
    {
     "name": "stdout",
     "output_type": "stream",
     "text": [
      "[CV]  max_depth=20, n_estimators=30, score=(train=0.760, test=0.739), total=   0.5s\n",
      "[CV] max_depth=20, n_estimators=30 ...................................\n"
     ]
    },
    {
     "name": "stderr",
     "output_type": "stream",
     "text": [
      "D:\\ProgramData\\Anaconda3\\lib\\site-packages\\sklearn\\model_selection\\_validation.py:516: DataConversionWarning: A column-vector y was passed when a 1d array was expected. Please change the shape of y to (n_samples,), for example using ravel().\n",
      "  estimator.fit(X_train, y_train, **fit_params)\n"
     ]
    },
    {
     "name": "stdout",
     "output_type": "stream",
     "text": [
      "[CV]  max_depth=20, n_estimators=30, score=(train=0.763, test=0.736), total=   0.6s\n",
      "[CV] max_depth=20, n_estimators=30 ...................................\n"
     ]
    },
    {
     "name": "stderr",
     "output_type": "stream",
     "text": [
      "D:\\ProgramData\\Anaconda3\\lib\\site-packages\\sklearn\\model_selection\\_validation.py:516: DataConversionWarning: A column-vector y was passed when a 1d array was expected. Please change the shape of y to (n_samples,), for example using ravel().\n",
      "  estimator.fit(X_train, y_train, **fit_params)\n"
     ]
    },
    {
     "name": "stdout",
     "output_type": "stream",
     "text": [
      "[CV]  max_depth=20, n_estimators=30, score=(train=0.761, test=0.740), total=   0.5s\n",
      "[CV] max_depth=30, n_estimators=10 ...................................\n"
     ]
    },
    {
     "name": "stderr",
     "output_type": "stream",
     "text": [
      "D:\\ProgramData\\Anaconda3\\lib\\site-packages\\sklearn\\model_selection\\_validation.py:516: DataConversionWarning: A column-vector y was passed when a 1d array was expected. Please change the shape of y to (n_samples,), for example using ravel().\n",
      "  estimator.fit(X_train, y_train, **fit_params)\n"
     ]
    },
    {
     "name": "stdout",
     "output_type": "stream",
     "text": [
      "[CV]  max_depth=30, n_estimators=10, score=(train=0.760, test=0.740), total=   0.2s\n",
      "[CV] max_depth=30, n_estimators=10 ...................................\n"
     ]
    },
    {
     "name": "stderr",
     "output_type": "stream",
     "text": [
      "D:\\ProgramData\\Anaconda3\\lib\\site-packages\\sklearn\\model_selection\\_validation.py:516: DataConversionWarning: A column-vector y was passed when a 1d array was expected. Please change the shape of y to (n_samples,), for example using ravel().\n",
      "  estimator.fit(X_train, y_train, **fit_params)\n"
     ]
    },
    {
     "name": "stdout",
     "output_type": "stream",
     "text": [
      "[CV]  max_depth=30, n_estimators=10, score=(train=0.762, test=0.736), total=   0.3s\n",
      "[CV] max_depth=30, n_estimators=10 ...................................\n"
     ]
    },
    {
     "name": "stderr",
     "output_type": "stream",
     "text": [
      "D:\\ProgramData\\Anaconda3\\lib\\site-packages\\sklearn\\model_selection\\_validation.py:516: DataConversionWarning: A column-vector y was passed when a 1d array was expected. Please change the shape of y to (n_samples,), for example using ravel().\n",
      "  estimator.fit(X_train, y_train, **fit_params)\n"
     ]
    },
    {
     "name": "stdout",
     "output_type": "stream",
     "text": [
      "[CV]  max_depth=30, n_estimators=10, score=(train=0.760, test=0.740), total=   0.2s\n",
      "[CV] max_depth=30, n_estimators=20 ...................................\n"
     ]
    },
    {
     "name": "stderr",
     "output_type": "stream",
     "text": [
      "D:\\ProgramData\\Anaconda3\\lib\\site-packages\\sklearn\\model_selection\\_validation.py:516: DataConversionWarning: A column-vector y was passed when a 1d array was expected. Please change the shape of y to (n_samples,), for example using ravel().\n",
      "  estimator.fit(X_train, y_train, **fit_params)\n"
     ]
    },
    {
     "name": "stdout",
     "output_type": "stream",
     "text": [
      "[CV]  max_depth=30, n_estimators=20, score=(train=0.760, test=0.740), total=   0.4s\n",
      "[CV] max_depth=30, n_estimators=20 ...................................\n"
     ]
    },
    {
     "name": "stderr",
     "output_type": "stream",
     "text": [
      "D:\\ProgramData\\Anaconda3\\lib\\site-packages\\sklearn\\model_selection\\_validation.py:516: DataConversionWarning: A column-vector y was passed when a 1d array was expected. Please change the shape of y to (n_samples,), for example using ravel().\n",
      "  estimator.fit(X_train, y_train, **fit_params)\n"
     ]
    },
    {
     "name": "stdout",
     "output_type": "stream",
     "text": [
      "[CV]  max_depth=30, n_estimators=20, score=(train=0.763, test=0.736), total=   0.4s\n",
      "[CV] max_depth=30, n_estimators=20 ...................................\n"
     ]
    },
    {
     "name": "stderr",
     "output_type": "stream",
     "text": [
      "D:\\ProgramData\\Anaconda3\\lib\\site-packages\\sklearn\\model_selection\\_validation.py:516: DataConversionWarning: A column-vector y was passed when a 1d array was expected. Please change the shape of y to (n_samples,), for example using ravel().\n",
      "  estimator.fit(X_train, y_train, **fit_params)\n"
     ]
    },
    {
     "name": "stdout",
     "output_type": "stream",
     "text": [
      "[CV]  max_depth=30, n_estimators=20, score=(train=0.761, test=0.739), total=   0.4s\n",
      "[CV] max_depth=30, n_estimators=30 ...................................\n"
     ]
    },
    {
     "name": "stderr",
     "output_type": "stream",
     "text": [
      "D:\\ProgramData\\Anaconda3\\lib\\site-packages\\sklearn\\model_selection\\_validation.py:516: DataConversionWarning: A column-vector y was passed when a 1d array was expected. Please change the shape of y to (n_samples,), for example using ravel().\n",
      "  estimator.fit(X_train, y_train, **fit_params)\n"
     ]
    },
    {
     "name": "stdout",
     "output_type": "stream",
     "text": [
      "[CV]  max_depth=30, n_estimators=30, score=(train=0.760, test=0.739), total=   0.5s\n",
      "[CV] max_depth=30, n_estimators=30 ...................................\n"
     ]
    },
    {
     "name": "stderr",
     "output_type": "stream",
     "text": [
      "D:\\ProgramData\\Anaconda3\\lib\\site-packages\\sklearn\\model_selection\\_validation.py:516: DataConversionWarning: A column-vector y was passed when a 1d array was expected. Please change the shape of y to (n_samples,), for example using ravel().\n",
      "  estimator.fit(X_train, y_train, **fit_params)\n"
     ]
    },
    {
     "name": "stdout",
     "output_type": "stream",
     "text": [
      "[CV]  max_depth=30, n_estimators=30, score=(train=0.763, test=0.737), total=   0.5s\n",
      "[CV] max_depth=30, n_estimators=30 ...................................\n"
     ]
    },
    {
     "name": "stderr",
     "output_type": "stream",
     "text": [
      "D:\\ProgramData\\Anaconda3\\lib\\site-packages\\sklearn\\model_selection\\_validation.py:516: DataConversionWarning: A column-vector y was passed when a 1d array was expected. Please change the shape of y to (n_samples,), for example using ravel().\n",
      "  estimator.fit(X_train, y_train, **fit_params)\n"
     ]
    },
    {
     "name": "stdout",
     "output_type": "stream",
     "text": [
      "[CV]  max_depth=30, n_estimators=30, score=(train=0.761, test=0.740), total=   0.5s\n"
     ]
    },
    {
     "name": "stderr",
     "output_type": "stream",
     "text": [
      "[Parallel(n_jobs=1)]: Done  36 out of  36 | elapsed:   18.5s finished\n",
      "D:\\ProgramData\\Anaconda3\\lib\\site-packages\\sklearn\\model_selection\\_search.py:715: DataConversionWarning: A column-vector y was passed when a 1d array was expected. Please change the shape of y to (n_samples,), for example using ravel().\n",
      "  self.best_estimator_.fit(X, y, **fit_params)\n"
     ]
    },
    {
     "data": {
      "text/plain": [
       "GridSearchCV(cv=3, error_score='raise-deprecating',\n",
       "             estimator=RandomForestClassifier(bootstrap=True, class_weight=None,\n",
       "                                              criterion='gini', max_depth=None,\n",
       "                                              max_features='auto',\n",
       "                                              max_leaf_nodes=None,\n",
       "                                              min_impurity_decrease=0.0,\n",
       "                                              min_impurity_split=None,\n",
       "                                              min_samples_leaf=1,\n",
       "                                              min_samples_split=2,\n",
       "                                              min_weight_fraction_leaf=0.0,\n",
       "                                              n_estimators='warn', n_jobs=-1,\n",
       "                                              oob_score=False,\n",
       "                                              random_state=None, verbose=0,\n",
       "                                              warm_start=False),\n",
       "             iid='warn', n_jobs=None,\n",
       "             param_grid={'max_depth': [6, 10, 20, 30],\n",
       "                         'n_estimators': [10, 20, 30]},\n",
       "             pre_dispatch='2*n_jobs', refit=True, return_train_score=True,\n",
       "             scoring='accuracy', verbose=10)"
      ]
     },
     "execution_count": 30,
     "metadata": {},
     "output_type": "execute_result"
    }
   ],
   "source": [
    "param_grid = {\n",
    "    'n_estimators': [10, 20, 30],\n",
    "    'max_depth': [6, 10, 20, 30]\n",
    "}\n",
    "gridsearch = GridSearchCV(RandomForestClassifier(n_jobs = -1), \n",
    "                          param_grid=param_grid, \n",
    "                          scoring='accuracy', cv=3, \n",
    "                          return_train_score=True, verbose=10)\n",
    "gridsearch.fit(X_train, y_train)"
   ]
  },
  {
   "cell_type": "markdown",
   "metadata": {},
   "source": [
    "### Shows Scores of different parameters\n",
    "> Highest mean test score is 0.744"
   ]
  },
  {
   "cell_type": "code",
   "execution_count": 31,
   "metadata": {},
   "outputs": [
    {
     "data": {
      "text/html": [
       "<div>\n",
       "<style scoped>\n",
       "    .dataframe tbody tr th:only-of-type {\n",
       "        vertical-align: middle;\n",
       "    }\n",
       "\n",
       "    .dataframe tbody tr th {\n",
       "        vertical-align: top;\n",
       "    }\n",
       "\n",
       "    .dataframe thead th {\n",
       "        text-align: right;\n",
       "    }\n",
       "</style>\n",
       "<table border=\"1\" class=\"dataframe\">\n",
       "  <thead>\n",
       "    <tr style=\"text-align: right;\">\n",
       "      <th></th>\n",
       "      <th>mean_fit_time</th>\n",
       "      <th>std_fit_time</th>\n",
       "      <th>mean_score_time</th>\n",
       "      <th>std_score_time</th>\n",
       "      <th>param_max_depth</th>\n",
       "      <th>param_n_estimators</th>\n",
       "      <th>params</th>\n",
       "      <th>split0_test_score</th>\n",
       "      <th>split1_test_score</th>\n",
       "      <th>split2_test_score</th>\n",
       "      <th>mean_test_score</th>\n",
       "      <th>std_test_score</th>\n",
       "      <th>rank_test_score</th>\n",
       "      <th>split0_train_score</th>\n",
       "      <th>split1_train_score</th>\n",
       "      <th>split2_train_score</th>\n",
       "      <th>mean_train_score</th>\n",
       "      <th>std_train_score</th>\n",
       "    </tr>\n",
       "  </thead>\n",
       "  <tbody>\n",
       "    <tr>\n",
       "      <td>1</td>\n",
       "      <td>0.192796</td>\n",
       "      <td>0.004799</td>\n",
       "      <td>0.119779</td>\n",
       "      <td>0.000767</td>\n",
       "      <td>6</td>\n",
       "      <td>20</td>\n",
       "      <td>{'max_depth': 6, 'n_estimators': 20}</td>\n",
       "      <td>0.745795</td>\n",
       "      <td>0.742048</td>\n",
       "      <td>0.744165</td>\n",
       "      <td>0.744003</td>\n",
       "      <td>0.001534</td>\n",
       "      <td>1</td>\n",
       "      <td>0.745387</td>\n",
       "      <td>0.747646</td>\n",
       "      <td>0.747002</td>\n",
       "      <td>0.746678</td>\n",
       "      <td>0.000950</td>\n",
       "    </tr>\n",
       "    <tr>\n",
       "      <td>2</td>\n",
       "      <td>0.286571</td>\n",
       "      <td>0.010118</td>\n",
       "      <td>0.134878</td>\n",
       "      <td>0.011183</td>\n",
       "      <td>6</td>\n",
       "      <td>30</td>\n",
       "      <td>{'max_depth': 6, 'n_estimators': 30}</td>\n",
       "      <td>0.746446</td>\n",
       "      <td>0.741160</td>\n",
       "      <td>0.743751</td>\n",
       "      <td>0.743786</td>\n",
       "      <td>0.002158</td>\n",
       "      <td>2</td>\n",
       "      <td>0.745446</td>\n",
       "      <td>0.747201</td>\n",
       "      <td>0.746794</td>\n",
       "      <td>0.746481</td>\n",
       "      <td>0.000750</td>\n",
       "    </tr>\n",
       "    <tr>\n",
       "      <td>0</td>\n",
       "      <td>0.099402</td>\n",
       "      <td>0.008691</td>\n",
       "      <td>0.139129</td>\n",
       "      <td>0.014661</td>\n",
       "      <td>6</td>\n",
       "      <td>10</td>\n",
       "      <td>{'max_depth': 6, 'n_estimators': 10}</td>\n",
       "      <td>0.744373</td>\n",
       "      <td>0.741574</td>\n",
       "      <td>0.743099</td>\n",
       "      <td>0.743016</td>\n",
       "      <td>0.001144</td>\n",
       "      <td>3</td>\n",
       "      <td>0.744617</td>\n",
       "      <td>0.747942</td>\n",
       "      <td>0.745935</td>\n",
       "      <td>0.746165</td>\n",
       "      <td>0.001367</td>\n",
       "    </tr>\n",
       "    <tr>\n",
       "      <td>5</td>\n",
       "      <td>0.351397</td>\n",
       "      <td>0.017476</td>\n",
       "      <td>0.134166</td>\n",
       "      <td>0.010476</td>\n",
       "      <td>10</td>\n",
       "      <td>30</td>\n",
       "      <td>{'max_depth': 10, 'n_estimators': 30}</td>\n",
       "      <td>0.744433</td>\n",
       "      <td>0.741397</td>\n",
       "      <td>0.743040</td>\n",
       "      <td>0.742956</td>\n",
       "      <td>0.001241</td>\n",
       "      <td>4</td>\n",
       "      <td>0.756612</td>\n",
       "      <td>0.759284</td>\n",
       "      <td>0.757071</td>\n",
       "      <td>0.757656</td>\n",
       "      <td>0.001167</td>\n",
       "    </tr>\n",
       "    <tr>\n",
       "      <td>4</td>\n",
       "      <td>0.232155</td>\n",
       "      <td>0.014313</td>\n",
       "      <td>0.120309</td>\n",
       "      <td>0.000909</td>\n",
       "      <td>10</td>\n",
       "      <td>20</td>\n",
       "      <td>{'max_depth': 10, 'n_estimators': 20}</td>\n",
       "      <td>0.743130</td>\n",
       "      <td>0.740212</td>\n",
       "      <td>0.743336</td>\n",
       "      <td>0.742226</td>\n",
       "      <td>0.001427</td>\n",
       "      <td>5</td>\n",
       "      <td>0.756079</td>\n",
       "      <td>0.758396</td>\n",
       "      <td>0.756922</td>\n",
       "      <td>0.757132</td>\n",
       "      <td>0.000958</td>\n",
       "    </tr>\n",
       "    <tr>\n",
       "      <td>3</td>\n",
       "      <td>0.106281</td>\n",
       "      <td>0.007229</td>\n",
       "      <td>0.138798</td>\n",
       "      <td>0.014699</td>\n",
       "      <td>10</td>\n",
       "      <td>10</td>\n",
       "      <td>{'max_depth': 10, 'n_estimators': 10}</td>\n",
       "      <td>0.742656</td>\n",
       "      <td>0.740331</td>\n",
       "      <td>0.743632</td>\n",
       "      <td>0.742206</td>\n",
       "      <td>0.001385</td>\n",
       "      <td>6</td>\n",
       "      <td>0.755546</td>\n",
       "      <td>0.757715</td>\n",
       "      <td>0.756152</td>\n",
       "      <td>0.756471</td>\n",
       "      <td>0.000914</td>\n",
       "    </tr>\n",
       "    <tr>\n",
       "      <td>7</td>\n",
       "      <td>0.276261</td>\n",
       "      <td>0.026549</td>\n",
       "      <td>0.143068</td>\n",
       "      <td>0.007015</td>\n",
       "      <td>20</td>\n",
       "      <td>20</td>\n",
       "      <td>{'max_depth': 20, 'n_estimators': 20}</td>\n",
       "      <td>0.739457</td>\n",
       "      <td>0.736836</td>\n",
       "      <td>0.740671</td>\n",
       "      <td>0.738988</td>\n",
       "      <td>0.001600</td>\n",
       "      <td>7</td>\n",
       "      <td>0.760166</td>\n",
       "      <td>0.762838</td>\n",
       "      <td>0.760802</td>\n",
       "      <td>0.761269</td>\n",
       "      <td>0.001140</td>\n",
       "    </tr>\n",
       "    <tr>\n",
       "      <td>11</td>\n",
       "      <td>0.366029</td>\n",
       "      <td>0.003741</td>\n",
       "      <td>0.122401</td>\n",
       "      <td>0.000774</td>\n",
       "      <td>30</td>\n",
       "      <td>30</td>\n",
       "      <td>{'max_depth': 30, 'n_estimators': 30}</td>\n",
       "      <td>0.739457</td>\n",
       "      <td>0.736717</td>\n",
       "      <td>0.740374</td>\n",
       "      <td>0.738850</td>\n",
       "      <td>0.001554</td>\n",
       "      <td>8</td>\n",
       "      <td>0.760432</td>\n",
       "      <td>0.763046</td>\n",
       "      <td>0.760891</td>\n",
       "      <td>0.761456</td>\n",
       "      <td>0.001139</td>\n",
       "    </tr>\n",
       "    <tr>\n",
       "      <td>9</td>\n",
       "      <td>0.118686</td>\n",
       "      <td>0.008251</td>\n",
       "      <td>0.128979</td>\n",
       "      <td>0.009509</td>\n",
       "      <td>30</td>\n",
       "      <td>10</td>\n",
       "      <td>{'max_depth': 30, 'n_estimators': 10}</td>\n",
       "      <td>0.739872</td>\n",
       "      <td>0.735829</td>\n",
       "      <td>0.740137</td>\n",
       "      <td>0.738613</td>\n",
       "      <td>0.001971</td>\n",
       "      <td>9</td>\n",
       "      <td>0.759692</td>\n",
       "      <td>0.762157</td>\n",
       "      <td>0.760269</td>\n",
       "      <td>0.760706</td>\n",
       "      <td>0.001053</td>\n",
       "    </tr>\n",
       "    <tr>\n",
       "      <td>8</td>\n",
       "      <td>0.388293</td>\n",
       "      <td>0.016678</td>\n",
       "      <td>0.139137</td>\n",
       "      <td>0.014469</td>\n",
       "      <td>20</td>\n",
       "      <td>30</td>\n",
       "      <td>{'max_depth': 20, 'n_estimators': 30}</td>\n",
       "      <td>0.739043</td>\n",
       "      <td>0.736007</td>\n",
       "      <td>0.740019</td>\n",
       "      <td>0.738356</td>\n",
       "      <td>0.001708</td>\n",
       "      <td>10</td>\n",
       "      <td>0.760492</td>\n",
       "      <td>0.763135</td>\n",
       "      <td>0.760980</td>\n",
       "      <td>0.761535</td>\n",
       "      <td>0.001148</td>\n",
       "    </tr>\n",
       "    <tr>\n",
       "      <td>10</td>\n",
       "      <td>0.260304</td>\n",
       "      <td>0.002936</td>\n",
       "      <td>0.119556</td>\n",
       "      <td>0.000705</td>\n",
       "      <td>30</td>\n",
       "      <td>20</td>\n",
       "      <td>{'max_depth': 30, 'n_estimators': 20}</td>\n",
       "      <td>0.739872</td>\n",
       "      <td>0.735947</td>\n",
       "      <td>0.739012</td>\n",
       "      <td>0.738277</td>\n",
       "      <td>0.001684</td>\n",
       "      <td>11</td>\n",
       "      <td>0.760255</td>\n",
       "      <td>0.762838</td>\n",
       "      <td>0.760891</td>\n",
       "      <td>0.761328</td>\n",
       "      <td>0.001099</td>\n",
       "    </tr>\n",
       "    <tr>\n",
       "      <td>6</td>\n",
       "      <td>0.112651</td>\n",
       "      <td>0.005625</td>\n",
       "      <td>0.134435</td>\n",
       "      <td>0.010445</td>\n",
       "      <td>20</td>\n",
       "      <td>10</td>\n",
       "      <td>{'max_depth': 20, 'n_estimators': 10}</td>\n",
       "      <td>0.737799</td>\n",
       "      <td>0.735710</td>\n",
       "      <td>0.740493</td>\n",
       "      <td>0.738001</td>\n",
       "      <td>0.001958</td>\n",
       "      <td>12</td>\n",
       "      <td>0.759514</td>\n",
       "      <td>0.762365</td>\n",
       "      <td>0.760180</td>\n",
       "      <td>0.760686</td>\n",
       "      <td>0.001217</td>\n",
       "    </tr>\n",
       "  </tbody>\n",
       "</table>\n",
       "</div>"
      ],
      "text/plain": [
       "    mean_fit_time  std_fit_time  mean_score_time  std_score_time  \\\n",
       "1        0.192796      0.004799         0.119779        0.000767   \n",
       "2        0.286571      0.010118         0.134878        0.011183   \n",
       "0        0.099402      0.008691         0.139129        0.014661   \n",
       "5        0.351397      0.017476         0.134166        0.010476   \n",
       "4        0.232155      0.014313         0.120309        0.000909   \n",
       "3        0.106281      0.007229         0.138798        0.014699   \n",
       "7        0.276261      0.026549         0.143068        0.007015   \n",
       "11       0.366029      0.003741         0.122401        0.000774   \n",
       "9        0.118686      0.008251         0.128979        0.009509   \n",
       "8        0.388293      0.016678         0.139137        0.014469   \n",
       "10       0.260304      0.002936         0.119556        0.000705   \n",
       "6        0.112651      0.005625         0.134435        0.010445   \n",
       "\n",
       "   param_max_depth param_n_estimators                                 params  \\\n",
       "1                6                 20   {'max_depth': 6, 'n_estimators': 20}   \n",
       "2                6                 30   {'max_depth': 6, 'n_estimators': 30}   \n",
       "0                6                 10   {'max_depth': 6, 'n_estimators': 10}   \n",
       "5               10                 30  {'max_depth': 10, 'n_estimators': 30}   \n",
       "4               10                 20  {'max_depth': 10, 'n_estimators': 20}   \n",
       "3               10                 10  {'max_depth': 10, 'n_estimators': 10}   \n",
       "7               20                 20  {'max_depth': 20, 'n_estimators': 20}   \n",
       "11              30                 30  {'max_depth': 30, 'n_estimators': 30}   \n",
       "9               30                 10  {'max_depth': 30, 'n_estimators': 10}   \n",
       "8               20                 30  {'max_depth': 20, 'n_estimators': 30}   \n",
       "10              30                 20  {'max_depth': 30, 'n_estimators': 20}   \n",
       "6               20                 10  {'max_depth': 20, 'n_estimators': 10}   \n",
       "\n",
       "    split0_test_score  split1_test_score  split2_test_score  mean_test_score  \\\n",
       "1            0.745795           0.742048           0.744165         0.744003   \n",
       "2            0.746446           0.741160           0.743751         0.743786   \n",
       "0            0.744373           0.741574           0.743099         0.743016   \n",
       "5            0.744433           0.741397           0.743040         0.742956   \n",
       "4            0.743130           0.740212           0.743336         0.742226   \n",
       "3            0.742656           0.740331           0.743632         0.742206   \n",
       "7            0.739457           0.736836           0.740671         0.738988   \n",
       "11           0.739457           0.736717           0.740374         0.738850   \n",
       "9            0.739872           0.735829           0.740137         0.738613   \n",
       "8            0.739043           0.736007           0.740019         0.738356   \n",
       "10           0.739872           0.735947           0.739012         0.738277   \n",
       "6            0.737799           0.735710           0.740493         0.738001   \n",
       "\n",
       "    std_test_score  rank_test_score  split0_train_score  split1_train_score  \\\n",
       "1         0.001534                1            0.745387            0.747646   \n",
       "2         0.002158                2            0.745446            0.747201   \n",
       "0         0.001144                3            0.744617            0.747942   \n",
       "5         0.001241                4            0.756612            0.759284   \n",
       "4         0.001427                5            0.756079            0.758396   \n",
       "3         0.001385                6            0.755546            0.757715   \n",
       "7         0.001600                7            0.760166            0.762838   \n",
       "11        0.001554                8            0.760432            0.763046   \n",
       "9         0.001971                9            0.759692            0.762157   \n",
       "8         0.001708               10            0.760492            0.763135   \n",
       "10        0.001684               11            0.760255            0.762838   \n",
       "6         0.001958               12            0.759514            0.762365   \n",
       "\n",
       "    split2_train_score  mean_train_score  std_train_score  \n",
       "1             0.747002          0.746678         0.000950  \n",
       "2             0.746794          0.746481         0.000750  \n",
       "0             0.745935          0.746165         0.001367  \n",
       "5             0.757071          0.757656         0.001167  \n",
       "4             0.756922          0.757132         0.000958  \n",
       "3             0.756152          0.756471         0.000914  \n",
       "7             0.760802          0.761269         0.001140  \n",
       "11            0.760891          0.761456         0.001139  \n",
       "9             0.760269          0.760706         0.001053  \n",
       "8             0.760980          0.761535         0.001148  \n",
       "10            0.760891          0.761328         0.001099  \n",
       "6             0.760180          0.760686         0.001217  "
      ]
     },
     "execution_count": 31,
     "metadata": {},
     "output_type": "execute_result"
    }
   ],
   "source": [
    "pd.DataFrame(gridsearch.cv_results_).sort_values( \\\n",
    "                                         by='rank_test_score')"
   ]
  },
  {
   "cell_type": "code",
   "execution_count": null,
   "metadata": {},
   "outputs": [],
   "source": []
  }
 ],
 "metadata": {
  "kernelspec": {
   "display_name": "Python 3",
   "language": "python",
   "name": "python3"
  },
  "language_info": {
   "codemirror_mode": {
    "name": "ipython",
    "version": 3
   },
   "file_extension": ".py",
   "mimetype": "text/x-python",
   "name": "python",
   "nbconvert_exporter": "python",
   "pygments_lexer": "ipython3",
   "version": "3.7.4"
  }
 },
 "nbformat": 4,
 "nbformat_minor": 2
}

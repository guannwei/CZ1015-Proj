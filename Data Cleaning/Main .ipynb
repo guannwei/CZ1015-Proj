{
 "cells": [
  {
   "cell_type": "markdown",
   "metadata": {},
   "source": [
    "## Data Cleaning "
   ]
  },
  {
   "cell_type": "markdown",
   "metadata": {},
   "source": [
    "\n",
    "### Imported Libraries\n",
    "\n",
    "> NumPy : Library for Numeric Computations in Python  \n",
    "> Pandas : Library for Data Acquisition and Preparation  \n",
    "> Matplotlib : Low-level library for Data Visualization  \n",
    "> Seaborn : Higher-level library for Data Visualization  "
   ]
  },
  {
   "cell_type": "code",
   "execution_count": 1,
   "metadata": {},
   "outputs": [],
   "source": [
    "import numpy as np\n",
    "import pandas as pd\n",
    "import seaborn as sb\n",
    "import matplotlib.pyplot as plt\n",
    "sb.set()"
   ]
  },
  {
   "cell_type": "markdown",
   "metadata": {},
   "source": [
    "### Import the Dataset"
   ]
  },
  {
   "cell_type": "code",
   "execution_count": 2,
   "metadata": {},
   "outputs": [
    {
     "data": {
      "text/html": [
       "<div>\n",
       "<style scoped>\n",
       "    .dataframe tbody tr th:only-of-type {\n",
       "        vertical-align: middle;\n",
       "    }\n",
       "\n",
       "    .dataframe tbody tr th {\n",
       "        vertical-align: top;\n",
       "    }\n",
       "\n",
       "    .dataframe thead th {\n",
       "        text-align: right;\n",
       "    }\n",
       "</style>\n",
       "<table border=\"1\" class=\"dataframe\">\n",
       "  <thead>\n",
       "    <tr style=\"text-align: right;\">\n",
       "      <th></th>\n",
       "      <th>Event.Id</th>\n",
       "      <th>Investigation.Type</th>\n",
       "      <th>Accident.Number</th>\n",
       "      <th>Event.Date</th>\n",
       "      <th>Location</th>\n",
       "      <th>Country</th>\n",
       "      <th>Latitude</th>\n",
       "      <th>Longitude</th>\n",
       "      <th>Airport.Code</th>\n",
       "      <th>Airport.Name</th>\n",
       "      <th>...</th>\n",
       "      <th>Purpose.of.Flight</th>\n",
       "      <th>Air.Carrier</th>\n",
       "      <th>Total.Fatal.Injuries</th>\n",
       "      <th>Total.Serious.Injuries</th>\n",
       "      <th>Total.Minor.Injuries</th>\n",
       "      <th>Total.Uninjured</th>\n",
       "      <th>Weather.Condition</th>\n",
       "      <th>Broad.Phase.of.Flight</th>\n",
       "      <th>Report.Status</th>\n",
       "      <th>Publication.Date</th>\n",
       "    </tr>\n",
       "  </thead>\n",
       "  <tbody>\n",
       "    <tr>\n",
       "      <td>0</td>\n",
       "      <td>20161117X64217</td>\n",
       "      <td>Accident</td>\n",
       "      <td>WPR17WA022</td>\n",
       "      <td>14/11/2016</td>\n",
       "      <td>Winton, New Zealand</td>\n",
       "      <td>New Zealand</td>\n",
       "      <td>NaN</td>\n",
       "      <td>NaN</td>\n",
       "      <td>NaN</td>\n",
       "      <td>NaN</td>\n",
       "      <td>...</td>\n",
       "      <td>NaN</td>\n",
       "      <td>NaN</td>\n",
       "      <td>NaN</td>\n",
       "      <td>NaN</td>\n",
       "      <td>NaN</td>\n",
       "      <td>1.0</td>\n",
       "      <td>NaN</td>\n",
       "      <td>MANEUVERING</td>\n",
       "      <td>Foreign</td>\n",
       "      <td>NaN</td>\n",
       "    </tr>\n",
       "    <tr>\n",
       "      <td>1</td>\n",
       "      <td>20161116X13203</td>\n",
       "      <td>Accident</td>\n",
       "      <td>CEN17WA040</td>\n",
       "      <td>14/11/2016</td>\n",
       "      <td>Albrook, Panama</td>\n",
       "      <td>Panama</td>\n",
       "      <td>NaN</td>\n",
       "      <td>NaN</td>\n",
       "      <td>MPMG</td>\n",
       "      <td>Marcos A. Gelabert Intl.</td>\n",
       "      <td>...</td>\n",
       "      <td>NaN</td>\n",
       "      <td>NaN</td>\n",
       "      <td>NaN</td>\n",
       "      <td>NaN</td>\n",
       "      <td>NaN</td>\n",
       "      <td>2.0</td>\n",
       "      <td>VMC</td>\n",
       "      <td>LANDING</td>\n",
       "      <td>Foreign</td>\n",
       "      <td>NaN</td>\n",
       "    </tr>\n",
       "    <tr>\n",
       "      <td>2</td>\n",
       "      <td>20161116X62135</td>\n",
       "      <td>Accident</td>\n",
       "      <td>CEN17LA041</td>\n",
       "      <td>13/11/2016</td>\n",
       "      <td>Port Allen, LA</td>\n",
       "      <td>United States</td>\n",
       "      <td>30.532500</td>\n",
       "      <td>-91.3150</td>\n",
       "      <td>LA46</td>\n",
       "      <td>OMNI</td>\n",
       "      <td>...</td>\n",
       "      <td>Personal</td>\n",
       "      <td>NaN</td>\n",
       "      <td>NaN</td>\n",
       "      <td>NaN</td>\n",
       "      <td>NaN</td>\n",
       "      <td>1.0</td>\n",
       "      <td>VMC</td>\n",
       "      <td>TAKEOFF</td>\n",
       "      <td>Preliminary</td>\n",
       "      <td>22/11/2016</td>\n",
       "    </tr>\n",
       "    <tr>\n",
       "      <td>3</td>\n",
       "      <td>20161114X41943</td>\n",
       "      <td>Accident</td>\n",
       "      <td>WPR17LA020</td>\n",
       "      <td>12/11/2016</td>\n",
       "      <td>Taylor, AZ</td>\n",
       "      <td>United States</td>\n",
       "      <td>34.454722</td>\n",
       "      <td>-110.0575</td>\n",
       "      <td>NaN</td>\n",
       "      <td>NaN</td>\n",
       "      <td>...</td>\n",
       "      <td>Instructional</td>\n",
       "      <td>NaN</td>\n",
       "      <td>NaN</td>\n",
       "      <td>NaN</td>\n",
       "      <td>NaN</td>\n",
       "      <td>2.0</td>\n",
       "      <td>VMC</td>\n",
       "      <td>MANEUVERING</td>\n",
       "      <td>Preliminary</td>\n",
       "      <td>22/11/2016</td>\n",
       "    </tr>\n",
       "    <tr>\n",
       "      <td>4</td>\n",
       "      <td>20161116X04207</td>\n",
       "      <td>Accident</td>\n",
       "      <td>CEN17LA039</td>\n",
       "      <td>12/11/2016</td>\n",
       "      <td>Pleasanton, TX</td>\n",
       "      <td>United States</td>\n",
       "      <td>NaN</td>\n",
       "      <td>NaN</td>\n",
       "      <td>NaN</td>\n",
       "      <td>NaN</td>\n",
       "      <td>...</td>\n",
       "      <td>Personal</td>\n",
       "      <td>NaN</td>\n",
       "      <td>NaN</td>\n",
       "      <td>1.0</td>\n",
       "      <td>NaN</td>\n",
       "      <td>1.0</td>\n",
       "      <td>VMC</td>\n",
       "      <td>NaN</td>\n",
       "      <td>Preliminary</td>\n",
       "      <td>16/11/2016</td>\n",
       "    </tr>\n",
       "  </tbody>\n",
       "</table>\n",
       "<p>5 rows × 31 columns</p>\n",
       "</div>"
      ],
      "text/plain": [
       "         Event.Id Investigation.Type Accident.Number  Event.Date  \\\n",
       "0  20161117X64217           Accident      WPR17WA022  14/11/2016   \n",
       "1  20161116X13203           Accident      CEN17WA040  14/11/2016   \n",
       "2  20161116X62135           Accident      CEN17LA041  13/11/2016   \n",
       "3  20161114X41943           Accident      WPR17LA020  12/11/2016   \n",
       "4  20161116X04207           Accident      CEN17LA039  12/11/2016   \n",
       "\n",
       "              Location        Country   Latitude  Longitude Airport.Code  \\\n",
       "0  Winton, New Zealand    New Zealand        NaN        NaN          NaN   \n",
       "1      Albrook, Panama         Panama        NaN        NaN         MPMG   \n",
       "2       Port Allen, LA  United States  30.532500   -91.3150         LA46   \n",
       "3           Taylor, AZ  United States  34.454722  -110.0575          NaN   \n",
       "4       Pleasanton, TX  United States        NaN        NaN          NaN   \n",
       "\n",
       "               Airport.Name  ... Purpose.of.Flight Air.Carrier  \\\n",
       "0                       NaN  ...               NaN         NaN   \n",
       "1  Marcos A. Gelabert Intl.  ...               NaN         NaN   \n",
       "2                      OMNI  ...          Personal         NaN   \n",
       "3                       NaN  ...     Instructional         NaN   \n",
       "4                       NaN  ...          Personal         NaN   \n",
       "\n",
       "  Total.Fatal.Injuries Total.Serious.Injuries Total.Minor.Injuries  \\\n",
       "0                  NaN                    NaN                  NaN   \n",
       "1                  NaN                    NaN                  NaN   \n",
       "2                  NaN                    NaN                  NaN   \n",
       "3                  NaN                    NaN                  NaN   \n",
       "4                  NaN                    1.0                  NaN   \n",
       "\n",
       "  Total.Uninjured Weather.Condition  Broad.Phase.of.Flight Report.Status  \\\n",
       "0             1.0               NaN            MANEUVERING       Foreign   \n",
       "1             2.0               VMC                LANDING       Foreign   \n",
       "2             1.0               VMC                TAKEOFF   Preliminary   \n",
       "3             2.0               VMC            MANEUVERING   Preliminary   \n",
       "4             1.0               VMC                    NaN   Preliminary   \n",
       "\n",
       "  Publication.Date  \n",
       "0              NaN  \n",
       "1              NaN  \n",
       "2       22/11/2016  \n",
       "3       22/11/2016  \n",
       "4       16/11/2016  \n",
       "\n",
       "[5 rows x 31 columns]"
      ]
     },
     "execution_count": 2,
     "metadata": {},
     "output_type": "execute_result"
    }
   ],
   "source": [
    "aviationdata = pd.read_csv('../Data/AviationDataUP.csv')\n",
    "aviationdata.head()"
   ]
  },
  {
   "cell_type": "markdown",
   "metadata": {},
   "source": [
    "### Rename columns, removing '.'"
   ]
  },
  {
   "cell_type": "code",
   "execution_count": 3,
   "metadata": {},
   "outputs": [
    {
     "data": {
      "text/html": [
       "<div>\n",
       "<style scoped>\n",
       "    .dataframe tbody tr th:only-of-type {\n",
       "        vertical-align: middle;\n",
       "    }\n",
       "\n",
       "    .dataframe tbody tr th {\n",
       "        vertical-align: top;\n",
       "    }\n",
       "\n",
       "    .dataframe thead th {\n",
       "        text-align: right;\n",
       "    }\n",
       "</style>\n",
       "<table border=\"1\" class=\"dataframe\">\n",
       "  <thead>\n",
       "    <tr style=\"text-align: right;\">\n",
       "      <th></th>\n",
       "      <th>EventID</th>\n",
       "      <th>InvestigationType</th>\n",
       "      <th>AccidentNumber</th>\n",
       "      <th>EventDate</th>\n",
       "      <th>Location</th>\n",
       "      <th>Country</th>\n",
       "      <th>Latitude</th>\n",
       "      <th>Longitude</th>\n",
       "      <th>AirportCode</th>\n",
       "      <th>AirportName</th>\n",
       "      <th>...</th>\n",
       "      <th>PurposeOfFlight</th>\n",
       "      <th>AirCarrier</th>\n",
       "      <th>TotalFatalInjuries</th>\n",
       "      <th>TotalSeriousInjuries</th>\n",
       "      <th>TotalMinorInjuries</th>\n",
       "      <th>TotalUninjured</th>\n",
       "      <th>WeatherCondition</th>\n",
       "      <th>BroadPhaseOfFlight</th>\n",
       "      <th>ReportStatus</th>\n",
       "      <th>PublicationDate</th>\n",
       "    </tr>\n",
       "  </thead>\n",
       "  <tbody>\n",
       "    <tr>\n",
       "      <td>0</td>\n",
       "      <td>20161117X64217</td>\n",
       "      <td>Accident</td>\n",
       "      <td>WPR17WA022</td>\n",
       "      <td>14/11/2016</td>\n",
       "      <td>Winton, New Zealand</td>\n",
       "      <td>New Zealand</td>\n",
       "      <td>NaN</td>\n",
       "      <td>NaN</td>\n",
       "      <td>NaN</td>\n",
       "      <td>NaN</td>\n",
       "      <td>...</td>\n",
       "      <td>NaN</td>\n",
       "      <td>NaN</td>\n",
       "      <td>NaN</td>\n",
       "      <td>NaN</td>\n",
       "      <td>NaN</td>\n",
       "      <td>1.0</td>\n",
       "      <td>NaN</td>\n",
       "      <td>MANEUVERING</td>\n",
       "      <td>Foreign</td>\n",
       "      <td>NaN</td>\n",
       "    </tr>\n",
       "    <tr>\n",
       "      <td>1</td>\n",
       "      <td>20161116X13203</td>\n",
       "      <td>Accident</td>\n",
       "      <td>CEN17WA040</td>\n",
       "      <td>14/11/2016</td>\n",
       "      <td>Albrook, Panama</td>\n",
       "      <td>Panama</td>\n",
       "      <td>NaN</td>\n",
       "      <td>NaN</td>\n",
       "      <td>MPMG</td>\n",
       "      <td>Marcos A. Gelabert Intl.</td>\n",
       "      <td>...</td>\n",
       "      <td>NaN</td>\n",
       "      <td>NaN</td>\n",
       "      <td>NaN</td>\n",
       "      <td>NaN</td>\n",
       "      <td>NaN</td>\n",
       "      <td>2.0</td>\n",
       "      <td>VMC</td>\n",
       "      <td>LANDING</td>\n",
       "      <td>Foreign</td>\n",
       "      <td>NaN</td>\n",
       "    </tr>\n",
       "    <tr>\n",
       "      <td>2</td>\n",
       "      <td>20161116X62135</td>\n",
       "      <td>Accident</td>\n",
       "      <td>CEN17LA041</td>\n",
       "      <td>13/11/2016</td>\n",
       "      <td>Port Allen, LA</td>\n",
       "      <td>United States</td>\n",
       "      <td>30.532500</td>\n",
       "      <td>-91.3150</td>\n",
       "      <td>LA46</td>\n",
       "      <td>OMNI</td>\n",
       "      <td>...</td>\n",
       "      <td>Personal</td>\n",
       "      <td>NaN</td>\n",
       "      <td>NaN</td>\n",
       "      <td>NaN</td>\n",
       "      <td>NaN</td>\n",
       "      <td>1.0</td>\n",
       "      <td>VMC</td>\n",
       "      <td>TAKEOFF</td>\n",
       "      <td>Preliminary</td>\n",
       "      <td>22/11/2016</td>\n",
       "    </tr>\n",
       "    <tr>\n",
       "      <td>3</td>\n",
       "      <td>20161114X41943</td>\n",
       "      <td>Accident</td>\n",
       "      <td>WPR17LA020</td>\n",
       "      <td>12/11/2016</td>\n",
       "      <td>Taylor, AZ</td>\n",
       "      <td>United States</td>\n",
       "      <td>34.454722</td>\n",
       "      <td>-110.0575</td>\n",
       "      <td>NaN</td>\n",
       "      <td>NaN</td>\n",
       "      <td>...</td>\n",
       "      <td>Instructional</td>\n",
       "      <td>NaN</td>\n",
       "      <td>NaN</td>\n",
       "      <td>NaN</td>\n",
       "      <td>NaN</td>\n",
       "      <td>2.0</td>\n",
       "      <td>VMC</td>\n",
       "      <td>MANEUVERING</td>\n",
       "      <td>Preliminary</td>\n",
       "      <td>22/11/2016</td>\n",
       "    </tr>\n",
       "    <tr>\n",
       "      <td>4</td>\n",
       "      <td>20161116X04207</td>\n",
       "      <td>Accident</td>\n",
       "      <td>CEN17LA039</td>\n",
       "      <td>12/11/2016</td>\n",
       "      <td>Pleasanton, TX</td>\n",
       "      <td>United States</td>\n",
       "      <td>NaN</td>\n",
       "      <td>NaN</td>\n",
       "      <td>NaN</td>\n",
       "      <td>NaN</td>\n",
       "      <td>...</td>\n",
       "      <td>Personal</td>\n",
       "      <td>NaN</td>\n",
       "      <td>NaN</td>\n",
       "      <td>1.0</td>\n",
       "      <td>NaN</td>\n",
       "      <td>1.0</td>\n",
       "      <td>VMC</td>\n",
       "      <td>NaN</td>\n",
       "      <td>Preliminary</td>\n",
       "      <td>16/11/2016</td>\n",
       "    </tr>\n",
       "  </tbody>\n",
       "</table>\n",
       "<p>5 rows × 31 columns</p>\n",
       "</div>"
      ],
      "text/plain": [
       "          EventID InvestigationType AccidentNumber   EventDate  \\\n",
       "0  20161117X64217          Accident     WPR17WA022  14/11/2016   \n",
       "1  20161116X13203          Accident     CEN17WA040  14/11/2016   \n",
       "2  20161116X62135          Accident     CEN17LA041  13/11/2016   \n",
       "3  20161114X41943          Accident     WPR17LA020  12/11/2016   \n",
       "4  20161116X04207          Accident     CEN17LA039  12/11/2016   \n",
       "\n",
       "              Location        Country   Latitude  Longitude AirportCode  \\\n",
       "0  Winton, New Zealand    New Zealand        NaN        NaN         NaN   \n",
       "1      Albrook, Panama         Panama        NaN        NaN        MPMG   \n",
       "2       Port Allen, LA  United States  30.532500   -91.3150        LA46   \n",
       "3           Taylor, AZ  United States  34.454722  -110.0575         NaN   \n",
       "4       Pleasanton, TX  United States        NaN        NaN         NaN   \n",
       "\n",
       "                AirportName  ... PurposeOfFlight AirCarrier  \\\n",
       "0                       NaN  ...             NaN        NaN   \n",
       "1  Marcos A. Gelabert Intl.  ...             NaN        NaN   \n",
       "2                      OMNI  ...        Personal        NaN   \n",
       "3                       NaN  ...   Instructional        NaN   \n",
       "4                       NaN  ...        Personal        NaN   \n",
       "\n",
       "  TotalFatalInjuries TotalSeriousInjuries TotalMinorInjuries TotalUninjured  \\\n",
       "0                NaN                  NaN                NaN            1.0   \n",
       "1                NaN                  NaN                NaN            2.0   \n",
       "2                NaN                  NaN                NaN            1.0   \n",
       "3                NaN                  NaN                NaN            2.0   \n",
       "4                NaN                  1.0                NaN            1.0   \n",
       "\n",
       "  WeatherCondition  BroadPhaseOfFlight ReportStatus PublicationDate  \n",
       "0              NaN         MANEUVERING      Foreign             NaN  \n",
       "1              VMC             LANDING      Foreign             NaN  \n",
       "2              VMC             TAKEOFF  Preliminary      22/11/2016  \n",
       "3              VMC         MANEUVERING  Preliminary      22/11/2016  \n",
       "4              VMC                 NaN  Preliminary      16/11/2016  \n",
       "\n",
       "[5 rows x 31 columns]"
      ]
     },
     "execution_count": 3,
     "metadata": {},
     "output_type": "execute_result"
    }
   ],
   "source": [
    "aviationdata.columns = ['EventID', 'InvestigationType', 'AccidentNumber', 'EventDate', 'Location', 'Country', 'Latitude',\n",
    "                       'Longitude', 'AirportCode', 'AirportName', 'InjurySeverity', 'AircraftDamage', 'AircraftCategory',\n",
    "                       'RegistrationNumber', 'Make', 'Model', 'AmateurBuilt', 'NumberOfEngines', 'EngineType', 'FARDescription'\n",
    "                       , 'Schedule', 'PurposeOfFlight', 'AirCarrier', 'TotalFatalInjuries', 'TotalSeriousInjuries',\n",
    "                       'TotalMinorInjuries', 'TotalUninjured', 'WeatherCondition', 'BroadPhaseOfFlight', 'ReportStatus',\n",
    "                       'PublicationDate']\n",
    "aviationdata.head()"
   ]
  },
  {
   "cell_type": "code",
   "execution_count": 4,
   "metadata": {},
   "outputs": [
    {
     "name": "stdout",
     "output_type": "stream",
     "text": [
      "EventID                  object\n",
      "InvestigationType        object\n",
      "AccidentNumber           object\n",
      "EventDate                object\n",
      "Location                 object\n",
      "Country                  object\n",
      "Latitude                float64\n",
      "Longitude               float64\n",
      "AirportCode              object\n",
      "AirportName              object\n",
      "InjurySeverity           object\n",
      "AircraftDamage           object\n",
      "AircraftCategory         object\n",
      "RegistrationNumber       object\n",
      "Make                     object\n",
      "Model                    object\n",
      "AmateurBuilt             object\n",
      "NumberOfEngines         float64\n",
      "EngineType               object\n",
      "FARDescription           object\n",
      "Schedule                 object\n",
      "PurposeOfFlight          object\n",
      "AirCarrier               object\n",
      "TotalFatalInjuries      float64\n",
      "TotalSeriousInjuries    float64\n",
      "TotalMinorInjuries      float64\n",
      "TotalUninjured          float64\n",
      "WeatherCondition         object\n",
      "BroadPhaseOfFlight       object\n",
      "ReportStatus             object\n",
      "PublicationDate          object\n",
      "dtype: object\n"
     ]
    }
   ],
   "source": [
    "print(aviationdata.dtypes)"
   ]
  },
  {
   "cell_type": "code",
   "execution_count": 5,
   "metadata": {},
   "outputs": [
    {
     "data": {
      "text/plain": [
       "(79141, 31)"
      ]
     },
     "execution_count": 5,
     "metadata": {},
     "output_type": "execute_result"
    }
   ],
   "source": [
    "# Check shape of data\n",
    "aviationdata.shape"
   ]
  },
  {
   "cell_type": "markdown",
   "metadata": {},
   "source": [
    "### Filling in null values\n",
    "> Only for important columns"
   ]
  },
  {
   "cell_type": "markdown",
   "metadata": {},
   "source": [
    "#### Fill in null values in WeatherCondition with 'UNK',  BroadPhaseOfFlight with 'UNKNOWN', AircraftDamage with 'Unknown', PurposeOfFlight with 'Unknown', EngineType with 'Unknown'"
   ]
  },
  {
   "cell_type": "code",
   "execution_count": 6,
   "metadata": {},
   "outputs": [],
   "source": [
    "aviationdata[\"WeatherCondition\"].fillna(\"UNK\", inplace = True)\n",
    "aviationdata[\"BroadPhaseOfFlight\"].fillna(\"UNKNOWN\", inplace = True) \n",
    "aviationdata[\"AircraftDamage\"].fillna(\"Unknown\", inplace = True) \n",
    "aviationdata[\"PurposeOfFlight\"].fillna(\"Unknown\", inplace = True) \n",
    "aviationdata[\"EngineType\"].fillna(\"Unknown\", inplace = True) "
   ]
  },
  {
   "cell_type": "markdown",
   "metadata": {},
   "source": [
    "#### Fill in null values in TotalFatalInjuries, TotalSeriousInjuries, TotalMinorInjuries, TotalUninjured with 0"
   ]
  },
  {
   "cell_type": "code",
   "execution_count": 7,
   "metadata": {},
   "outputs": [],
   "source": [
    "aviationdata[\"TotalFatalInjuries\"].fillna(value = 0, inplace = True) \n",
    "aviationdata[\"TotalSeriousInjuries\"].fillna(value = 0, inplace = True) \n",
    "aviationdata[\"TotalMinorInjuries\"].fillna(value = 0, inplace = True) \n",
    "aviationdata[\"TotalUninjured\"].fillna(value = 0, inplace = True) "
   ]
  },
  {
   "cell_type": "markdown",
   "metadata": {},
   "source": [
    "### Create new columns"
   ]
  },
  {
   "cell_type": "markdown",
   "metadata": {},
   "source": [
    "#### TotalInjuries = Fatal+Serious+Minor"
   ]
  },
  {
   "cell_type": "code",
   "execution_count": 8,
   "metadata": {},
   "outputs": [
    {
     "data": {
      "text/plain": [
       "0        0.0\n",
       "1        0.0\n",
       "2        0.0\n",
       "3        0.0\n",
       "4        0.0\n",
       "        ... \n",
       "79136    0.0\n",
       "79137    0.0\n",
       "79138    0.0\n",
       "79139    0.0\n",
       "79140    0.0\n",
       "Name: TotalMinorInjuries, Length: 79141, dtype: float64"
      ]
     },
     "execution_count": 8,
     "metadata": {},
     "output_type": "execute_result"
    }
   ],
   "source": [
    "aviationdata[\"TotalInjuries\"] = aviationdata[\"TotalFatalInjuries\"] + aviationdata[\"TotalSeriousInjuries\"] \n",
    "+ aviationdata[\"TotalMinorInjuries\"]"
   ]
  },
  {
   "cell_type": "markdown",
   "metadata": {},
   "source": [
    "#### Extract month out of EventDate"
   ]
  },
  {
   "cell_type": "code",
   "execution_count": 10,
   "metadata": {},
   "outputs": [
    {
     "ename": "AttributeError",
     "evalue": "Can only use .dt accessor with datetimelike values",
     "output_type": "error",
     "traceback": [
      "\u001b[1;31m---------------------------------------------------------------------------\u001b[0m",
      "\u001b[1;31mAttributeError\u001b[0m                            Traceback (most recent call last)",
      "\u001b[1;32m<ipython-input-10-1b5abb16e805>\u001b[0m in \u001b[0;36m<module>\u001b[1;34m\u001b[0m\n\u001b[1;32m----> 1\u001b[1;33m \u001b[0maviationdata\u001b[0m\u001b[1;33m[\u001b[0m\u001b[1;34m\"Month\"\u001b[0m\u001b[1;33m]\u001b[0m \u001b[1;33m=\u001b[0m \u001b[0maviationdata\u001b[0m\u001b[1;33m[\u001b[0m\u001b[1;34m\"EventDate\"\u001b[0m\u001b[1;33m]\u001b[0m\u001b[1;33m.\u001b[0m\u001b[0mdt\u001b[0m\u001b[1;33m.\u001b[0m\u001b[0mmonth\u001b[0m\u001b[1;33m\u001b[0m\u001b[1;33m\u001b[0m\u001b[0m\n\u001b[0m",
      "\u001b[1;32mD:\\ProgramData\\Anaconda3\\lib\\site-packages\\pandas\\core\\generic.py\u001b[0m in \u001b[0;36m__getattr__\u001b[1;34m(self, name)\u001b[0m\n\u001b[0;32m   5173\u001b[0m             \u001b[1;32mor\u001b[0m \u001b[0mname\u001b[0m \u001b[1;32min\u001b[0m \u001b[0mself\u001b[0m\u001b[1;33m.\u001b[0m\u001b[0m_accessors\u001b[0m\u001b[1;33m\u001b[0m\u001b[1;33m\u001b[0m\u001b[0m\n\u001b[0;32m   5174\u001b[0m         ):\n\u001b[1;32m-> 5175\u001b[1;33m             \u001b[1;32mreturn\u001b[0m \u001b[0mobject\u001b[0m\u001b[1;33m.\u001b[0m\u001b[0m__getattribute__\u001b[0m\u001b[1;33m(\u001b[0m\u001b[0mself\u001b[0m\u001b[1;33m,\u001b[0m \u001b[0mname\u001b[0m\u001b[1;33m)\u001b[0m\u001b[1;33m\u001b[0m\u001b[1;33m\u001b[0m\u001b[0m\n\u001b[0m\u001b[0;32m   5176\u001b[0m         \u001b[1;32melse\u001b[0m\u001b[1;33m:\u001b[0m\u001b[1;33m\u001b[0m\u001b[1;33m\u001b[0m\u001b[0m\n\u001b[0;32m   5177\u001b[0m             \u001b[1;32mif\u001b[0m \u001b[0mself\u001b[0m\u001b[1;33m.\u001b[0m\u001b[0m_info_axis\u001b[0m\u001b[1;33m.\u001b[0m\u001b[0m_can_hold_identifiers_and_holds_name\u001b[0m\u001b[1;33m(\u001b[0m\u001b[0mname\u001b[0m\u001b[1;33m)\u001b[0m\u001b[1;33m:\u001b[0m\u001b[1;33m\u001b[0m\u001b[1;33m\u001b[0m\u001b[0m\n",
      "\u001b[1;32mD:\\ProgramData\\Anaconda3\\lib\\site-packages\\pandas\\core\\accessor.py\u001b[0m in \u001b[0;36m__get__\u001b[1;34m(self, obj, cls)\u001b[0m\n\u001b[0;32m    173\u001b[0m             \u001b[1;31m# we're accessing the attribute of the class, i.e., Dataset.geo\u001b[0m\u001b[1;33m\u001b[0m\u001b[1;33m\u001b[0m\u001b[1;33m\u001b[0m\u001b[0m\n\u001b[0;32m    174\u001b[0m             \u001b[1;32mreturn\u001b[0m \u001b[0mself\u001b[0m\u001b[1;33m.\u001b[0m\u001b[0m_accessor\u001b[0m\u001b[1;33m\u001b[0m\u001b[1;33m\u001b[0m\u001b[0m\n\u001b[1;32m--> 175\u001b[1;33m         \u001b[0maccessor_obj\u001b[0m \u001b[1;33m=\u001b[0m \u001b[0mself\u001b[0m\u001b[1;33m.\u001b[0m\u001b[0m_accessor\u001b[0m\u001b[1;33m(\u001b[0m\u001b[0mobj\u001b[0m\u001b[1;33m)\u001b[0m\u001b[1;33m\u001b[0m\u001b[1;33m\u001b[0m\u001b[0m\n\u001b[0m\u001b[0;32m    176\u001b[0m         \u001b[1;31m# Replace the property with the accessor object. Inspired by:\u001b[0m\u001b[1;33m\u001b[0m\u001b[1;33m\u001b[0m\u001b[1;33m\u001b[0m\u001b[0m\n\u001b[0;32m    177\u001b[0m         \u001b[1;31m# http://www.pydanny.com/cached-property.html\u001b[0m\u001b[1;33m\u001b[0m\u001b[1;33m\u001b[0m\u001b[1;33m\u001b[0m\u001b[0m\n",
      "\u001b[1;32mD:\\ProgramData\\Anaconda3\\lib\\site-packages\\pandas\\core\\indexes\\accessors.py\u001b[0m in \u001b[0;36m__new__\u001b[1;34m(cls, data)\u001b[0m\n\u001b[0;32m    341\u001b[0m             \u001b[1;32mpass\u001b[0m  \u001b[1;31m# we raise an attribute error anyway\u001b[0m\u001b[1;33m\u001b[0m\u001b[1;33m\u001b[0m\u001b[0m\n\u001b[0;32m    342\u001b[0m \u001b[1;33m\u001b[0m\u001b[0m\n\u001b[1;32m--> 343\u001b[1;33m         \u001b[1;32mraise\u001b[0m \u001b[0mAttributeError\u001b[0m\u001b[1;33m(\u001b[0m\u001b[1;34m\"Can only use .dt accessor with datetimelike \"\u001b[0m \u001b[1;34m\"values\"\u001b[0m\u001b[1;33m)\u001b[0m\u001b[1;33m\u001b[0m\u001b[1;33m\u001b[0m\u001b[0m\n\u001b[0m",
      "\u001b[1;31mAttributeError\u001b[0m: Can only use .dt accessor with datetimelike values"
     ]
    }
   ],
   "source": [
    "aviationdata[\"EventDate\"] = pd.to_datetime(df['Date'], errors='coerce')\n",
    "aviationdata[\"Month\"] = aviationdata[\"EventDate\"].dt.month"
   ]
  },
  {
   "cell_type": "code",
   "execution_count": null,
   "metadata": {},
   "outputs": [],
   "source": [
    "aviationdata.describe()"
   ]
  },
  {
   "cell_type": "markdown",
   "metadata": {},
   "source": [
    "### Check for null values"
   ]
  },
  {
   "cell_type": "code",
   "execution_count": null,
   "metadata": {},
   "outputs": [],
   "source": [
    "print(aviationdata.isnull().any(), \"\\n\")"
   ]
  },
  {
   "cell_type": "markdown",
   "metadata": {},
   "source": [
    "### Extracting categorical data\n",
    "Converting object columns to category."
   ]
  },
  {
   "cell_type": "code",
   "execution_count": null,
   "metadata": {},
   "outputs": [],
   "source": [
    "for col in aviationdata:\n",
    "    if aviationdata[col].dtype == 'object':\n",
    "        aviationdata[col] = aviationdata[col].astype('category')"
   ]
  },
  {
   "cell_type": "code",
   "execution_count": null,
   "metadata": {},
   "outputs": [],
   "source": [
    "# Checking types\n",
    "print(aviationdata.dtypes)"
   ]
  },
  {
   "cell_type": "markdown",
   "metadata": {},
   "source": [
    "### Creating new dataset with needed columns"
   ]
  },
  {
   "cell_type": "code",
   "execution_count": null,
   "metadata": {},
   "outputs": [],
   "source": [
    "aviation = pd.DataFrame(aviationdata[[\"WeatherCondition\", \"BroadPhaseOfFlight\", \"AircraftDamage\", \"PurposeOfFlight\",\n",
    "                                     \"EngineType\", \"TotalFatalInjuries\", \"TotalSeriousInjuries\", \"TotalMinorInjuries\",\n",
    "                                     \"TotalUninjured\", \"TotalInjuries\", \"EventDate\", \"Month\"]])"
   ]
  },
  {
   "cell_type": "markdown",
   "metadata": {},
   "source": [
    "### Final Dataset"
   ]
  },
  {
   "cell_type": "code",
   "execution_count": null,
   "metadata": {},
   "outputs": [],
   "source": [
    "aviation"
   ]
  },
  {
   "cell_type": "markdown",
   "metadata": {},
   "source": [
    "### Export dataset as .csv file"
   ]
  },
  {
   "cell_type": "code",
   "execution_count": null,
   "metadata": {},
   "outputs": [],
   "source": [
    "aviation.to_csv(\"../Data/AviationFinal.csv\", index = 0)"
   ]
  },
  {
   "cell_type": "code",
   "execution_count": null,
   "metadata": {},
   "outputs": [],
   "source": []
  }
 ],
 "metadata": {
  "kernelspec": {
   "display_name": "Python 3",
   "language": "python",
   "name": "python3"
  },
  "language_info": {
   "codemirror_mode": {
    "name": "ipython",
    "version": 3
   },
   "file_extension": ".py",
   "mimetype": "text/x-python",
   "name": "python",
   "nbconvert_exporter": "python",
   "pygments_lexer": "ipython3",
   "version": "3.7.4"
  }
 },
 "nbformat": 4,
 "nbformat_minor": 2
}
